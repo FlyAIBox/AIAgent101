{
  "cells": [
    {
      "cell_type": "markdown",
      "metadata": {
        "id": "m13Z9rJHCicu"
      },
      "source": [
        "---\n",
        "title: 使用 Langfuse 监控 OpenAI 结构化输出\n",
        "description: 学习如何使用 Langfuse 来监控和追踪 OpenAI 的结构化输出功能\n",
        "category: 集成教程\n",
        "---"
      ]
    },
    {
      "cell_type": "markdown",
      "metadata": {
        "id": "yIyq5cb2GsrX"
      },
      "source": [
        "# 教程：使用 Langfuse 追踪 OpenAI 结构化输出\n",
        "\n",
        "在本教程中，您将学习如何使用 Langfuse 来监控和追踪 OpenAI 的结构化输出功能。\n",
        "\n",
        "## 什么是结构化输出？\n",
        "从非结构化输入生成结构化数据是当今人工智能的核心应用场景。结构化输出使得链式大语言模型调用、UI组件生成和基于模型的评估更加可靠。[结构化输出](https://openai.com/index/introducing-structured-outputs-in-the-api/) 是 OpenAI API 的一项新功能，它基于 JSON 模式和函数调用构建，能够在模型输出中强制执行严格的数据结构模式。\n",
        "\n",
        "**核心优势：**\n",
        "- 🎯 **可靠性**：确保模型输出严格遵循预定义的数据结构\n",
        "- 🔗 **链式调用**：使多个模型调用之间的数据传递更加稳定\n",
        "- 🎨 **UI生成**：为前端组件提供标准化的数据格式\n",
        "- 📊 **模型评估**：便于对模型输出进行自动化评估和分析\n",
        "\n",
        "## 如何在 Langfuse 中追踪结构化输出？\n",
        "如果您使用 OpenAI Python SDK，可以使用 [Langfuse 的直接替换方案](https://langfuse.com/integrations/model-providers/openai-py) 来获得完整的日志记录，只需更改导入语句即可。通过这种方式，您可以在 Langfuse 中监控 OpenAI 生成的结构化输出。\n",
        "\n",
        "**导入方式对比：**\n",
        "```diff\n",
        "- import openai                    # 原始导入方式\n",
        "+ from langfuse.openai import openai  # Langfuse 集成导入\n",
        "\n",
        "其他可选导入方式：\n",
        "+ from langfuse.openai import OpenAI, AsyncOpenAI, AzureOpenAI, AsyncAzureOpenAI\n",
        "```\n",
        "\n",
        "**重要说明：** 仅需修改导入语句，其余代码保持不变，即可自动获得完整的调用追踪和监控功能。\n",
        "\n"
      ]
    },
    {
      "cell_type": "markdown",
      "metadata": {
        "id": "hH5klZnTTzuq"
      },
      "source": [
        "## 步骤 1：初始化 Langfuse\n",
        "使用您从 Langfuse UI 项目设置中获取的 [API 密钥](https://langfuse.com/faq/all/where-are-langfuse-api-keys) 来初始化 Langfuse 客户端，并将它们添加到您的环境变量中。\n",
        "\n",
        "**配置说明：**\n",
        "- 🔑 **API 密钥**：从 Langfuse 控制台获取公钥和私钥\n",
        "- 🌍 **服务器地址**：选择合适的区域服务器（欧盟或美国）\n",
        "- 🤖 **OpenAI 密钥**：用于调用 OpenAI 的 API 服务"
      ]
    },
    {
      "cell_type": "code",
      "execution_count": null,
      "metadata": {
        "colab": {
          "base_uri": "https://localhost:8080/"
        },
        "collapsed": true,
        "id": "n11_vChnEdrg",
        "outputId": "9c5c1aad-380d-4950-ae30-7d033deef0a9"
      },
      "outputs": [],
      "source": [
        "# 安装必要的依赖包\n",
        "# langfuse: 用于模型调用追踪和监控的工具\n",
        "# openai: OpenAI 官方 Python SDK\n",
        "# --upgrade: 确保安装最新版本\n",
        "%pip install langfuse openai --upgrade"
      ]
    },
    {
      "cell_type": "code",
      "execution_count": 4,
      "metadata": {
        "id": "79Cu3eLlEOCA"
      },
      "outputs": [],
      "source": [
        "import os\n",
        "\n",
        "# 配置环境变量 - 这些密钥用于身份验证和服务访问\n",
        "# 从项目设置页面获取您的项目密钥：https://cloud.langfuse.com\n",
        "\n",
        "# Langfuse 公钥 - 用于标识您的项目（可以公开）\n",
        "os.environ[\"LANGFUSE_PUBLIC_KEY\"] = \"\"\n",
        "\n",
        "# Langfuse 私钥 - 用于身份验证（需要保密）\n",
        "os.environ[\"LANGFUSE_SECRET_KEY\"] = \"\"\n",
        "\n",
        "# Langfuse 服务器地址 - 选择离您最近的区域以获得更好的性能\n",
        "os.environ[\"LANGFUSE_HOST\"] = \"https://cloud.langfuse.com\"  # 🇪🇺 欧盟区域\n",
        "# os.environ[\"LANGFUSE_HOST\"] = \"https://us.cloud.langfuse.com\"  # 🇺🇸 美国区域\n",
        "\n",
        "# OpenAI API 密钥 - 用于调用 OpenAI 的模型服务\n",
        "# 从 https://platform.openai.com/api-keys 获取\n",
        "os.environ[\"OPENAI_API_KEY\"] = \"\""
      ]
    },
    {
      "cell_type": "markdown",
      "metadata": {
        "id": "eK8oTvWHMaTx"
      },
      "source": [
        "## 步骤 2：数学辅导示例\n",
        "\n",
        "在这个示例中，我们将构建一个数学辅导工具，它将解决数学问题的步骤输出为结构化对象数组。\n",
        "\n",
        "**应用场景：**\n",
        "- 📚 **教育应用**：为学生提供逐步解题指导\n",
        "- 🎯 **个性化学习**：用户可以按自己的节奏逐步学习解题过程\n",
        "- 🔍 **步骤追踪**：每个解题步骤都可以单独显示和分析\n",
        "- 💡 **交互式学习**：支持用户在任意步骤暂停和思考\n",
        "\n",
        "这种设置对于需要将每个步骤单独显示的应用程序非常有用，允许用户按照自己的节奏逐步学习解题过程。\n",
        "\n",
        "（示例改编自 [OpenAI cookbook](https://cookbook.openai.com/examples/structured_outputs_intro)）"
      ]
    },
    {
      "cell_type": "markdown",
      "metadata": {},
      "source": [
        "**重要提示：** 虽然 OpenAI 也通过其测试版 API (`client.beta.chat.completions.parse`) 提供结构化输出解析功能，但这种方法目前不允许设置 Langfuse 特定的属性，如 `name`、`metadata`、`userId` 等。请使用下面描述的标准 `client.chat.completions.create` 方法配合 `response_format` 参数的方式。\n",
        "\n",
        "**两种方法对比：**\n",
        "- ✅ **推荐方式**：`client.chat.completions.create` + `response_format` - 支持完整的 Langfuse 追踪功能\n",
        "- ⚠️ **限制方式**：`client.beta.chat.completions.parse` - 功能受限，无法设置追踪属性"
      ]
    },
    {
      "cell_type": "code",
      "execution_count": 5,
      "metadata": {
        "id": "8IZjc893Ef1c"
      },
      "outputs": [],
      "source": [
        "# 使用 Langfuse 的直接替换方案，仅通过更改导入即可获得完整的日志记录功能\n",
        "# 这样，您就可以在 Langfuse 中监控 OpenAI 生成的结构化输出\n",
        "from langfuse.openai import OpenAI\n",
        "import json  # 用于处理 JSON 数据的标准库\n",
        "\n",
        "# 指定要使用的 OpenAI 模型\n",
        "# gpt-4o-2024-08-06 是支持结构化输出的最新模型版本\n",
        "openai_model = \"gpt-4o-2024-08-06\"\n",
        "\n",
        "# 创建 OpenAI 客户端实例\n",
        "# 这个客户端会自动集成 Langfuse 的追踪功能\n",
        "client = OpenAI()"
      ]
    },
    {
      "cell_type": "markdown",
      "metadata": {
        "id": "YV7nfCKqV-FS"
      },
      "source": [
        "在 `response_format` 参数中，您现在可以通过 `json_schema` 提供 JSON Schema。当使用 `response_format` 并设置 `strict: true` 时，模型的输出将严格遵循提供的模式。\n",
        "\n",
        "**关键概念解释：**\n",
        "- 📋 **JSON Schema**：定义数据结构的标准格式，类似于数据的\"蓝图\"\n",
        "- 🔒 **strict: true**：启用严格模式，确保输出100%符合定义的结构\n",
        "- ✅ **结构保证**：模型输出将始终包含所需的字段和数据类型\n",
        "\n",
        "函数调用保持类似的方式，但通过新的参数 `strict: true`，您现在可以确保为函数提供的模式得到严格遵循。"
      ]
    },
    {
      "cell_type": "code",
      "execution_count": 6,
      "metadata": {
        "id": "iKWRHCjVF55-"
      },
      "outputs": [],
      "source": [
        "# 定义数学辅导的系统提示词\n",
        "# 这个提示词告诉模型如何扮演数学老师的角色\n",
        "math_tutor_prompt = '''\n",
        "    你是一个有用的数学辅导老师。你将收到一个数学问题，\n",
        "    你的目标是输出逐步解决方案以及最终答案。\n",
        "    对于每个步骤，只需提供输出作为方程式，使用解释字段详细说明推理过程。\n",
        "'''\n",
        "\n",
        "def get_math_solution(question):\n",
        "    \"\"\"\n",
        "    获取数学问题的结构化解决方案\n",
        "    \n",
        "    参数:\n",
        "        question (str): 要解决的数学问题\n",
        "    \n",
        "    返回:\n",
        "        包含逐步解决方案的结构化响应\n",
        "    \"\"\"\n",
        "    # 调用 OpenAI API 创建聊天完成请求\n",
        "    # 使用结构化输出确保返回格式符合预定义的 JSON Schema\n",
        "    response = client.chat.completions.create(\n",
        "    model = openai_model,  # 指定使用的模型版本\n",
        "    messages=[\n",
        "        {\n",
        "            # 系统消息：定义AI助手的角色和行为规范\n",
        "            \"role\": \"system\",\n",
        "            \"content\": math_tutor_prompt\n",
        "        },\n",
        "        {\n",
        "            # 用户消息：包含具体的数学问题\n",
        "            \"role\": \"user\",\n",
        "            \"content\": question\n",
        "        }\n",
        "    ],\n",
        "    # 定义响应格式 - 这是结构化输出的核心配置\n",
        "    response_format={\n",
        "        # 指定使用 JSON Schema 来定义输出结构\n",
        "        \"type\": \"json_schema\",\n",
        "        \"json_schema\": {\n",
        "            # Schema 的名称，用于标识这个特定的数据结构\n",
        "            \"name\": \"math_reasoning\",\n",
        "            # 定义具体的数据结构模式\n",
        "            \"schema\": {\n",
        "                # 根对象类型\n",
        "                \"type\": \"object\",\n",
        "                # 定义对象的属性\n",
        "                \"properties\": {\n",
        "                    # steps: 解题步骤数组\n",
        "                    \"steps\": {\n",
        "                        \"type\": \"array\",  # 数组类型\n",
        "                        # 数组中每个元素的结构\n",
        "                        \"items\": {\n",
        "                            \"type\": \"object\",  # 每个步骤是一个对象\n",
        "                            \"properties\": {\n",
        "                                # 解释字段：说明这一步的推理过程\n",
        "                                \"explanation\": {\"type\": \"string\"},\n",
        "                                # 输出字段：这一步的数学表达式或结果\n",
        "                                \"output\": {\"type\": \"string\"}\n",
        "                            },\n",
        "                            # 必需字段：每个步骤都必须包含解释和输出\n",
        "                            \"required\": [\"explanation\", \"output\"],\n",
        "                            # 不允许额外属性，确保结构严格\n",
        "                            \"additionalProperties\": False\n",
        "                        }\n",
        "                    },\n",
        "                    # final_answer: 最终答案\n",
        "                    \"final_answer\": {\"type\": \"string\"}\n",
        "                },\n",
        "                # 根对象的必需字段\n",
        "                \"required\": [\"steps\", \"final_answer\"],\n",
        "                # 不允许额外属性\n",
        "                \"additionalProperties\": False\n",
        "            },\n",
        "            # 启用严格模式：确保输出100%符合定义的结构\n",
        "            \"strict\": True\n",
        "        }\n",
        "    }\n",
        "    )\n",
        "\n",
        "    # 返回模型生成的消息内容\n",
        "    # choices[0] 表示选择第一个（通常也是唯一的）响应\n",
        "    return response.choices[0].message"
      ]
    },
    {
      "cell_type": "code",
      "execution_count": 7,
      "metadata": {
        "colab": {
          "base_uri": "https://localhost:8080/"
        },
        "id": "Qn9N-utqINy_",
        "outputId": "2510cbb4-1784-4fcf-c7f5-ead1de58abfe"
      },
      "outputs": [
        {
          "name": "stdout",
          "output_type": "stream",
          "text": [
            "{\"steps\":[{\"explanation\":\"We need to isolate the term with the variable, 8x. So, we start by subtracting 7 from both sides to remove the constant term on the left side.\",\"output\":\"8x + 7 - 7 = -23 - 7\"},{\"explanation\":\"The +7 and -7 on the left side cancel each other out, leaving us with 8x. The right side simplifies to -30.\",\"output\":\"8x = -30\"},{\"explanation\":\"To solve for x, divide both sides of the equation by 8, which is the coefficient of x.\",\"output\":\"x = -30 / 8\"},{\"explanation\":\"Simplify the fraction -30/8 by finding the greatest common divisor, which is 2.\",\"output\":\"x = -15 / 4\"}],\"final_answer\":\"x = -15/4\"}\n"
          ]
        }
      ],
      "source": [
        "# 使用示例问题进行测试\n",
        "# 这是一个一元一次方程，适合演示逐步解题过程\n",
        "question = \"如何解这个方程：8x + 7 = -23\"\n",
        "\n",
        "# 调用我们定义的函数获取结构化解决方案\n",
        "result = get_math_solution(question)\n",
        "\n",
        "# 打印原始的 JSON 格式响应内容\n",
        "# 这展示了模型返回的结构化数据\n",
        "print(\"原始 JSON 响应:\")\n",
        "print(result.content)"
      ]
    },
    {
      "cell_type": "code",
      "execution_count": 8,
      "metadata": {
        "colab": {
          "base_uri": "https://localhost:8080/",
          "height": 456
        },
        "id": "mAwEts-hCA73",
        "outputId": "9101c8ff-7b83-4ae6-f6c0-0da6a45ab251"
      },
      "outputs": [
        {
          "name": "stdout",
          "output_type": "stream",
          "text": [
            "Step 1: We need to isolate the term with the variable, 8x. So, we start by subtracting 7 from both sides to remove the constant term on the left side.\n",
            "\n",
            "8x + 7 - 7 = -23 - 7\n",
            "\n",
            "\n",
            "Step 2: The +7 and -7 on the left side cancel each other out, leaving us with 8x. The right side simplifies to -30.\n",
            "\n",
            "8x = -30\n",
            "\n",
            "\n",
            "Step 3: To solve for x, divide both sides of the equation by 8, which is the coefficient of x.\n",
            "\n",
            "x = -30 / 8\n",
            "\n",
            "\n",
            "Step 4: Simplify the fraction -30/8 by finding the greatest common divisor, which is 2.\n",
            "\n",
            "x = -15 / 4\n",
            "\n",
            "\n",
            "Final answer:\n",
            "\n",
            "\n",
            "x = -15/4\n"
          ]
        }
      ],
      "source": [
        "# 逐步打印解题结果 - 展示如何处理结构化输出\n",
        "\n",
        "# 将 JSON 字符串解析为 Python 字典\n",
        "# 这展示了结构化输出的一个重要优势：数据格式可预测且易于处理\n",
        "result = json.loads(result.content)\n",
        "\n",
        "# 提取解题步骤数组和最终答案\n",
        "steps = result['steps']\n",
        "final_answer = result['final_answer']\n",
        "\n",
        "# 遍历每个解题步骤并格式化输出\n",
        "for i in range(len(steps)):\n",
        "    # 打印步骤编号和解释\n",
        "    print(f\"步骤 {i+1}: {steps[i]['explanation']}\\n\")\n",
        "    # 打印该步骤的数学表达式\n",
        "    print(steps[i]['output'])\n",
        "    print(\"\\n\")\n",
        "\n",
        "# 打印最终答案\n",
        "print(\"最终答案:\\n\\n\")\n",
        "print(final_answer)"
      ]
    },
    {
      "cell_type": "markdown",
      "metadata": {
        "id": "KBoP_eEfLGMb"
      },
      "source": [
        "## 步骤 3：在 Langfuse 中查看您的追踪记录\n",
        "\n",
        "现在您可以在 Langfuse 中查看追踪记录和 JSON Schema。\n",
        "\n",
        "**Langfuse 追踪功能的价值：**\n",
        "- 📊 **完整记录**：记录每次 API 调用的详细信息\n",
        "- 🔍 **结构分析**：可视化展示 JSON Schema 和实际输出\n",
        "- ⏱️ **性能监控**：追踪响应时间和 token 使用情况\n",
        "- 🐛 **调试支持**：帮助识别和解决问题\n",
        "- 📈 **使用统计**：分析模型使用模式和成本\n",
        "\n",
        "[Langfuse 中的示例追踪记录](https://cloud.langfuse.com/project/cloramnkj0002jz088vzn1ja4/traces/3ecc3849-66c9-4eaf-b26b-bde26b7eebed)"
      ]
    },
    {
      "cell_type": "markdown",
      "metadata": {
        "id": "xhY0etZVU33V"
      },
      "source": [
        "![在 Langfuse UI 中查看示例追踪记录](https://langfuse.com/images/cookbook/integration-openai-structured-outputs-tracing.png)\n",
        "\n",
        "**图片说明：** 上图展示了 Langfuse 界面中的追踪记录，您可以看到：\n",
        "- 🔄 **调用流程**：完整的 API 调用链路\n",
        "- 📝 **输入输出**：系统提示、用户问题和模型响应\n",
        "- 📊 **结构化数据**：JSON Schema 和实际输出的对比\n",
        "- ⏱️ **性能指标**：响应时间、token 消耗等关键指标"
      ]
    },
    {
      "cell_type": "markdown",
      "metadata": {},
      "source": [
        "## 替代方案：使用 SDK 的 `parse` 辅助方法\n",
        "\n",
        "新版本的 SDK 添加了 `parse` 辅助方法，允许您使用自己的 Pydantic 模型而无需定义 JSON Schema。\n",
        "\n",
        "**Pydantic 方法的优势：**\n",
        "- 🐍 **Python 原生**：使用 Python 类定义数据结构，更符合 Python 开发习惯\n",
        "- 🔧 **类型检查**：提供更好的 IDE 支持和类型提示\n",
        "- 📝 **简洁语法**：相比 JSON Schema，代码更简洁易读\n",
        "- ✅ **自动验证**：Pydantic 提供强大的数据验证功能\n",
        "\n",
        "**注意：** 这种方法目前在 Langfuse 追踪中的功能可能有限。"
      ]
    },
    {
      "cell_type": "code",
      "execution_count": 9,
      "metadata": {},
      "outputs": [],
      "source": [
        "# 导入 Pydantic 用于定义数据模型\n",
        "# Pydantic 是 Python 中最流行的数据验证库\n",
        "from pydantic import BaseModel\n",
        "\n",
        "# 定义数学推理的数据模型\n",
        "class MathReasoning(BaseModel):\n",
        "    \"\"\"数学推理结果的数据模型\"\"\"\n",
        "    \n",
        "    # 内嵌类定义单个解题步骤的结构\n",
        "    class Step(BaseModel):\n",
        "        \"\"\"单个解题步骤的数据模型\"\"\"\n",
        "        explanation: str  # 解释说明：描述这一步的推理过程\n",
        "        output: str       # 输出结果：这一步的数学表达式或计算结果\n",
        "\n",
        "    # 主模型的字段定义\n",
        "    steps: list[Step]    # 解题步骤列表：包含所有解题步骤\n",
        "    final_answer: str    # 最终答案：问题的最终解答\n",
        "\n",
        "def get_math_solution(question: str):\n",
        "    \"\"\"\n",
        "    使用 Pydantic 模型获取数学问题的结构化解决方案\n",
        "    \n",
        "    参数:\n",
        "        question (str): 要解决的数学问题\n",
        "    \n",
        "    返回:\n",
        "        包含解析后的结构化数据的响应\n",
        "    \"\"\"\n",
        "    # 使用 beta API 的 parse 方法\n",
        "    # 这个方法会自动将 Pydantic 模型转换为 JSON Schema\n",
        "    response = client.beta.chat.completions.parse(\n",
        "        model=openai_model,  # 指定模型\n",
        "        messages=[\n",
        "            # 系统消息：定义AI的角色\n",
        "            {\"role\": \"system\", \"content\": math_tutor_prompt},\n",
        "            # 用户消息：具体的数学问题\n",
        "            {\"role\": \"user\", \"content\": question},\n",
        "        ],\n",
        "        # 直接传入 Pydantic 模型类，SDK 会自动处理转换\n",
        "        response_format=MathReasoning,\n",
        "    )\n",
        "\n",
        "    # 返回响应消息\n",
        "    # 注意：使用 .parsed 属性可以直接获取解析后的 Pydantic 对象\n",
        "    return response.choices[0].message"
      ]
    },
    {
      "cell_type": "code",
      "execution_count": 10,
      "metadata": {},
      "outputs": [
        {
          "name": "stdout",
          "output_type": "stream",
          "text": [
            "[Step(explanation='To isolate the term with the variable on one side of the equation, start by subtracting 7 from both sides.', output='8x = -23 - 7'), Step(explanation='Combine like terms on the right side to simplify the equation.', output='8x = -30'), Step(explanation='Divide both sides by 8 to solve for x.', output='x = -30 / 8'), Step(explanation='Simplify the fraction by dividing both the numerator and the denominator by their greatest common divisor, which is 2.', output='x = -15 / 4')]\n",
            "Final answer:\n",
            "x = -15/4\n"
          ]
        }
      ],
      "source": [
        "# 调用函数并获取解析后的 Pydantic 对象\n",
        "# .parsed 属性直接返回类型化的 Python 对象，而不是 JSON 字符串\n",
        "result = get_math_solution(question).parsed\n",
        "\n",
        "# 打印解题步骤 - 这里 result.steps 是 Step 对象的列表\n",
        "print(\"解题步骤:\")\n",
        "print(result.steps)\n",
        "\n",
        "# 打印最终答案 - 直接访问对象属性\n",
        "print(\"\\n最终答案:\")\n",
        "print(result.final_answer)"
      ]
    },
    {
      "cell_type": "markdown",
      "metadata": {},
      "source": [
        "## 在 Langfuse 中查看您的追踪记录\n",
        "\n",
        "现在您可以在 Langfuse 中查看追踪记录和您提供的 Pydantic 模型。\n",
        "\n",
        "**Pydantic 方法的追踪特点：**\n",
        "- 🏗️ **模型结构**：显示 Pydantic 模型的类定义和字段类型\n",
        "- 🔄 **自动转换**：展示从 Pydantic 到 JSON Schema 的自动转换过程\n",
        "- 📊 **类型信息**：保留完整的 Python 类型注解信息\n",
        "\n",
        "[Langfuse 中的 Pydantic 示例追踪记录](https://cloud.langfuse.com/project/cloramnkj0002jz088vzn1ja4/traces/59c4376a-c8eb-4ecb-8780-2f028b87e7eb)"
      ]
    },
    {
      "cell_type": "markdown",
      "metadata": {},
      "source": [
        "![在 Langfuse UI 中查看 Pydantic 方法的追踪记录](https://langfuse.com/images/cookbook/integration_openai_structured_outputs_tracing_parse.png)\n",
        "\n",
        "**图片说明：** 上图展示了使用 Pydantic 方法时的 Langfuse 追踪界面，您可以看到：\n",
        "- 🐍 **Pydantic 模型**：完整的类定义和字段类型信息\n",
        "- 🔄 **Schema 转换**：自动生成的 JSON Schema\n",
        "- 📝 **类型安全**：强类型的数据结构和验证\n",
        "- ⚡ **开发效率**：更简洁的代码和更好的 IDE 支持"
      ]
    },
    {
      "cell_type": "markdown",
      "metadata": {
        "id": "UFWiSfqtEdJO"
      },
      "source": [
        "## 反馈与支持\n",
        "\n",
        "如果您有任何反馈或请求，请创建 GitHub [Issue](https://langfuse.com/issue) 或在 [Discord](https://langfuse.com/discord) 上与社区分享您的想法。\n",
        "\n",
        "**学习总结：**\n",
        "通过本教程，您学会了：\n",
        "- 🎯 **结构化输出**：如何使用 OpenAI 的结构化输出功能确保数据格式的一致性\n",
        "- 📊 **监控追踪**：如何使用 Langfuse 监控和分析 AI 模型的调用过程\n",
        "- 🔧 **两种方法**：JSON Schema 和 Pydantic 两种定义数据结构的方式\n",
        "- 💡 **实际应用**：数学辅导场景中的逐步解题展示\n",
        "\n",
        "**下一步建议：**\n",
        "- 尝试在您自己的项目中集成 Langfuse 追踪功能\n",
        "- 探索更复杂的数据结构和验证规则\n",
        "- 使用 Langfuse 的分析功能优化您的 AI 应用性能"
      ]
    }
  ],
  "metadata": {
    "colab": {
      "provenance": []
    },
    "kernelspec": {
      "display_name": "Python 3",
      "name": "python3"
    },
    "language_info": {
      "codemirror_mode": {
        "name": "ipython",
        "version": 3
      },
      "file_extension": ".py",
      "mimetype": "text/x-python",
      "name": "python",
      "nbconvert_exporter": "python",
      "pygments_lexer": "ipython3",
      "version": "3.9.18"
    }
  },
  "nbformat": 4,
  "nbformat_minor": 0
}
