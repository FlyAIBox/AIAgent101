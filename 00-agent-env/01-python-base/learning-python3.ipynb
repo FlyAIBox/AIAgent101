{
 "cells": [
  {
   "cell_type": "markdown",
   "metadata": {
    "colab_type": "text",
    "id": "view-in-github"
   },
   "source": [
    "<a href=\"https://colab.research.google.com/github/FlyAIBox/LLM-101/blob/main/chapter01-llm-env/python-base/learning-python3.ipynb\" target=\"_parent\"><img src=\"https://colab.research.google.com/assets/colab-badge.svg\" alt=\"Open In Colab\"/></a>"
   ]
  },
  {
   "cell_type": "markdown",
   "metadata": {
    "deletable": true,
    "editable": true,
    "id": "iSWRfsFqU26M"
   },
   "source": [
    "# Python 3 基础学习教程 - 面向大模型技术初学者\n",
    "\n",
    "> **教程说明**：本教程专为大模型（LLM）技术初学者设计，涵盖Python编程的核心概念，并结合大模型开发中的实际应用场景。\n",
    "\n",
    "\n",
    "## Jupyter Notebook 使用指南\n",
    "\n",
    "### 基本操作\n",
    "当你在 Jupyter notebook 中编辑单元格时，需要按 **`<Shift> + <Enter>`** 重新运行单元格。这将使你所做的更改对其他单元格可用。\n",
    "\n",
    "使用 **`<Enter>`** 在你正在编辑的单元格内创建新行。\n",
    "\n",
    "### 单元格类型\n",
    "\n",
    "#### 代码单元格（Code Cell）\n",
    "- 重新运行将执行你编写的任何Python语句\n",
    "- 要编辑现有的代码单元格，请点击它\n",
    "- 代码执行结果会显示在单元格下方\n",
    "\n",
    "#### Markdown 单元格（Markdown Cell）\n",
    "- 重新运行将渲染 markdown 文本\n",
    "- 要编辑现有的 markdown 单元格，请双击它\n",
    "- 用于编写说明文档和教程内容\n",
    "\n",
    "---\n",
    "\n",
    "## 大模型技术中的Python重要性\n",
    "\n",
    "在大模型（LLM）开发中，Python是最主要的编程语言。掌握Python基础对于：\n",
    "- **API调用**：与OpenAI、Claude等大模型服务交互\n",
    "- **数据处理**：处理文本、JSON、CSV等格式数据\n",
    "- **提示词工程**：构建和优化提示词模板\n",
    "- **Agent开发**：创建智能代理和自动化工具\n",
    "- **RAG系统**：构建检索增强生成系统\n",
    "\n",
    "<hr>"
   ]
  },
  {
   "cell_type": "markdown",
   "metadata": {
    "deletable": true,
    "editable": true,
    "id": "mu9dIeWbU26S"
   },
   "source": [
    "## Jupyter Notebook 常用操作指南\n",
    "\n",
    "![Jupyter Notebook](https://cdn.jsdelivr.net/gh/Fly0905/note-picture@main/imag/202509151439200.png)\n",
    "\n",
    "在 Jupyter notebook 窗口顶部附近，有一行菜单选项（`文件`、`编辑`、`查看`、`运行` 等）和一行工具栏图标（保存、添加单元格、剪切、复制、粘贴、运行等）。\n",
    "\n",
    "### 单元格管理\n",
    "\n",
    "#### 插入和删除单元格\n",
    "- 使用\"加号\"图标在当前选中的单元格下方插入新单元格\n",
    "- 使用菜单中的\"插入\" -> \"在上方插入单元格\"在上方插入\n",
    "- 使用\"删除\"按钮或键盘快捷键删除选中的单元格\n",
    "\n",
    "#### 清除输出和重启内核\n",
    "- 使用菜单中的\"内核\" -> \"重启\"重启Python内核\n",
    "- 点击\"清除所有输出并重启\"清除所有输出结果\n",
    "- 使用\"内核\" -> \"中断\"停止正在运行的代码\n",
    "\n",
    "#### 保存和下载笔记本\n",
    "- 使用\"文件\" -> \"保存\"或Ctrl+S保存当前笔记本\n",
    "- 使用\"文件\" -> \"下载为\" -> \"IPython Notebook (.ipynb)\"下载笔记本文件\n",
    "- 支持多种格式导出：HTML、PDF、Python脚本等\n",
    "\n",
    "### 大模型开发中的最佳实践\n",
    "- **定期保存**：在编写大模型相关代码时，经常保存避免数据丢失\n",
    "- **分步执行**：将复杂的API调用分解为多个单元格，便于调试\n",
    "- **注释详细**：为每个代码块添加清晰的注释，说明其在大模型工作流中的作用\n",
    "\n",
    "<hr>"
   ]
  },
  {
   "cell_type": "markdown",
   "metadata": {
    "deletable": true,
    "editable": true,
    "id": "pu7CvWXCU26U"
   },
   "source": [
    "## 学习资源与参考资料\n",
    "\n",
    "### Python 官方文档\n",
    "- [Python 3 官方教程](https://docs.python.org/3/tutorial/index.html) - Python官方入门教程\n",
    "- [Python 3 语言参考](https://docs.python.org/3/reference/index.html) - 完整的语言规范\n",
    "- [Python 标准库](https://docs.python.org/3/library/index.html) - 内置模块和函数\n",
    "\n",
    "### Jupyter Notebook 相关\n",
    "- [Jupyter Notebook 官方文档](https://jupyter-notebook.readthedocs.io/en/latest/notebook.html)\n",
    "- [MyBinder 使用指南](https://mybinder.readthedocs.io/en/latest/introduction.html)\n",
    "- [Markdown 语法参考](https://daringfireball.net/projects/markdown/syntax)\n",
    "\n",
    "### 大模型技术相关资源\n",
    "- [OpenAI API 文档](https://platform.openai.com/docs) - OpenAI API 使用指南\n",
    "- [Hugging Face Transformers](https://huggingface.co/docs/transformers) - 预训练模型库\n",
    "- [LangChain 文档](https://python.langchain.com/) - 大模型应用开发框架\n",
    "- [FastAPI 文档](https://fastapi.tiangolo.com/) - 构建API服务的现代框架\n",
    "\n",
    "### 推荐学习路径\n",
    "1. **Python基础** → 2. **数据处理** → 3. **API调用** → 4. **大模型集成** → 5. **项目实战**\n",
    "\n",
    "<hr>"
   ]
  },
  {
   "cell_type": "markdown",
   "metadata": {
    "id": "2iPt6FdCXPiA",
    "jp-MarkdownHeadingCollapsed": true
   },
   "source": [
    "## 服务器环境信息检查🔧\n",
    "\n",
    "在开始部署模型之前，我们需要了解当前的运行环境。这个步骤非常重要，因为：\n",
    "\n",
    "### 🎯 检查目的\n",
    "1. **硬件确认**: 确保有足够的 GPU 显存运行模型\n",
    "2. **系统兼容**: 验证操作系统和 Python 版本\n",
    "3. **资源评估**: 了解可用的 CPU、内存和存储空间\n",
    "4. **环境配置**: 检查 CUDA 版本和相关依赖\n",
    "\n",
    "### 📊 检查内容\n",
    "- **操作系统**: Linux 发行版和版本\n",
    "- **CPU 信息**: 处理器型号和核心数\n",
    "- **内存状态**: 总内存和可用内存\n",
    "- **GPU 配置**: 显卡型号和显存大小\n",
    "- **CUDA 版本**: 深度学习框架支持\n",
    "- **Python 环境**: 解释器版本\n",
    "- **磁盘空间**: 可用存储空间"
   ]
  },
  {
   "cell_type": "code",
   "execution_count": 1,
   "metadata": {
    "colab": {
     "base_uri": "https://localhost:8080/"
    },
    "id": "U9JA7pcgXT-L",
    "outputId": "4d37fca3-8318-4126-9492-d878c2b0ae81"
   },
   "outputs": [
    {
     "name": "stdout",
     "output_type": "stream",
     "text": [
      "Looking in indexes: https://pypi.tuna.tsinghua.edu.cn/simple\n",
      "Requirement already satisfied: pandas==2.2.2 in /root/miniconda3/envs/agent101/lib/python3.10/site-packages (2.2.2)\n",
      "Requirement already satisfied: numpy>=1.22.4 in /root/miniconda3/envs/agent101/lib/python3.10/site-packages (from pandas==2.2.2) (2.2.6)\n",
      "Requirement already satisfied: python-dateutil>=2.8.2 in /root/miniconda3/envs/agent101/lib/python3.10/site-packages (from pandas==2.2.2) (2.9.0.post0)\n",
      "Requirement already satisfied: pytz>=2020.1 in /root/miniconda3/envs/agent101/lib/python3.10/site-packages (from pandas==2.2.2) (2025.2)\n",
      "Requirement already satisfied: tzdata>=2022.7 in /root/miniconda3/envs/agent101/lib/python3.10/site-packages (from pandas==2.2.2) (2025.2)\n",
      "Requirement already satisfied: six>=1.5 in /root/miniconda3/envs/agent101/lib/python3.10/site-packages (from python-dateutil>=2.8.2->pandas==2.2.2) (1.17.0)\n",
      "\u001b[33mWARNING: Running pip as the 'root' user can result in broken permissions and conflicting behaviour with the system package manager, possibly rendering your system unusable. It is recommended to use a virtual environment instead: https://pip.pypa.io/warnings/venv. Use the --root-user-action option if you know what you are doing and want to suppress this warning.\u001b[0m\u001b[33m\n",
      "\u001b[0m### 环境信息\n",
      "| 项目         | 信息                                                                               |\n",
      "|:-------------|:-----------------------------------------------------------------------------------|\n",
      "| 操作系统     | Linux Ubuntu 22.04.4 LTS                                                           |\n",
      "| CPU 信息     | 11th Gen Intel(R) Core(TM) i5-1135G7 @ 2.40GHz (1 physical cores, 2 logical cores) |\n",
      "| 内存信息     | 3.78 GB (Available: 2.56 GB)                                                       |\n",
      "| GPU 信息     | No GPU found (nvidia-smi not found)                                                |\n",
      "| CUDA 信息    | CUDA not found                                                                     |\n",
      "| Python 版本  | 3.10.18                                                                            |\n",
      "| Conda 版本   | conda 24.4.0                                                                       |\n",
      "| 物理磁盘空间 | Total: 56.91 GB, Used: 13.97 GB, Free: 40.32 GB                                    |\n"
     ]
    }
   ],
   "source": [
    "# 🔍 环境信息检查脚本\n",
    "#\n",
    "# 本脚本的作用：\n",
    "# 1. 安装 pandas 库用于数据表格展示\n",
    "# 2. 检查系统的各项配置信息\n",
    "# 3. 生成详细的环境报告表格\n",
    "#\n",
    "# 对于初学者来说，这个步骤帮助你：\n",
    "# - 了解当前运行环境的硬件配置\n",
    "# - 确认是否满足模型运行的最低要求\n",
    "# - 学习如何通过代码获取系统信息\n",
    "\n",
    "# 安装 pandas 库 - 用于创建和展示数据表格\n",
    "# pandas 是 Python 中最流行的数据处理和分析库\n",
    "!pip install pandas==2.2.2\n",
    "\n",
    "import platform # 导入 platform 模块以获取系统信息\n",
    "import os # 导入 os 模块以与操作系统交互\n",
    "import subprocess # 导入 subprocess 模块以运行外部命令\n",
    "import pandas as pd # 导入 pandas 模块，通常用于数据处理，这里用于创建表格\n",
    "import shutil # 导入 shutil 模块以获取磁盘空间信息\n",
    "\n",
    "# 获取 CPU 信息的函数，包括核心数量\n",
    "def get_cpu_info():\n",
    "    cpu_info = \"\" # 初始化 CPU 信息字符串\n",
    "    physical_cores = \"N/A\"\n",
    "    logical_cores = \"N/A\"\n",
    "\n",
    "    if platform.system() == \"Windows\": # 如果是 Windows 系统\n",
    "        cpu_info = platform.processor() # 使用 platform.processor() 获取 CPU 信息\n",
    "        try:\n",
    "            # 获取 Windows 上的核心数量 (需要 WMI)\n",
    "            import wmi\n",
    "            c = wmi.WMI()\n",
    "            for proc in c.Win32_Processor():\n",
    "                physical_cores = proc.NumberOfCores\n",
    "                logical_cores = proc.NumberOfLogicalProcessors\n",
    "        except:\n",
    "            pass # 如果 WMI 不可用，忽略错误\n",
    "\n",
    "    elif platform.system() == \"Darwin\": # 如果是 macOS 系统\n",
    "        # 在 macOS 上使用 sysctl 命令获取 CPU 信息和核心数量\n",
    "        os.environ['PATH'] = os.environ['PATH'] + os.pathsep + '/usr/sbin' # 更新 PATH 环境变量\n",
    "        try:\n",
    "            process_brand = subprocess.Popen(['sysctl', \"machdep.cpu.brand_string\"], stdout=subprocess.PIPE, stderr=subprocess.PIPE)\n",
    "            stdout_brand, stderr_brand = process_brand.communicate()\n",
    "            cpu_info = stdout_brand.decode().split(': ')[1].strip() if stdout_brand else \"Could not retrieve CPU info\"\n",
    "\n",
    "            process_physical = subprocess.Popen(['sysctl', \"hw.physicalcpu\"], stdout=subprocess.PIPE, stderr=subprocess.PIPE)\n",
    "            stdout_physical, stderr_physical = process_physical.communicate()\n",
    "            physical_cores = stdout_physical.decode().split(': ')[1].strip() if stdout_physical else \"N/A\"\n",
    "\n",
    "            process_logical = subprocess.Popen(['sysctl', \"hw.logicalcpu\"], stdout=subprocess.PIPE, stderr=subprocess.PIPE)\n",
    "            stdout_logical, stderr_logical = process_logical.communicate()\n",
    "            logical_cores = stdout_logical.decode().split(': ')[1].strip() if stdout_logical else \"N/A\"\n",
    "\n",
    "        except:\n",
    "            cpu_info = \"Could not retrieve CPU info\"\n",
    "            physical_cores = \"N/A\"\n",
    "            logical_cores = \"N/A\"\n",
    "\n",
    "    else:  # Linux 系统\n",
    "        try:\n",
    "            # 在 Linux 上读取 /proc/cpuinfo 文件获取 CPU 信息和核心数量\n",
    "            with open('/proc/cpuinfo') as f:\n",
    "                physical_cores_count = 0\n",
    "                logical_cores_count = 0\n",
    "                cpu_info_lines = []\n",
    "                for line in f:\n",
    "                    if line.startswith('model name'): # 查找以 'model name'开头的行\n",
    "                        if not cpu_info: # 只获取第一个 model name\n",
    "                            cpu_info = line.split(': ')[1].strip()\n",
    "                    elif line.startswith('cpu cores'): # 查找以 'cpu cores' 开头的行\n",
    "                        physical_cores_count = int(line.split(': ')[1].strip())\n",
    "                    elif line.startswith('processor'): # 查找以 'processor' 开头的行\n",
    "                        logical_cores_count += 1\n",
    "                physical_cores = str(physical_cores_count) if physical_cores_count > 0 else \"N/A\"\n",
    "                logical_cores = str(logical_cores_count) if logical_cores_count > 0 else \"N/A\"\n",
    "                if not cpu_info:\n",
    "                     cpu_info = \"Could not retrieve CPU info\"\n",
    "\n",
    "        except:\n",
    "            cpu_info = \"Could not retrieve CPU info\"\n",
    "            physical_cores = \"N/A\"\n",
    "            logical_cores = \"N/A\"\n",
    "\n",
    "    return f\"{cpu_info} ({physical_cores} physical cores, {logical_cores} logical cores)\" # 返回 CPU 信息和核心数量\n",
    "\n",
    "\n",
    "# 获取内存信息的函数\n",
    "def get_memory_info():\n",
    "    mem_info = \"\" # 初始化内存信息字符串\n",
    "    if platform.system() == \"Windows\":\n",
    "        # 在 Windows 上不容易通过标准库获取，需要外部库或 PowerShell\n",
    "        mem_info = \"Requires external tools on Windows\" # 设置提示信息\n",
    "    elif platform.system() == \"Darwin\": # 如果是 macOS 系统\n",
    "        # 在 macOS 上使用 sysctl 命令获取内存大小\n",
    "        process = subprocess.Popen(['sysctl', \"hw.memsize\"], stdout=subprocess.PIPE, stderr=subprocess.PIPE) # 运行 sysctl 命令\n",
    "        stdout, stderr = process.communicate() # 获取标准输出和标准错误\n",
    "        mem_bytes = int(stdout.decode().split(': ')[1].strip()) # 解析输出，获取内存大小（字节）\n",
    "        mem_gb = mem_bytes / (1024**3) # 转换为 GB\n",
    "        mem_info = f\"{mem_gb:.2f} GB\" # 格式化输出\n",
    "    else:  # Linux 系统\n",
    "        try:\n",
    "            # 在 Linux 上读取 /proc/meminfo 文件获取内存信息\n",
    "            with open('/proc/meminfo') as f:\n",
    "                total_mem_kb = 0\n",
    "                available_mem_kb = 0\n",
    "                for line in f:\n",
    "                    if line.startswith('MemTotal'): # 查找以 'MemTotal' 开头的行\n",
    "                        total_mem_kb = int(line.split(':')[1].strip().split()[0]) # 解析行，获取总内存（KB）\n",
    "                    elif line.startswith('MemAvailable'): # 查找以 'MemAvailable' 开头的行\n",
    "                         available_mem_kb = int(line.split(':')[1].strip().split()[0]) # 解析行，获取可用内存（KB）\n",
    "\n",
    "                if total_mem_kb > 0:\n",
    "                    total_mem_gb = total_mem_kb / (1024**2) # 转换为 GB\n",
    "                    mem_info = f\"{total_mem_gb:.2f} GB\" # 格式化输出总内存\n",
    "                    if available_mem_kb > 0:\n",
    "                        available_mem_gb = available_mem_kb / (1024**2)\n",
    "                        mem_info += f\" (Available: {available_mem_gb:.2f} GB)\" # 添加可用内存信息\n",
    "                else:\n",
    "                     mem_info = \"Could not retrieve memory info\" # 如果读取文件出错，设置错误信息\n",
    "\n",
    "        except:\n",
    "            mem_info = \"Could not retrieve memory info\" # 如果读取文件出错，设置错误信息\n",
    "    return mem_info # 返回内存信息\n",
    "\n",
    "# 获取 GPU 信息的函数，包括显存\n",
    "def get_gpu_info():\n",
    "    try:\n",
    "        # 尝试使用 nvidia-smi 获取 NVIDIA GPU 信息和显存\n",
    "        result = subprocess.run(['nvidia-smi', '--query-gpu=name,memory.total', '--format=csv,noheader'], capture_output=True, text=True)\n",
    "        if result.returncode == 0: # 如果命令成功执行\n",
    "            gpu_lines = result.stdout.strip().split('\\n') # 解析输出，获取 GPU 名称和显存\n",
    "            gpu_info_list = []\n",
    "            for line in gpu_lines:\n",
    "                name, memory = line.split(', ')\n",
    "                gpu_info_list.append(f\"{name} ({memory})\") # 格式化 GPU 信息\n",
    "            return \", \".join(gpu_info_list) if gpu_info_list else \"NVIDIA GPU found, but info not listed\" # 返回 GPU 信息或提示信息\n",
    "        else:\n",
    "             # 尝试使用 lshw 获取其他 GPU 信息 (需要安装 lshw)\n",
    "            try:\n",
    "                result_lshw = subprocess.run(['lshw', '-C', 'display'], capture_output=True, text=True)\n",
    "                if result_lshw.returncode == 0: # 如果命令成功执行\n",
    "                     # 简单解析输出中的 product 名称和显存\n",
    "                    gpu_info_lines = []\n",
    "                    current_gpu = {}\n",
    "                    for line in result_lshw.stdout.splitlines():\n",
    "                        if 'product:' in line:\n",
    "                             if current_gpu:\n",
    "                                 gpu_info_lines.append(f\"{current_gpu.get('product', 'GPU')} ({current_gpu.get('memory', 'N/A')})\")\n",
    "                             current_gpu = {'product': line.split('product:')[1].strip()}\n",
    "                        elif 'size:' in line and 'memory' in line:\n",
    "                             current_gpu['memory'] = line.split('size:')[1].strip()\n",
    "\n",
    "                    if current_gpu: # 添加最后一个 GPU 的信息\n",
    "                        gpu_info_lines.append(f\"{current_gpu.get('product', 'GPU')} ({current_gpu.get('memory', 'N/A')})\")\n",
    "\n",
    "                    return \", \".join(gpu_info_lines) if gpu_info_lines else \"GPU found (via lshw), but info not parsed\" # 如果找到 GPU 但信息无法解析，设置提示信息\n",
    "                else:\n",
    "                    return \"No GPU found (checked nvidia-smi and lshw)\" # 如果两个命令都找不到 GPU，设置提示信息\n",
    "            except FileNotFoundError:\n",
    "                 return \"No GPU found (checked nvidia-smi, lshw not found)\" # 如果找不到 lshw 命令，设置提示信息\n",
    "    except FileNotFoundError:\n",
    "        return \"No GPU found (nvidia-smi not found)\" # 如果找不到 nvidia-smi 命令，设置提示信息\n",
    "\n",
    "\n",
    "# 获取 CUDA 版本的函数\n",
    "def get_cuda_version():\n",
    "    try:\n",
    "        # 尝试使用 nvcc --version 获取 CUDA 版本\n",
    "        result = subprocess.run(['nvcc', '--version'], capture_output=True, text=True)\n",
    "        if result.returncode == 0: # 如果命令成功执行\n",
    "            for line in result.stdout.splitlines():\n",
    "                if 'release' in line: # 查找包含 'release' 的行\n",
    "                    return line.split('release ')[1].split(',')[0] # 解析行，提取版本号\n",
    "        return \"CUDA not found or version not parsed\" # 如果找不到 CUDA 或版本无法解析，设置提示信息\n",
    "    except FileNotFoundError:\n",
    "        return \"CUDA not found\" # 如果找不到 nvcc 命令，设置提示信息\n",
    "\n",
    "# 获取 Python 版本的函数\n",
    "def get_python_version():\n",
    "    return platform.python_version() # 获取 Python 版本\n",
    "\n",
    "# 获取 Conda 版本的函数\n",
    "def get_conda_version():\n",
    "    try:\n",
    "        # 尝试使用 conda --version 获取 Conda 版本\n",
    "        result = subprocess.run(['conda', '--version'], capture_output=True, text=True)\n",
    "        if result.returncode == 0: # 如果命令成功执行\n",
    "            return result.stdout.strip() # 返回 Conda 版本\n",
    "        return \"Conda not found or version not parsed\" # 如果找不到 Conda 或版本无法解析，设置提示信息\n",
    "    except FileNotFoundError:\n",
    "        return \"Conda not found\" # 如果找不到 conda 命令，设置提示信息\n",
    "\n",
    "# 获取物理磁盘空间信息的函数\n",
    "def get_disk_space():\n",
    "    try:\n",
    "        total, used, free = shutil.disk_usage(\"/\") # 获取根目录的磁盘使用情况\n",
    "        total_gb = total / (1024**3) # 转换为 GB\n",
    "        used_gb = used / (1024**3) # 转换为 GB\n",
    "        free_gb = free / (1024**3) # 转换为 GB\n",
    "        return f\"Total: {total_gb:.2f} GB, Used: {used_gb:.2f} GB, Free: {free_gb:.2f} GB\" # 格式化输出\n",
    "    except Exception as e:\n",
    "        return f\"Could not retrieve disk info: {e}\" # 如果获取信息出错，设置错误信息\n",
    "\n",
    "# 获取环境信息\n",
    "os_name = platform.system() # 获取操作系统名称\n",
    "os_version = platform.release() # 获取操作系统版本\n",
    "if os_name == \"Linux\":\n",
    "    try:\n",
    "        # 在 Linux 上尝试获取发行版和版本\n",
    "        lsb_info = subprocess.run(['lsb_release', '-a'], capture_output=True, text=True)\n",
    "        if lsb_info.returncode == 0: # 如果命令成功执行\n",
    "            for line in lsb_info.stdout.splitlines():\n",
    "                if 'Description:' in line: # 查找包含 'Description:' 的行\n",
    "                    os_version = line.split('Description:')[1].strip() # 提取描述信息作为版本\n",
    "                    break # 找到后退出循环\n",
    "                elif 'Release:' in line: # 查找包含 'Release:' 的行\n",
    "                     os_version = line.split('Release:')[1].strip() # 提取版本号\n",
    "                     # 尝试获取 codename\n",
    "                     try:\n",
    "                         codename_info = subprocess.run(['lsb_release', '-c'], capture_output=True, text=True)\n",
    "                         if codename_info.returncode == 0:\n",
    "                             os_version += f\" ({codename_info.stdout.split(':')[1].strip()})\" # 将 codename 添加到版本信息中\n",
    "                     except:\n",
    "                         pass # 如果获取 codename 失败则忽略\n",
    "\n",
    "    except FileNotFoundError:\n",
    "        pass # lsb_release 可能未安装，忽略错误\n",
    "\n",
    "full_os_info = f\"{os_name} {os_version}\" # 组合完整的操作系统信息\n",
    "cpu_info = get_cpu_info() # 调用函数获取 CPU 信息和核心数量\n",
    "memory_info = get_memory_info() # 调用函数获取内存信息\n",
    "gpu_info = get_gpu_info() # 调用函数获取 GPU 信息和显存\n",
    "cuda_version = get_cuda_version() # 调用函数获取 CUDA 版本\n",
    "python_version = get_python_version() # 调用函数获取 Python 版本\n",
    "conda_version = get_conda_version() # 调用函数获取 Conda 版本\n",
    "disk_info = get_disk_space() # 调用函数获取物理磁盘空间信息\n",
    "\n",
    "\n",
    "# 创建用于存储数据的字典\n",
    "env_data = {\n",
    "    \"项目\": [ # 项目名称列表\n",
    "        \"操作系统\",\n",
    "        \"CPU 信息\",\n",
    "        \"内存信息\",\n",
    "        \"GPU 信息\",\n",
    "        \"CUDA 信息\",\n",
    "        \"Python 版本\",\n",
    "        \"Conda 版本\",\n",
    "        \"物理磁盘空间\" # 添加物理磁盘空间\n",
    "    ],\n",
    "    \"信息\": [ # 对应的信息列表\n",
    "        full_os_info,\n",
    "        cpu_info,\n",
    "        memory_info,\n",
    "        gpu_info,\n",
    "        cuda_version,\n",
    "        python_version,\n",
    "        conda_version,\n",
    "        disk_info # 添加物理磁盘空间信息\n",
    "    ]\n",
    "}\n",
    "\n",
    "# 创建一个 pandas DataFrame\n",
    "df = pd.DataFrame(env_data)\n",
    "\n",
    "# 打印表格\n",
    "print(\"### 环境信息\") # 打印标题\n",
    "print(df.to_markdown(index=False)) # 将 DataFrame 转换为 Markdown 格式并打印，不包含索引"
   ]
  },
  {
   "cell_type": "markdown",
   "metadata": {
    "deletable": true,
    "editable": true,
    "id": "vK2ee2v9U26W",
    "jp-MarkdownHeadingCollapsed": true
   },
   "source": [
    "## Python 对象、基本类型和变量\n",
    "\n",
    "> **核心概念**：Python 中的一切都是**对象**，每个对象都有一个**类型**。这种设计使得Python非常适合大模型开发，因为我们可以轻松处理各种数据类型。\n",
    "\n",
    "### 基本数据类型\n",
    "\n",
    "在大模型开发中，我们经常需要处理以下数据类型：\n",
    "\n",
    "#### 数值类型\n",
    "- **`int`**（整数类型）\n",
    "  - `10` - 表示用户ID、token数量等\n",
    "  - `-3` - 表示错误代码、偏移量等\n",
    "- **`float`**（浮点数类型）\n",
    "  - `7.41` - 表示模型置信度、相似度分数等\n",
    "  - `-0.006` - 表示损失值、梯度等\n",
    "\n",
    "#### 文本类型\n",
    "- **`str`**（字符串类型）- 大模型开发中最常用的类型\n",
    "  - `'这是一个使用单引号的字符串'` - 单行文本\n",
    "  - `\"这是一个使用双引号的字符串\"` - 单行文本\n",
    "  - `'''这是一个使用单引号的三引号字符串'''` - 多行文本，常用于提示词\n",
    "  - `\"\"\"这是一个使用双引号的三引号字符串\"\"\"` - 多行文本，常用于文档字符串\n",
    "\n",
    "#### 逻辑类型\n",
    "- **`bool`**（布尔值类型）\n",
    "  - `True` - 表示成功、启用等状态\n",
    "  - `False` - 表示失败、禁用等状态\n",
    "- **`NoneType`**（空值类型）\n",
    "  - `None` - 表示缺失值、未初始化等\n",
    "\n",
    "### 变量命名规则\n",
    "\n",
    "在 Python 中，**变量**是你在代码中指定的名称，它映射到特定的**对象**、对象**实例**或值。\n",
    "\n",
    "#### 命名规范\n",
    "- 变量名只能包含字母、下划线（`_`）或数字\n",
    "- 变量名必须以字母或下划线开头\n",
    "- 不能有空格、破折号或其他特殊字符\n",
    "- 建议使用有意义的名称，如 `user_prompt`、`api_response`、`model_config`\n",
    "\n",
    "#### 大模型开发中的变量命名建议\n",
    "```python\n",
    "# 推荐的命名方式\n",
    "user_input = \"请介绍一下Python\"\n",
    "api_key = \"sk-...\"\n",
    "model_name = \"gpt-3.5-turbo\"\n",
    "max_tokens = 1000\n",
    "temperature = 0.7\n",
    "```\n",
    "\n",
    "<hr>"
   ]
  },
  {
   "cell_type": "markdown",
   "metadata": {
    "deletable": true,
    "editable": true,
    "id": "UyZrRnaJU26Y"
   },
   "source": [
    "## 基本操作符\n",
    "\n",
    "> **重要概念**：操作符是Python中用于对数据进行运算的特殊符号。在大模型开发中，我们经常使用这些操作符来处理数据、控制流程和进行逻辑判断。\n",
    "\n",
    "### 算术操作符\n",
    "用于数值计算，在大模型开发中常用于：\n",
    "- **`+`**（加法）- 合并文本、计算总数\n",
    "- **`-`**（减法）- 计算差值、偏移量\n",
    "- **`*`**（乘法）- 重复文本、计算倍数\n",
    "- **`/`**（除法）- 计算平均值、比例\n",
    "- **`**`**（幂运算）- 计算指数、复杂数学运算\n",
    "\n",
    "### 赋值操作符\n",
    "用于给变量赋值和更新值：\n",
    "- **`=`**（赋值）- 将值赋给变量\n",
    "- **`+=`**（相加并重新赋值）- 累加操作，常用于计数器\n",
    "- **`-=`**（相减并重新赋值）- 递减操作\n",
    "- **`*=`**（相乘并重新赋值）- 倍数操作\n",
    "\n",
    "### 比较操作符\n",
    "用于比较两个值，返回 `True` 或 `False`：\n",
    "- **`==`**（等于）- 检查两个值是否相等\n",
    "- **`!=`**（不等于）- 检查两个值是否不相等\n",
    "- **`<`**（小于）- 数值比较\n",
    "- **`<=`**（小于等于）- 数值比较\n",
    "- **`>`**（大于）- 数值比较\n",
    "- **`>=`**（大于等于）- 数值比较\n",
    "\n",
    "### 操作符优先级\n",
    "\n",
    "当在单个表达式中使用多个操作符时，**操作符优先级**决定表达式的哪些部分按什么顺序求值。优先级较高的操作符先求值（就像数学中的 PEMDAS）。相同优先级的操作符从左到右求值。\n",
    "\n",
    "**优先级从高到低：**\n",
    "1. `()` 括号，用于分组\n",
    "2. `**` 幂运算\n",
    "3. `*`, `/` 乘法和除法\n",
    "4. `+`, `-` 加法和减法\n",
    "5. `==`, `!=`, `<`, `<=`, `>`, `>=` 比较\n",
    "\n",
    "### 大模型开发中的实际应用\n",
    "\n",
    "```python\n",
    "# 计算API调用的总token数\n",
    "prompt_tokens = 100\n",
    "completion_tokens = 50\n",
    "total_tokens = prompt_tokens + completion_tokens  # 使用加法\n",
    "\n",
    "# 检查模型响应是否成功\n",
    "response_status = 200\n",
    "is_success = response_status == 200  # 使用比较操作符\n",
    "\n",
    "# 累积处理的消息数量\n",
    "message_count = 0\n",
    "message_count += 1  # 使用递增操作符\n",
    "```\n",
    "\n",
    "> 参考：[Python操作符优先级官方文档](https://docs.python.org/3/reference/expressions.html#operator-precedence)"
   ]
  },
  {
   "cell_type": "code",
   "execution_count": 2,
   "metadata": {
    "deletable": true,
    "editable": true,
    "id": "sr63n3spU26b"
   },
   "outputs": [],
   "source": [
    "# 大模型开发中的数值变量示例\n",
    "# 这些变量在大模型应用中常用于配置参数和计算结果\n",
    "\n",
    "num1 = 10      # 整数：10 - 可用于表示最大重试次数、批次大小等\n",
    "num2 = -3      # 整数：-3 - 可用于表示错误代码、偏移量等\n",
    "num3 = 7.41    # 浮点数：7.41 - 可用于表示模型温度参数、置信度等\n",
    "num4 = -.6     # 浮点数：-0.6 - 可用于表示学习率、损失值等（可省略小数点前的0）\n",
    "num5 = 7       # 整数：7 - 可用于表示上下文长度、最大轮数等\n",
    "num6 = 3       # 整数：3 - 可用于表示最小长度、重试次数等\n",
    "num7 = 11.11   # 浮点数：11.11 - 可用于表示相似度分数、准确率等"
   ]
  },
  {
   "cell_type": "code",
   "execution_count": 3,
   "metadata": {
    "colab": {
     "base_uri": "https://localhost:8080/"
    },
    "deletable": true,
    "editable": true,
    "id": "uLgJ_6PQU26f",
    "outputId": "75c694ed-fe5b-4d78-f598-59aa08af9d53"
   },
   "outputs": [
    {
     "data": {
      "text/plain": [
       "7"
      ]
     },
     "execution_count": 3,
     "metadata": {},
     "output_type": "execute_result"
    }
   ],
   "source": [
    "# 加法运算示例：10 + (-3) = 7\n",
    "# 在大模型开发中，加法常用于计算总token数、合并数值等\n",
    "num1 + num2"
   ]
  },
  {
   "cell_type": "code",
   "execution_count": 4,
   "metadata": {
    "colab": {
     "base_uri": "https://localhost:8080/"
    },
    "deletable": true,
    "editable": true,
    "id": "8naKnthgU26i",
    "outputId": "5bd84f07-1fa5-4a76-e079-162d322cc8a6"
   },
   "outputs": [
    {
     "data": {
      "text/plain": [
       "-10.41"
      ]
     },
     "execution_count": 4,
     "metadata": {},
     "output_type": "execute_result"
    }
   ],
   "source": [
    "# 减法运算示例：-3 - 7.41 = -10.41\n",
    "# 在大模型开发中，减法常用于计算差值、偏移量等\n",
    "num2 - num3"
   ]
  },
  {
   "cell_type": "code",
   "execution_count": 5,
   "metadata": {
    "colab": {
     "base_uri": "https://localhost:8080/"
    },
    "deletable": true,
    "editable": true,
    "id": "s6bJ2ErxU26l",
    "outputId": "98dfe967-9aad-4ad7-dbd5-5bca7190a2df"
   },
   "outputs": [
    {
     "data": {
      "text/plain": [
       "-4.446"
      ]
     },
     "execution_count": 5,
     "metadata": {},
     "output_type": "execute_result"
    }
   ],
   "source": [
    "# 乘法运算示例：7.41 * (-0.6) = -4.446\n",
    "# 在大模型开发中，乘法常用于计算加权分数、缩放参数等\n",
    "num3 * num4"
   ]
  },
  {
   "cell_type": "code",
   "execution_count": 6,
   "metadata": {
    "colab": {
     "base_uri": "https://localhost:8080/"
    },
    "deletable": true,
    "editable": true,
    "id": "WJOmG5YfU26n",
    "outputId": "6a390f70-e778-4d3a-9c72-5349365837a2"
   },
   "outputs": [
    {
     "data": {
      "text/plain": [
       "-0.08571428571428572"
      ]
     },
     "execution_count": 6,
     "metadata": {},
     "output_type": "execute_result"
    }
   ],
   "source": [
    "# 除法运算示例：-0.6 / 7 = -0.08571428571428572\n",
    "# 在大模型开发中，除法常用于计算平均值、比例、归一化等\n",
    "num4 / num5"
   ]
  },
  {
   "cell_type": "code",
   "execution_count": 7,
   "metadata": {
    "colab": {
     "base_uri": "https://localhost:8080/"
    },
    "deletable": true,
    "editable": true,
    "id": "VQRhAgbtU26o",
    "outputId": "5b06922c-1778-4b08-ba74-7893bac3c63f"
   },
   "outputs": [
    {
     "data": {
      "text/plain": [
       "343"
      ]
     },
     "execution_count": 7,
     "metadata": {},
     "output_type": "execute_result"
    }
   ],
   "source": [
    "# 幂运算示例：7 的 3 次方 = 343\n",
    "# 在大模型开发中，幂运算常用于计算复杂度、指数衰减等\n",
    "num5 ** num6"
   ]
  },
  {
   "cell_type": "code",
   "execution_count": 8,
   "metadata": {
    "colab": {
     "base_uri": "https://localhost:8080/"
    },
    "deletable": true,
    "editable": true,
    "id": "jEg0pIEEU26p",
    "outputId": "921d698a-2866-4789-8edd-c6e79c24e273"
   },
   "outputs": [
    {
     "data": {
      "text/plain": [
       "15.11"
      ]
     },
     "execution_count": 8,
     "metadata": {},
     "output_type": "execute_result"
    }
   ],
   "source": [
    "# 递增操作示例：num7 = num7 + 4\n",
    "# 在大模型开发中，递增操作常用于计数器、累积统计等\n",
    "num7 += 4  # 等价于 num7 = num7 + 4，将num7的值增加4\n",
    "num7       # 显示更新后的值：15.11"
   ]
  },
  {
   "cell_type": "code",
   "execution_count": 9,
   "metadata": {
    "colab": {
     "base_uri": "https://localhost:8080/"
    },
    "deletable": true,
    "editable": true,
    "id": "iJdO_162U26r",
    "outputId": "d4824491-241e-4056-d4bc-3aa6ed8a82b4"
   },
   "outputs": [
    {
     "data": {
      "text/plain": [
       "1"
      ]
     },
     "execution_count": 9,
     "metadata": {},
     "output_type": "execute_result"
    }
   ],
   "source": [
    "# 递减操作示例：num6 = num6 - 2\n",
    "# 在大模型开发中，递减操作常用于倒计时、减少计数等\n",
    "num6 -= 2  # 等价于 num6 = num6 - 2，将num6的值减少2\n",
    "num6       # 显示更新后的值：1"
   ]
  },
  {
   "cell_type": "code",
   "execution_count": 10,
   "metadata": {
    "colab": {
     "base_uri": "https://localhost:8080/"
    },
    "deletable": true,
    "editable": true,
    "id": "vvLrqnFCU26s",
    "outputId": "a6b33b02-2639-4575-ccd3-a64e85ab257f"
   },
   "outputs": [
    {
     "data": {
      "text/plain": [
       "37.05"
      ]
     },
     "execution_count": 10,
     "metadata": {},
     "output_type": "execute_result"
    }
   ],
   "source": [
    "# 相乘并重新赋值示例：num3 = num3 * 5\n",
    "# 在大模型开发中，这种操作常用于缩放参数、调整权重等\n",
    "num3 *= 5  # 等价于 num3 = num3 * 5，将num3的值乘以5\n",
    "num3       # 显示更新后的值：37.05"
   ]
  },
  {
   "cell_type": "code",
   "execution_count": 11,
   "metadata": {
    "colab": {
     "base_uri": "https://localhost:8080/"
    },
    "deletable": true,
    "editable": true,
    "id": "Gywh53v3U26s",
    "outputId": "a213aaae-cfc1-4f78-c155-41ccf5840aca"
   },
   "outputs": [
    {
     "data": {
      "text/plain": [
       "-101.14999999999999"
      ]
     },
     "execution_count": 11,
     "metadata": {},
     "output_type": "execute_result"
    }
   ],
   "source": [
    "# 复杂表达式赋值示例（注意操作符优先级）\n",
    "# 在大模型开发中，复杂表达式常用于计算综合分数、损失函数等\n",
    "num8 = num1 + num2 * num3  # 先算乘法(num2 * num3)，再算加法(num1 + 结果)\n",
    "num8                       # 显示计算结果：-101.14999999999999"
   ]
  },
  {
   "cell_type": "code",
   "execution_count": 12,
   "metadata": {
    "colab": {
     "base_uri": "https://localhost:8080/"
    },
    "deletable": true,
    "editable": true,
    "id": "-trhGiA4U26t",
    "outputId": "dba7c08d-5de3-4942-b1bd-37d51347914b"
   },
   "outputs": [
    {
     "data": {
      "text/plain": [
       "True"
      ]
     },
     "execution_count": 12,
     "metadata": {},
     "output_type": "execute_result"
    }
   ],
   "source": [
    "# 比较操作示例：检查两个表达式是否相等\n",
    "# 在大模型开发中，比较操作常用于条件判断、状态检查等\n",
    "num1 + num2 == num5  # (10 + (-3)) == 7，结果为 True"
   ]
  },
  {
   "cell_type": "code",
   "execution_count": 13,
   "metadata": {
    "colab": {
     "base_uri": "https://localhost:8080/"
    },
    "deletable": true,
    "editable": true,
    "id": "E0lFvReXU26u",
    "outputId": "5d27d2ee-acce-421b-bc70-d054a2b01b26"
   },
   "outputs": [
    {
     "data": {
      "text/plain": [
       "True"
      ]
     },
     "execution_count": 13,
     "metadata": {},
     "output_type": "execute_result"
    }
   ],
   "source": [
    "# 不等比较示例：检查两个表达式是否不相等\n",
    "# 在大模型开发中，不等比较常用于验证数据完整性、检查错误状态等\n",
    "num3 != num4  # 37.05 != -0.6，结果为 True"
   ]
  },
  {
   "cell_type": "code",
   "execution_count": 14,
   "metadata": {
    "colab": {
     "base_uri": "https://localhost:8080/"
    },
    "deletable": true,
    "editable": true,
    "id": "c3yxLIYQU26v",
    "outputId": "f94f80b4-b804-4c94-86df-b2dced780001"
   },
   "outputs": [
    {
     "data": {
      "text/plain": [
       "False"
      ]
     },
     "execution_count": 14,
     "metadata": {},
     "output_type": "execute_result"
    }
   ],
   "source": [
    "# 小于比较示例：检查第一个表达式是否小于第二个表达式\n",
    "# 在大模型开发中，小于比较常用于阈值判断、范围检查等\n",
    "num5 < num6  # 7 < 1，结果为 False"
   ]
  },
  {
   "cell_type": "code",
   "execution_count": 15,
   "metadata": {
    "colab": {
     "base_uri": "https://localhost:8080/"
    },
    "deletable": true,
    "editable": true,
    "id": "spZQ1lj-U26w",
    "outputId": "73ca1895-1294-4ceb-c966-adbcab7b3817"
   },
   "outputs": [
    {
     "data": {
      "text/plain": [
       "True"
      ]
     },
     "execution_count": 15,
     "metadata": {},
     "output_type": "execute_result"
    }
   ],
   "source": [
    "# 链式比较示例：检查多个条件是否同时满足\n",
    "# 在大模型开发中，链式比较常用于复杂条件判断、参数范围验证等\n",
    "5 > 3 > 1  # 等价于 (5 > 3) and (3 > 1)，结果为 True"
   ]
  },
  {
   "cell_type": "code",
   "execution_count": 16,
   "metadata": {
    "colab": {
     "base_uri": "https://localhost:8080/"
    },
    "deletable": true,
    "editable": true,
    "id": "0_91OiMsU26w",
    "outputId": "5cdec3ef-5e00-4226-89d0-014d717e70b1"
   },
   "outputs": [
    {
     "data": {
      "text/plain": [
       "True"
      ]
     },
     "execution_count": 16,
     "metadata": {},
     "output_type": "execute_result"
    }
   ],
   "source": [
    "# 复杂链式比较示例：检查多个条件是否同时满足\n",
    "# 在大模型开发中，复杂链式比较常用于多维度参数验证、复杂业务逻辑判断等\n",
    "5 > 3 < 4 == 3 + 1  # 等价于 (5 > 3) and (3 < 4) and (4 == 4)，结果为 True"
   ]
  },
  {
   "cell_type": "code",
   "execution_count": 17,
   "metadata": {
    "deletable": true,
    "editable": true,
    "id": "ohV2zhg-U26x"
   },
   "outputs": [],
   "source": [
    "# 大模型开发中的字符串变量示例\n",
    "# 字符串是大模型开发中最常用的数据类型，用于存储文本、提示词、响应等\n",
    "\n",
    "simple_string1 = 'an example'  # 使用单引号的字符串 - 常用于简单文本\n",
    "simple_string2 = \"oranges \"    # 使用双引号的字符串（注意末尾有空格）- 常用于包含单引号的文本"
   ]
  },
  {
   "cell_type": "code",
   "execution_count": 18,
   "metadata": {
    "colab": {
     "base_uri": "https://localhost:8080/",
     "height": 36
    },
    "deletable": true,
    "editable": true,
    "id": "Da5UzaumU26y",
    "outputId": "f38a6afe-7a82-49c6-aa8a-abb3a4955c69"
   },
   "outputs": [
    {
     "data": {
      "text/plain": [
       "'an example of using the + operator'"
      ]
     },
     "execution_count": 18,
     "metadata": {},
     "output_type": "execute_result"
    }
   ],
   "source": [
    "# 字符串连接示例（使用加法操作符）\n",
    "# 在大模型开发中，字符串连接常用于构建提示词、合并文本片段等\n",
    "simple_string1 + ' of using the + operator'  # 字符串连接：'an example' + ' of using the + operator'"
   ]
  },
  {
   "cell_type": "code",
   "execution_count": 19,
   "metadata": {
    "colab": {
     "base_uri": "https://localhost:8080/",
     "height": 36
    },
    "deletable": true,
    "editable": true,
    "id": "M1V77HwlU26y",
    "outputId": "7b60a8f6-a3f9-467c-da79-e9757dd3b9cb"
   },
   "outputs": [
    {
     "data": {
      "text/plain": [
       "'an example'"
      ]
     },
     "execution_count": 19,
     "metadata": {},
     "output_type": "execute_result"
    }
   ],
   "source": [
    "# 重要概念：原字符串没有被修改（字符串是不可变的）\n",
    "# 在大模型开发中，理解字符串不可变性很重要，每次操作都会创建新字符串\n",
    "simple_string1  # 仍然是 'an example'，原字符串保持不变"
   ]
  },
  {
   "cell_type": "code",
   "execution_count": 20,
   "metadata": {
    "colab": {
     "base_uri": "https://localhost:8080/",
     "height": 36
    },
    "deletable": true,
    "editable": true,
    "id": "I8AwdFfVU26z",
    "outputId": "0dda5ec4-647a-45c9-b433-5945c1906d2d"
   },
   "outputs": [
    {
     "data": {
      "text/plain": [
       "'oranges oranges oranges oranges '"
      ]
     },
     "execution_count": 20,
     "metadata": {},
     "output_type": "execute_result"
    }
   ],
   "source": [
    "# 字符串重复示例（使用乘法操作符）\n",
    "# 在大模型开发中，字符串重复常用于生成测试数据、创建分隔符等\n",
    "simple_string2 * 4  # 将字符串重复4次：'oranges oranges oranges oranges '"
   ]
  },
  {
   "cell_type": "code",
   "execution_count": 21,
   "metadata": {
    "colab": {
     "base_uri": "https://localhost:8080/",
     "height": 36
    },
    "deletable": true,
    "editable": true,
    "id": "XU-KBSETU261",
    "outputId": "d2494cf5-02ba-4ca6-ff07-0d64e464e28e"
   },
   "outputs": [
    {
     "data": {
      "text/plain": [
       "'oranges '"
      ]
     },
     "execution_count": 21,
     "metadata": {},
     "output_type": "execute_result"
    }
   ],
   "source": [
    "# 重要概念：这个字符串也没有被修改（字符串不可变性）\n",
    "# 在大模型开发中，理解这一点有助于避免内存浪费和性能问题\n",
    "simple_string2  # 仍然是 \"oranges \"，原字符串保持不变"
   ]
  },
  {
   "cell_type": "code",
   "execution_count": 22,
   "metadata": {
    "colab": {
     "base_uri": "https://localhost:8080/"
    },
    "deletable": true,
    "editable": true,
    "id": "fA6-am7YU261",
    "outputId": "663e34fe-09c2-4975-c1d2-847c56124f70"
   },
   "outputs": [
    {
     "data": {
      "text/plain": [
       "False"
      ]
     },
     "execution_count": 22,
     "metadata": {},
     "output_type": "execute_result"
    }
   ],
   "source": [
    "# 字符串相等性比较示例\n",
    "# 在大模型开发中，字符串比较常用于验证输入、检查状态等\n",
    "simple_string1 == simple_string2  # 'an example' == 'oranges '，结果为 False"
   ]
  },
  {
   "cell_type": "code",
   "execution_count": 23,
   "metadata": {
    "colab": {
     "base_uri": "https://localhost:8080/"
    },
    "deletable": true,
    "editable": true,
    "id": "Sgi0q0oPU262",
    "outputId": "fecc18f8-c43a-4bef-b9a2-a72121075798"
   },
   "outputs": [
    {
     "data": {
      "text/plain": [
       "True"
      ]
     },
     "execution_count": 23,
     "metadata": {},
     "output_type": "execute_result"
    }
   ],
   "source": [
    "# 字符串相等性比较示例（相同内容）\n",
    "# 在大模型开发中，这种比较常用于验证API响应、检查配置等\n",
    "simple_string1 == 'an example'  # 'an example' == 'an example'，结果为 True"
   ]
  },
  {
   "cell_type": "code",
   "execution_count": 24,
   "metadata": {
    "colab": {
     "base_uri": "https://localhost:8080/",
     "height": 36
    },
    "deletable": true,
    "editable": true,
    "id": "9P6H3TIoU263",
    "outputId": "928bc0e9-e889-46fc-d079-c4cebbae85f8"
   },
   "outputs": [
    {
     "data": {
      "text/plain": [
       "'an example that re-assigned the original string'"
      ]
     },
     "execution_count": 24,
     "metadata": {},
     "output_type": "execute_result"
    }
   ],
   "source": [
    "# 字符串连接并重新赋值示例\n",
    "# 在大模型开发中，这种操作常用于构建动态提示词、累积文本内容等\n",
    "simple_string1 += ' that re-assigned the original string'  # 修改原变量，连接新字符串\n",
    "simple_string1  # 显示更新后的值：'an example that re-assigned the original string'"
   ]
  },
  {
   "cell_type": "code",
   "execution_count": 25,
   "metadata": {
    "colab": {
     "base_uri": "https://localhost:8080/",
     "height": 36
    },
    "deletable": true,
    "editable": true,
    "id": "SDR72B_sU263",
    "outputId": "5984fb3e-b19d-4abf-dd8e-d699c92fbab6"
   },
   "outputs": [
    {
     "data": {
      "text/plain": [
       "'oranges oranges oranges '"
      ]
     },
     "execution_count": 25,
     "metadata": {},
     "output_type": "execute_result"
    }
   ],
   "source": [
    "# 字符串重复并重新赋值示例\n",
    "# 在大模型开发中，这种操作常用于生成重复内容、创建格式化文本等\n",
    "simple_string2 *= 3  # 将字符串重复3次并重新赋值\n",
    "simple_string2       # 显示更新后的值：'oranges oranges oranges '"
   ]
  },
  {
   "cell_type": "code",
   "execution_count": 26,
   "metadata": {
    "deletable": true,
    "editable": true,
    "id": "ylayxJ1ZU264"
   },
   "outputs": [],
   "source": [
    "# 重要提醒：减法、除法和递减操作符不适用于字符串\n",
    "# 在大模型开发中，如果需要字符串操作，请使用专门的字符串方法"
   ]
  },
  {
   "cell_type": "markdown",
   "metadata": {
    "deletable": true,
    "editable": true,
    "id": "d2_PJVjPU264"
   },
   "source": [
    "## 基本容器类型\n",
    "\n",
    "> **核心概念**：容器是用于将其他对象组合在一起的对象。在大模型开发中，容器类型是处理结构化数据的基础。\n",
    "\n",
    "### 可变性与不可变性\n",
    "\n",
    "- **可变对象**：在创建后可以被修改（如列表、字典、集合）\n",
    "- **不可变对象**：在创建后不能被修改（如字符串、元组、数字）\n",
    "\n",
    "\n",
    "### 基本容器类型详解\n",
    "\n",
    "#### 序列类型（有序，支持索引）\n",
    "- **`str`**（字符串）\n",
    "  - 不可变；通过整数索引访问\n",
    "  - 项目按添加顺序存储\n",
    "  - 在大模型开发中用于存储文本、提示词、响应等\n",
    "\n",
    "- **`list`**（列表）\n",
    "  - 可变；通过整数索引访问\n",
    "  - 项目按添加顺序存储\n",
    "  - 在大模型开发中用于存储对话历史、配置参数、处理结果等\n",
    "  - 示例：`[3, 5, 6, 3, 'dog', 'cat', False]`\n",
    "\n",
    "- **`tuple`**（元组）\n",
    "  - 不可变；通过整数索引访问\n",
    "  - 项目按添加顺序存储\n",
    "  - 在大模型开发中用于存储固定配置、坐标、状态等\n",
    "  - 示例：`(3, 5, 6, 3, 'dog', 'cat', False)`\n",
    "\n",
    "#### 非序列类型\n",
    "- **`set`**（集合）\n",
    "  - 可变；无索引访问\n",
    "  - 项目不按添加顺序存储\n",
    "  - 只能包含不可变对象\n",
    "  - 不包含重复对象\n",
    "  - 在大模型开发中用于去重、集合运算等\n",
    "  - 示例：`{3, 5, 6, 'dog', 'cat', False}`\n",
    "\n",
    "- **`dict`**（字典）\n",
    "  - 可变；通过键访问\n",
    "  - 项目不按添加顺序存储\n",
    "  - 在大模型开发中用于存储配置、API响应、键值对数据等\n",
    "  - 示例：`{'name': 'Jane', 'age': 23, 'fav_foods': ['pizza', 'fruit', 'fish']}`\n",
    "\n",
    "### 语法规则\n",
    "\n",
    "- **列表、元组、集合**：使用逗号（,）分隔各个项目\n",
    "- **字典**：使用冒号（:）分隔键和值，使用逗号（,）分隔键值对\n",
    "\n",
    "### 序列类型操作\n",
    "\n",
    "字符串、列表和元组都是**序列类型**，可以使用 `+`、`*`、`+=` 和 `*=` 操作符进行连接和重复操作。"
   ]
  },
  {
   "cell_type": "code",
   "execution_count": 27,
   "metadata": {
    "deletable": true,
    "editable": true,
    "id": "2Cn_xfYVU265"
   },
   "outputs": [],
   "source": [
    "# 大模型开发中的容器类型示例\n",
    "# 这些容器类型在大模型应用中用于存储和管理各种数据\n",
    "\n",
    "list1 = [3, 5, 6, 3, 'dog', 'cat', False]  # 列表：可变，有序，可重复 - 用于存储对话历史、配置列表等\n",
    "tuple1 = (3, 5, 6, 3, 'dog', 'cat', False)  # 元组：不可变，有序，可重复 - 用于存储固定配置、坐标等\n",
    "set1 = {3, 5, 6, 3, 'dog', 'cat', False}  # 集合：可变，无序，不重复 - 用于去重、集合运算等\n",
    "dict1 = {'name': 'Jane', 'age': 23, 'fav_foods': ['pizza', 'fruit', 'fish']}  # 字典：键值对 - 用于存储API响应、配置参数等"
   ]
  },
  {
   "cell_type": "code",
   "execution_count": 28,
   "metadata": {
    "colab": {
     "base_uri": "https://localhost:8080/"
    },
    "deletable": true,
    "editable": true,
    "id": "KYrUH7RhU266",
    "outputId": "fd0a1367-faf4-4f19-8d70-b4eb06a88898"
   },
   "outputs": [
    {
     "data": {
      "text/plain": [
       "[3, 5, 6, 3, 'dog', 'cat', False]"
      ]
     },
     "execution_count": 28,
     "metadata": {},
     "output_type": "execute_result"
    }
   ],
   "source": [
    "# 列表对象中的项目按添加顺序存储\n",
    "# 在大模型开发中，列表的顺序很重要，常用于保持对话历史的时序性\n",
    "list1  # 显示列表内容：[3, 5, 6, 3, 'dog', 'cat', False]"
   ]
  },
  {
   "cell_type": "code",
   "execution_count": 29,
   "metadata": {
    "colab": {
     "base_uri": "https://localhost:8080/"
    },
    "deletable": true,
    "editable": true,
    "id": "FNGRXIx3U267",
    "outputId": "936996da-7490-4003-b9f8-698f875269f3"
   },
   "outputs": [
    {
     "data": {
      "text/plain": [
       "(3, 5, 6, 3, 'dog', 'cat', False)"
      ]
     },
     "execution_count": 29,
     "metadata": {},
     "output_type": "execute_result"
    }
   ],
   "source": [
    "# 元组对象中的项目按添加顺序存储\n",
    "# 在大模型开发中，元组常用于存储不可变的配置信息\n",
    "tuple1  # 显示元组内容：(3, 5, 6, 3, 'dog', 'cat', False)"
   ]
  },
  {
   "cell_type": "code",
   "execution_count": 30,
   "metadata": {
    "colab": {
     "base_uri": "https://localhost:8080/"
    },
    "deletable": true,
    "editable": true,
    "id": "4iREXXYqU267",
    "outputId": "6449e0ce-076b-404d-9fe2-64fbed1cae34"
   },
   "outputs": [
    {
     "data": {
      "text/plain": [
       "{3, 5, 6, False, 'cat', 'dog'}"
      ]
     },
     "execution_count": 30,
     "metadata": {},
     "output_type": "execute_result"
    }
   ],
   "source": [
    "# 集合对象中的项目不按添加顺序存储\n",
    "# 另外，注意值3在这个集合对象中只出现一次（集合不包含重复项）\n",
    "# 在大模型开发中，集合常用于去重、快速查找等操作\n",
    "set1  # 显示集合内容：{False, 3, 5, 6, 'dog', 'cat'}"
   ]
  },
  {
   "cell_type": "code",
   "execution_count": 31,
   "metadata": {
    "colab": {
     "base_uri": "https://localhost:8080/"
    },
    "deletable": true,
    "editable": true,
    "id": "7f0_10_sU268",
    "outputId": "420c34eb-735f-4d44-e78c-538e497155a2"
   },
   "outputs": [
    {
     "data": {
      "text/plain": [
       "{'name': 'Jane', 'age': 23, 'fav_foods': ['pizza', 'fruit', 'fish']}"
      ]
     },
     "execution_count": 31,
     "metadata": {},
     "output_type": "execute_result"
    }
   ],
   "source": [
    "# 字典对象中的项目不按添加顺序存储\n",
    "# 在大模型开发中，字典是最常用的数据结构，用于存储API响应、配置参数等\n",
    "dict1  # 显示字典内容：{'name': 'Jane', 'age': 23, 'fav_foods': ['pizza', 'fruit', 'fish']}"
   ]
  },
  {
   "cell_type": "code",
   "execution_count": 32,
   "metadata": {
    "colab": {
     "base_uri": "https://localhost:8080/"
    },
    "deletable": true,
    "editable": true,
    "id": "AlWkrQjnU269",
    "outputId": "f76b2eb8-947c-47fb-ca72-fb3ed584bcf1"
   },
   "outputs": [
    {
     "data": {
      "text/plain": [
       "[3, 5, 6, 3, 'dog', 'cat', False, 5, 'grapes']"
      ]
     },
     "execution_count": 32,
     "metadata": {},
     "output_type": "execute_result"
    }
   ],
   "source": [
    "# 列表连接并重新赋值示例\n",
    "# 在大模型开发中，这种操作常用于添加新的对话消息、扩展配置列表等\n",
    "list1 += [5, 'grapes']  # 在列表末尾添加新元素\n",
    "list1  # 显示更新后的列表：[3, 5, 6, 3, 'dog', 'cat', False, 5, 'grapes']"
   ]
  },
  {
   "cell_type": "code",
   "execution_count": 33,
   "metadata": {
    "colab": {
     "base_uri": "https://localhost:8080/"
    },
    "deletable": true,
    "editable": true,
    "id": "fZOuiMP1U26-",
    "outputId": "e40d9158-9d67-490a-9675-b8541a22695d"
   },
   "outputs": [
    {
     "data": {
      "text/plain": [
       "(3, 5, 6, 3, 'dog', 'cat', False, 5, 'grapes')"
      ]
     },
     "execution_count": 33,
     "metadata": {},
     "output_type": "execute_result"
    }
   ],
   "source": [
    "# 元组连接并重新赋值示例\n",
    "# 在大模型开发中，这种操作会创建新的元组（因为元组不可变）\n",
    "tuple1 += (5, 'grapes')  # 创建新的元组（元组不可变）\n",
    "tuple1  # 显示更新后的元组：(3, 5, 6, 3, 'dog', 'cat', False, 5, 'grapes')"
   ]
  },
  {
   "cell_type": "code",
   "execution_count": 34,
   "metadata": {
    "colab": {
     "base_uri": "https://localhost:8080/"
    },
    "id": "WEAKE5xSLKJG",
    "outputId": "c2dbc8a6-b24e-4fbd-fc75-30b5d2a06758"
   },
   "outputs": [
    {
     "name": "stdout",
     "output_type": "stream",
     "text": [
      "元组操作错误: 'tuple' object does not support item assignment\n",
      "修改后的列表: [5, 20, 30]\n"
     ]
    }
   ],
   "source": [
    "# 元组 (不可变)\n",
    "my_tuple = (10, 20, 30)\n",
    "try:\n",
    "    my_tuple[0] = 5  # 尝试修改第一个元素\n",
    "except TypeError as e:\n",
    "    print(f\"元组操作错误: {e}\")\n",
    "# 输出: 元组操作错误: 'tuple' object does not support item assignment\n",
    "\n",
    "# 列表 (可变)\n",
    "my_list = [10, 20, 30]\n",
    "my_list[0] = 5  # 成功修改\n",
    "print(f\"修改后的列表: {my_list}\")\n",
    "# 输出: 修改后的列表: [5, 20, 30]"
   ]
  },
  {
   "cell_type": "code",
   "execution_count": 35,
   "metadata": {
    "colab": {
     "base_uri": "https://localhost:8080/"
    },
    "deletable": true,
    "editable": true,
    "id": "h2fGEnpxU26_",
    "outputId": "c9e6aa1e-889b-48e4-ac13-75c7d9e830b4"
   },
   "outputs": [
    {
     "data": {
      "text/plain": [
       "[1, 2, 3, 4, 1, 2, 3, 4]"
      ]
     },
     "execution_count": 35,
     "metadata": {},
     "output_type": "execute_result"
    }
   ],
   "source": [
    "# 列表重复示例（使用乘法操作符）\n",
    "# 在大模型开发中，这种操作常用于生成测试数据、创建重复模式等\n",
    "[1, 2, 3, 4] * 2  # 将列表重复2次：[1, 2, 3, 4, 1, 2, 3, 4]"
   ]
  },
  {
   "cell_type": "code",
   "execution_count": 36,
   "metadata": {
    "colab": {
     "base_uri": "https://localhost:8080/"
    },
    "deletable": true,
    "editable": true,
    "id": "exVWY0ruU27H",
    "outputId": "359f96da-d5f6-4955-a411-c5c44c132dfb"
   },
   "outputs": [
    {
     "data": {
      "text/plain": [
       "(1, 2, 3, 4, 1, 2, 3, 4, 1, 2, 3, 4)"
      ]
     },
     "execution_count": 36,
     "metadata": {},
     "output_type": "execute_result"
    }
   ],
   "source": [
    "# 元组重复示例（使用乘法操作符）\n",
    "# 在大模型开发中，这种操作常用于生成固定模式的配置数据\n",
    "(1, 2, 3, 4) * 3  # 将元组重复3次：(1, 2, 3, 4, 1, 2, 3, 4, 1, 2, 3, 4)"
   ]
  },
  {
   "cell_type": "markdown",
   "metadata": {
    "id": "9ZeKbR1JKl4-"
   },
   "source": [
    "在 Python 中，说 **不可变** 指的是，一旦你创建了一个元组，就**无法再对它进行任何修改**。\n",
    "\n",
    "具体来说，这意味着你不能做以下操作：\n",
    "\n",
    "  * **修改**元组中的任何元素。\n",
    "  * **添加**新的元素到元组中。\n",
    "  * **删除**元组中的任何元素。\n",
    "\n",
    "如果你尝试进行这些操作，Python 解释器会抛出一个 `TypeError` 错误，告诉你元组对象不支持这些操作。\n",
    "\n",
    "-----\n",
    "\n",
    "### 与列表（list）的对比\n",
    "\n",
    "理解元组的不可变性，最好的方式就是将它与 **可变** 的列表进行对比。列表允许你随意修改其内容。\n",
    "\n",
    "**1. 尝试修改一个元素**\n",
    "\n",
    "```python\n",
    "# 元组 (不可变)\n",
    "my_tuple = (10, 20, 30)\n",
    "try:\n",
    "    my_tuple[0] = 5  # 尝试修改第一个元素\n",
    "except TypeError as e:\n",
    "    print(f\"元组操作错误: {e}\")\n",
    "# 输出: 元组操作错误: 'tuple' object does not support item assignment\n",
    "\n",
    "# 列表 (可变)\n",
    "my_list = [10, 20, 30]\n",
    "my_list[0] = 5  # 成功修改\n",
    "print(f\"修改后的列表: {my_list}\")\n",
    "# 输出: 修改后的列表: [5, 20, 30]\n",
    "```\n",
    "\n",
    "**2. 尝试添加或删除元素**\n",
    "\n",
    "```python\n",
    "# 元组 (不可变)\n",
    "another_tuple = (1, 2)\n",
    "try:\n",
    "    another_tuple.append(3) # 尝试添加元素\n",
    "except AttributeError as e:\n",
    "    print(f\"元组操作错误: {e}\")\n",
    "# 输出: 元组操作错误: 'tuple' object has no attribute 'append'\n",
    "\n",
    "# 列表 (可变)\n",
    "another_list = [1, 2]\n",
    "another_list.append(3)  # 成功添加元素\n",
    "del another_list[0]     # 成功删除第一个元素\n",
    "print(f\"修改后的列表: {another_list}\")\n",
    "# 输出: 修改后的列表: [2, 3]\n",
    "```\n",
    "\n",
    "-----\n",
    "\n",
    "### 特殊情况：元组中包含可变对象\n",
    "\n",
    "这是一个常见的混淆点。虽然元组本身是不可变的，但如果元组中包含了一个**可变对象**（比如一个列表），你**可以修改这个可变对象的内容**。\n",
    "\n",
    "例如：\n",
    "\n",
    "```python\n",
    "my_tuple = (1, 2, [3, 4]) # 元组中的第三个元素是一个列表\n",
    "\n",
    "# 我们不能修改元组本身\n",
    "try:\n",
    "    my_tuple[0] = 5\n",
    "except TypeError as e:\n",
    "    print(f\"尝试修改元组元素: {e}\")\n",
    "\n",
    "# 但我们可以修改元组中列表的内容\n",
    "my_tuple[2].append(5)\n",
    "print(f\"修改后的元组: {my_tuple}\")\n",
    "# 输出: 修改后的元组: (1, 2, [3, 4, 5])\n",
    "```\n",
    "\n",
    "在这个例子中，`my_tuple` 这个元组本身没有变（它仍然包含三个元素），但它所引用的那个列表（`[3, 4]`）内部的内容发生了改变。\n",
    "\n",
    "### 总结\n",
    "\n",
    "简单来说，**“元组不可变”** 指的是元组的**结构和内容无法在原地改变**，任何尝试都会失败。这使得元组非常适合用作字典的键、或在需要确保数据不被意外修改的场景中使用。"
   ]
  },
  {
   "cell_type": "code",
   "execution_count": 37,
   "metadata": {
    "colab": {
     "base_uri": "https://localhost:8080/"
    },
    "id": "q9AiBMwALf2N",
    "outputId": "ce3aa719-e56b-424e-a657-d8b0954a58c5"
   },
   "outputs": [
    {
     "name": "stdout",
     "output_type": "stream",
     "text": [
      "尝试修改元组元素: 'tuple' object does not support item assignment\n",
      "修改后的元组: (1, 2, [3, 4, 5])\n"
     ]
    }
   ],
   "source": [
    "## 特殊情况：元组中包含可变对象\n",
    "my_tuple = (1, 2, [3, 4]) # 元组中的第三个元素是一个列表\n",
    "\n",
    "# 我们不能修改元组本身\n",
    "try:\n",
    "    my_tuple[0] = 5\n",
    "except TypeError as e:\n",
    "    print(f\"尝试修改元组元素: {e}\")\n",
    "\n",
    "# 但我们可以修改元组中列表的内容\n",
    "my_tuple[2].append(5)\n",
    "print(f\"修改后的元组: {my_tuple}\")\n",
    "# 输出: 修改后的元组: (1, 2, [3, 4, 5])"
   ]
  },
  {
   "cell_type": "markdown",
   "metadata": {
    "deletable": true,
    "editable": true,
    "id": "xvrMsyQcU27I"
   },
   "source": [
    "## 访问容器中的数据\n",
    "\n",
    "> **核心技能**：在大模型开发中，正确访问容器数据是处理API响应、解析配置、提取信息的基础技能。\n",
    "\n",
    "### 下标表示法（方括号）\n",
    "\n",
    "对于字符串、列表、元组和字典，我们可以使用**下标表示法**（方括号）来访问索引处的数据。\n",
    "\n",
    "#### 序列类型索引（字符串、列表、元组）\n",
    "- 通过整数索引访问，**从0开始**作为第一项\n",
    "- 支持访问项目范围，称为**切片**\n",
    "- 使用**负索引**从序列的后面开始\n",
    "\n",
    "#### 字典索引\n",
    "- 通过其键进行索引\n",
    "- 键可以是字符串、数字、元组等不可变类型\n",
    "\n",
    "#### 集合限制\n",
    "> **重要提醒**：集合没有索引，因此我们不能使用下标表示法来访问数据元素。集合主要用于去重和集合运算。\n",
    "\n",
    "### 大模型开发中的实际应用\n",
    "- **API响应解析**：从JSON响应中提取特定字段\n",
    "- **文本处理**：从字符串中提取子字符串\n",
    "- **配置管理**：从配置字典中获取参数值\n",
    "- **数据清洗**：从列表中筛选和处理数据"
   ]
  },
  {
   "cell_type": "code",
   "execution_count": 38,
   "metadata": {
    "colab": {
     "base_uri": "https://localhost:8080/"
    },
    "deletable": true,
    "editable": true,
    "id": "EY_UwM7rU27J",
    "outputId": "4d68cd1d-03ed-44f4-efe2-0260c85ba8ce"
   },
   "outputs": [
    {
     "data": {
      "text/plain": [
       "3"
      ]
     },
     "execution_count": 38,
     "metadata": {},
     "output_type": "execute_result"
    }
   ],
   "source": [
    "# 访问序列中的第一个项目\n",
    "# 在大模型开发中，这种操作常用于获取列表的第一个元素、字符串的第一个字符等\n",
    "list1[0]  # 获取索引0处的元素（第一个元素）：3"
   ]
  },
  {
   "cell_type": "code",
   "execution_count": 39,
   "metadata": {
    "colab": {
     "base_uri": "https://localhost:8080/",
     "height": 36
    },
    "deletable": true,
    "editable": true,
    "id": "g3L7rm-VU27J",
    "outputId": "0c9d76a6-12f4-4ac1-a163-85928ed1392c"
   },
   "outputs": [
    {
     "data": {
      "text/plain": [
       "'grapes'"
      ]
     },
     "execution_count": 39,
     "metadata": {},
     "output_type": "execute_result"
    }
   ],
   "source": [
    "# 访问序列中的最后一个项目\n",
    "# 在大模型开发中，这种操作常用于获取最新的消息、最后的结果等\n",
    "tuple1[-1]  # 使用负索引获取最后一个元素：'grapes'"
   ]
  },
  {
   "cell_type": "code",
   "execution_count": 40,
   "metadata": {
    "colab": {
     "base_uri": "https://localhost:8080/",
     "height": 36
    },
    "deletable": true,
    "editable": true,
    "id": "B1yMUfnkU27K",
    "outputId": "fe34beea-3eaa-47d7-acf3-136f8a1024f2"
   },
   "outputs": [
    {
     "data": {
      "text/plain": [
       "'examp'"
      ]
     },
     "execution_count": 40,
     "metadata": {},
     "output_type": "execute_result"
    }
   ],
   "source": [
    "# 访问序列中一定范围的项目（切片）\n",
    "# 在大模型开发中，切片常用于提取文本片段、获取子列表等\n",
    "simple_string1[3:8]  # 获取从索引3到7的字符（不包含索引8）：'examp'"
   ]
  },
  {
   "cell_type": "code",
   "execution_count": 41,
   "metadata": {
    "colab": {
     "base_uri": "https://localhost:8080/"
    },
    "deletable": true,
    "editable": true,
    "id": "Fs70C7pnU27K",
    "outputId": "a69c2703-6490-4619-d4ba-9e8d86847639"
   },
   "outputs": [
    {
     "data": {
      "text/plain": [
       "(3, 5, 6, 3, 'dog', 'cat')"
      ]
     },
     "execution_count": 41,
     "metadata": {},
     "output_type": "execute_result"
    }
   ],
   "source": [
    "# 访问序列中一定范围的项目（切片）\n",
    "# 在大模型开发中，这种操作常用于排除最后几个元素、获取前面的数据等\n",
    "tuple1[:-3]  # 获取除最后3个元素外的所有元素：(3, 5, 6, 3, 'dog', 'cat')"
   ]
  },
  {
   "cell_type": "code",
   "execution_count": 42,
   "metadata": {
    "colab": {
     "base_uri": "https://localhost:8080/"
    },
    "deletable": true,
    "editable": true,
    "id": "za9QmBS3U27K",
    "outputId": "fd8d27df-2322-4aef-9c1d-c3c4bc0b67c2"
   },
   "outputs": [
    {
     "data": {
      "text/plain": [
       "['dog', 'cat', False, 5, 'grapes']"
      ]
     },
     "execution_count": 42,
     "metadata": {},
     "output_type": "execute_result"
    }
   ],
   "source": [
    "# 访问序列中一定范围的项目（切片）\n",
    "# 在大模型开发中，这种操作常用于获取从某个位置开始的所有数据\n",
    "list1[4:]  # 获取从索引4开始到末尾的所有元素：['dog', 'cat', False, 5, 'grapes']"
   ]
  },
  {
   "cell_type": "code",
   "execution_count": 43,
   "metadata": {
    "colab": {
     "base_uri": "https://localhost:8080/",
     "height": 36
    },
    "deletable": true,
    "editable": true,
    "id": "uGwutJ35U27L",
    "outputId": "30085d8a-c8ec-4d51-963d-5a1bc8baa2fa"
   },
   "outputs": [
    {
     "data": {
      "text/plain": [
       "'Jane'"
      ]
     },
     "execution_count": 43,
     "metadata": {},
     "output_type": "execute_result"
    }
   ],
   "source": [
    "# 访问字典中的项目\n",
    "# 在大模型开发中，这种操作常用于从API响应中提取特定字段\n",
    "dict1['name']  # 通过键'name'获取对应的值：'Jane'"
   ]
  },
  {
   "cell_type": "code",
   "execution_count": 44,
   "metadata": {
    "colab": {
     "base_uri": "https://localhost:8080/",
     "height": 36
    },
    "deletable": true,
    "editable": true,
    "id": "LNsz-HOPU27L",
    "outputId": "5a47c190-250c-4d62-ab35-eb0eeb6b7ec0"
   },
   "outputs": [
    {
     "data": {
      "text/plain": [
       "'fish'"
      ]
     },
     "execution_count": 44,
     "metadata": {},
     "output_type": "execute_result"
    }
   ],
   "source": [
    "# 访问字典中序列的元素（嵌套访问）\n",
    "# 在大模型开发中，这种操作常用于处理复杂的嵌套数据结构\n",
    "dict1['fav_foods'][2]  # 先获取'fav_foods'键的值（列表），再获取索引2处的元素：'fish'"
   ]
  },
  {
   "cell_type": "markdown",
   "metadata": {
    "deletable": true,
    "editable": true,
    "id": "7rvLP3MiU27L"
   },
   "source": [
    "## Python 内置函数和可调用对象\n",
    "\n",
    "> **核心概念**：函数是Python中可以\"调用\"来执行操作或计算并返回另一个对象的对象。在大模型开发中，函数是构建复杂应用的基础。\n",
    "\n",
    "### 函数调用基础\n",
    "\n",
    "**函数**是你可以\"调用\"来**执行操作**或计算并**返回另一个对象**的 Python 对象。你通过在函数名右侧放置括号来调用函数。某些函数允许你在括号内传递**参数**（用逗号分隔多个参数）。在函数内部，这些参数被视为变量。\n",
    "\n",
    "### 常用内置函数\n",
    "\n",
    "Python 有几个有用的内置函数来帮助你处理不同的对象和环境。以下是大模型开发中常用的函数：\n",
    "\n",
    "#### 类型和检查函数\n",
    "- **`type(obj)`** - 确定对象的类型，用于调试和类型检查\n",
    "- **`len(container)`** - 确定容器中有多少项目，常用于检查数据长度\n",
    "- **`callable(obj)`** - 确定对象是否可调用，用于检查函数和方法\n",
    "\n",
    "#### 数据处理函数\n",
    "- **`sorted(container)`** - 从容器返回一个新列表，项目已排序\n",
    "- **`sum(container)`** - 计算数字容器的总和，常用于统计计算\n",
    "- **`min(container)`** - 确定容器中的最小项目\n",
    "- **`max(container)`** - 确定容器中的最大项目\n",
    "- **`abs(number)`** - 确定数字的绝对值\n",
    "\n",
    "#### 表示函数\n",
    "- **`repr(obj)`** - 返回对象的字符串表示，用于调试和日志记录\n",
    "\n",
    "### 大模型开发中的应用场景\n",
    "\n",
    "- **数据验证**：使用 `type()` 和 `len()` 验证API响应格式\n",
    "- **统计分析**：使用 `sum()`、`min()`、`max()` 分析模型性能指标\n",
    "- **数据处理**：使用 `sorted()` 对结果进行排序\n",
    "- **调试支持**：使用 `repr()` 输出调试信息\n",
    "\n",
    "> 完整的内置函数列表：[Python官方文档](https://docs.python.org/3/library/functions.html)\n",
    "\n",
    "还有定义你自己的函数和可调用对象的不同方法，我们稍后将探讨。"
   ]
  },
  {
   "cell_type": "code",
   "execution_count": 45,
   "metadata": {
    "colab": {
     "base_uri": "https://localhost:8080/"
    },
    "deletable": true,
    "editable": true,
    "id": "1jYmdXSnU27M",
    "outputId": "f97dfb1e-fe2d-471d-9fb2-f0289e743289"
   },
   "outputs": [
    {
     "data": {
      "text/plain": [
       "str"
      ]
     },
     "execution_count": 45,
     "metadata": {},
     "output_type": "execute_result"
    }
   ],
   "source": [
    "# 使用 type() 函数确定对象的类型\n",
    "# 在大模型开发中，type()常用于验证API响应的数据类型\n",
    "type(simple_string1)  # 返回字符串对象的类型：<class 'str'>"
   ]
  },
  {
   "cell_type": "code",
   "execution_count": 46,
   "metadata": {
    "colab": {
     "base_uri": "https://localhost:8080/"
    },
    "deletable": true,
    "editable": true,
    "id": "K2XEuZygU27M",
    "outputId": "64b84eb9-c94c-4297-817d-fb3d069b0026"
   },
   "outputs": [
    {
     "data": {
      "text/plain": [
       "3"
      ]
     },
     "execution_count": 46,
     "metadata": {},
     "output_type": "execute_result"
    }
   ],
   "source": [
    "# 使用 len() 函数确定容器中有多少项目\n",
    "# 在大模型开发中，len()常用于检查数据长度、验证输入等\n",
    "len(dict1)  # 返回字典中键值对的数量：3"
   ]
  },
  {
   "cell_type": "code",
   "execution_count": 47,
   "metadata": {
    "colab": {
     "base_uri": "https://localhost:8080/"
    },
    "deletable": true,
    "editable": true,
    "id": "CUh5qRUZU27M",
    "outputId": "2da3192d-53a9-4c47-8de9-670c76447cb9"
   },
   "outputs": [
    {
     "data": {
      "text/plain": [
       "24"
      ]
     },
     "execution_count": 47,
     "metadata": {},
     "output_type": "execute_result"
    }
   ],
   "source": [
    "# 使用 len() 函数确定容器中有多少项目\n",
    "# 在大模型开发中，len()常用于检查文本长度、计算token数量等\n",
    "len(simple_string2)  # 返回字符串中字符的数量：24"
   ]
  },
  {
   "cell_type": "code",
   "execution_count": 48,
   "metadata": {
    "colab": {
     "base_uri": "https://localhost:8080/"
    },
    "deletable": true,
    "editable": true,
    "id": "InzA1HSKU27N",
    "outputId": "ba416f93-c6df-4dbb-8f36-d0e6b916fa8d"
   },
   "outputs": [
    {
     "data": {
      "text/plain": [
       "True"
      ]
     },
     "execution_count": 48,
     "metadata": {},
     "output_type": "execute_result"
    }
   ],
   "source": [
    "# 使用 callable() 函数确定对象是否可调用\n",
    "# 在大模型开发中，callable()常用于检查API方法、验证函数等\n",
    "callable(len)  # 检查 len 函数是否可调用：True"
   ]
  },
  {
   "cell_type": "code",
   "execution_count": 49,
   "metadata": {
    "colab": {
     "base_uri": "https://localhost:8080/"
    },
    "deletable": true,
    "editable": true,
    "id": "kVTxXNiXU27O",
    "outputId": "0e7d9a74-5d64-4e05-e876-2d37b8bff0cc"
   },
   "outputs": [
    {
     "data": {
      "text/plain": [
       "False"
      ]
     },
     "execution_count": 49,
     "metadata": {},
     "output_type": "execute_result"
    }
   ],
   "source": [
    "# 使用 callable() 函数确定对象是否可调用\n",
    "# 在大模型开发中，callable()常用于检查对象是否为函数或方法\n",
    "callable(dict1)  # 检查字典对象是否可调用：False"
   ]
  },
  {
   "cell_type": "code",
   "execution_count": 50,
   "metadata": {
    "colab": {
     "base_uri": "https://localhost:8080/"
    },
    "deletable": true,
    "editable": true,
    "id": "5yBWcuesU27O",
    "outputId": "931a91b6-a2c1-401b-9e14-b913704dbc98"
   },
   "outputs": [
    {
     "data": {
      "text/plain": [
       "[-3, 1, 2, 3.6, 5, 7, 10]"
      ]
     },
     "execution_count": 50,
     "metadata": {},
     "output_type": "execute_result"
    }
   ],
   "source": [
    "# 使用 sorted() 函数从容器返回一个新列表，项目已排序\n",
    "# 在大模型开发中，sorted()常用于对结果进行排序、分析数据分布等\n",
    "sorted([10, 1, 3.6, 7, 5, 2, -3])  # 对数字列表进行排序：[-3, 1, 2, 3.6, 5, 7, 10]"
   ]
  },
  {
   "cell_type": "code",
   "execution_count": 51,
   "metadata": {
    "colab": {
     "base_uri": "https://localhost:8080/"
    },
    "deletable": true,
    "editable": true,
    "id": "9l1EB4MRU27O",
    "outputId": "ae3561c9-ebd7-4d8e-d42b-6c8adc78a47b"
   },
   "outputs": [
    {
     "data": {
      "text/plain": [
       "['California', 'Chicago', 'ants', 'cats', 'dogs', 'mice', 'zebras']"
      ]
     },
     "execution_count": 51,
     "metadata": {},
     "output_type": "execute_result"
    }
   ],
   "source": [
    "# 使用 sorted() 函数从容器返回一个新列表，项目已排序\n",
    "# - 注意大写字符串排在前面（ASCII码顺序）\n",
    "# 在大模型开发中，sorted()常用于对文本数据进行排序、组织结果等\n",
    "sorted(['dogs', 'cats', 'zebras', 'Chicago', 'California', 'ants', 'mice'])  # 对字符串列表进行排序：['California', 'Chicago', 'ants', 'cats', 'dogs', 'mice', 'zebras']"
   ]
  },
  {
   "cell_type": "code",
   "execution_count": 52,
   "metadata": {
    "colab": {
     "base_uri": "https://localhost:8080/"
    },
    "deletable": true,
    "editable": true,
    "id": "VmWSr4qtU27P",
    "outputId": "f29a7119-276f-48b5-b3c5-339b0bdeea3f"
   },
   "outputs": [
    {
     "data": {
      "text/plain": [
       "25.6"
      ]
     },
     "execution_count": 52,
     "metadata": {},
     "output_type": "execute_result"
    }
   ],
   "source": [
    "# 使用 sum() 函数计算数字容器的总和\n",
    "# 在大模型开发中，sum()常用于计算总token数、统计指标等\n",
    "sum([10, 1, 3.6, 7, 5, 2, -3])  # 计算列表中所有数字的总和：25.6"
   ]
  },
  {
   "cell_type": "code",
   "execution_count": 53,
   "metadata": {
    "colab": {
     "base_uri": "https://localhost:8080/"
    },
    "deletable": true,
    "editable": true,
    "id": "z2dlPGI0U27P",
    "outputId": "42c843a2-f787-430e-802f-b2beb240b2f5"
   },
   "outputs": [
    {
     "data": {
      "text/plain": [
       "-3"
      ]
     },
     "execution_count": 53,
     "metadata": {},
     "output_type": "execute_result"
    }
   ],
   "source": [
    "# 使用 min() 函数确定容器中的最小项目\n",
    "# 在大模型开发中，min()常用于找到最小值、分析数据范围等\n",
    "min([10, 1, 3.6, 7, 5, 2, -3])  # 找到列表中的最小值：-3"
   ]
  },
  {
   "cell_type": "code",
   "execution_count": 54,
   "metadata": {
    "colab": {
     "base_uri": "https://localhost:8080/",
     "height": 36
    },
    "deletable": true,
    "editable": true,
    "id": "yFre0KasU27Q",
    "outputId": "298092b5-3af1-49f5-8046-c02b1ff4b4aa"
   },
   "outputs": [
    {
     "data": {
      "text/plain": [
       "'a'"
      ]
     },
     "execution_count": 54,
     "metadata": {},
     "output_type": "execute_result"
    }
   ],
   "source": [
    "# 使用 min() 函数确定容器中的最小项目\n",
    "# 在大模型开发中，min()常用于字符串比较、找到最小/最大文本等\n",
    "min(['g', 'z', 'a', 'y'])  # 找到字符串列表中的最小字符（按字母顺序）：'a'"
   ]
  },
  {
   "cell_type": "code",
   "execution_count": 55,
   "metadata": {
    "colab": {
     "base_uri": "https://localhost:8080/"
    },
    "deletable": true,
    "editable": true,
    "id": "LGZKNOzBU27Q",
    "outputId": "1cc7f7b9-a525-4b48-c66c-99c9bb73eb98"
   },
   "outputs": [
    {
     "data": {
      "text/plain": [
       "10"
      ]
     },
     "execution_count": 55,
     "metadata": {},
     "output_type": "execute_result"
    }
   ],
   "source": [
    "# 使用 max() 函数确定容器中的最大项目\n",
    "# 在大模型开发中，max()常用于找到最大值、分析数据范围等\n",
    "max([10, 1, 3.6, 7, 5, 2, -3])  # 找到列表中的最大值：10"
   ]
  },
  {
   "cell_type": "code",
   "execution_count": 56,
   "metadata": {
    "colab": {
     "base_uri": "https://localhost:8080/",
     "height": 36
    },
    "deletable": true,
    "editable": true,
    "id": "s4YXs6aFU27Q",
    "outputId": "1014a632-4588-4f9c-e034-64ae0765b989"
   },
   "outputs": [
    {
     "data": {
      "text/plain": [
       "'s'"
      ]
     },
     "execution_count": 56,
     "metadata": {},
     "output_type": "execute_result"
    }
   ],
   "source": [
    "# 使用 max() 函数确定容器中的最大项目\n",
    "# 在大模型开发中，max()常用于字符串比较、找到最大字符等\n",
    "max('gibberish')  # 找到字符串中的最大字符（按字母顺序）：'s'"
   ]
  },
  {
   "cell_type": "code",
   "execution_count": 57,
   "metadata": {
    "colab": {
     "base_uri": "https://localhost:8080/"
    },
    "deletable": true,
    "editable": true,
    "id": "V3Bzso3rU27R",
    "outputId": "fa416607-3764-4154-b63f-d6a96bc53699"
   },
   "outputs": [
    {
     "data": {
      "text/plain": [
       "10"
      ]
     },
     "execution_count": 57,
     "metadata": {},
     "output_type": "execute_result"
    }
   ],
   "source": [
    "# 使用 abs() 函数确定数字的绝对值\n",
    "# 在大模型开发中，abs()常用于计算距离、处理负数等\n",
    "abs(10)  # 正数的绝对值是它本身：10"
   ]
  },
  {
   "cell_type": "code",
   "execution_count": 58,
   "metadata": {
    "colab": {
     "base_uri": "https://localhost:8080/"
    },
    "deletable": true,
    "editable": true,
    "id": "vquqrSTXU27R",
    "outputId": "cfe3053f-d3c2-4888-8e04-d674f57da4f7"
   },
   "outputs": [
    {
     "data": {
      "text/plain": [
       "12"
      ]
     },
     "execution_count": 58,
     "metadata": {},
     "output_type": "execute_result"
    }
   ],
   "source": [
    "# 使用 abs() 函数确定数字的绝对值\n",
    "# 在大模型开发中，abs()常用于计算误差、处理负数等\n",
    "abs(-12)  # 负数的绝对值是它的相反数：12"
   ]
  },
  {
   "cell_type": "code",
   "execution_count": 59,
   "metadata": {
    "colab": {
     "base_uri": "https://localhost:8080/",
     "height": 36
    },
    "deletable": true,
    "editable": true,
    "id": "zNEBR8jcU27S",
    "outputId": "4f154f91-2473-4b46-ad2b-3fac75259fe2"
   },
   "outputs": [
    {
     "data": {
      "text/plain": [
       "\"{'cat', False, 3, 5, 6, 'dog'}\""
      ]
     },
     "execution_count": 59,
     "metadata": {},
     "output_type": "execute_result"
    }
   ],
   "source": [
    "# 使用 repr() 函数返回对象的字符串表示\n",
    "# 在大模型开发中，repr()常用于调试、日志记录等\n",
    "repr(set1)  # 返回集合的官方字符串表示：\"{False, 3, 5, 6, 'dog', 'cat'}\""
   ]
  },
  {
   "cell_type": "markdown",
   "metadata": {
    "deletable": true,
    "editable": true,
    "id": "4n98LeCOSy2E",
    "jp-MarkdownHeadingCollapsed": true
   },
   "source": [
    "## str（字符串）对象的一些方法\n",
    "\n",
    "> **重要技能**：字符串方法是大模型开发中最常用的工具，用于文本处理、数据清洗、格式转换等。\n",
    "\n",
    "### 大小写转换方法\n",
    "- **`.capitalize()`** - 返回字符串的大写版本（只有第一个字符大写）\n",
    "- **`.upper()`** - 返回字符串的大写版本（所有字符大写）\n",
    "- **`.lower()`** - 返回字符串的小写版本（所有字符小写）\n",
    "\n",
    "### 文本分析方法\n",
    "- **`.count(substring)`** - 返回子字符串在字符串中出现的次数\n",
    "- **`.startswith(substring)`** - 确定字符串是否以子字符串开头\n",
    "- **`.endswith(substring)`** - 确定字符串是否以子字符串结尾\n",
    "\n",
    "### 文本替换方法\n",
    "- **`.replace(old, new)`** - 返回字符串的副本，其中\"old\"的出现被\"new\"替换\n",
    "\n",
    "### 大模型开发中的应用场景\n",
    "- **文本预处理**：使用 `.lower()` 和 `.strip()` 标准化输入文本\n",
    "- **数据验证**：使用 `.startswith()` 和 `.endswith()` 验证文本格式\n",
    "- **内容替换**：使用 `.replace()` 清理和转换文本内容\n",
    "- **统计分析**：使用 `.count()` 分析文本特征"
   ]
  },
  {
   "cell_type": "code",
   "execution_count": 60,
   "metadata": {
    "deletable": true,
    "editable": true,
    "id": "-ep5WQirSy2F"
   },
   "outputs": [],
   "source": [
    "# 将字符串赋值给变量\n",
    "# 在大模型开发中，这种混合大小写的字符串常用于测试文本处理功能\n",
    "a_string = 'tHis is a sTriNg'  # 包含大小写混合的字符串"
   ]
  },
  {
   "cell_type": "code",
   "execution_count": 61,
   "metadata": {
    "colab": {
     "base_uri": "https://localhost:8080/",
     "height": 36
    },
    "deletable": true,
    "editable": true,
    "id": "N0wcyJnHSy2F",
    "outputId": "7252f1c4-6679-4e73-cbed-03daea00da62"
   },
   "outputs": [
    {
     "data": {
      "text/plain": [
       "'This is a string'"
      ]
     },
     "execution_count": 61,
     "metadata": {},
     "output_type": "execute_result"
    }
   ],
   "source": [
    "# 返回字符串的大写版本（只有第一个字符大写）\n",
    "# 在大模型开发中，capitalize()常用于格式化用户输入、标题等\n",
    "a_string.capitalize()  # 将第一个字符大写，其余小写：'This is a string'"
   ]
  },
  {
   "cell_type": "code",
   "execution_count": 62,
   "metadata": {
    "colab": {
     "base_uri": "https://localhost:8080/",
     "height": 36
    },
    "deletable": true,
    "editable": true,
    "id": "8LMtoCfySy2F",
    "outputId": "97da69af-3a27-4dc1-f7d3-4378c2d3c51b"
   },
   "outputs": [
    {
     "data": {
      "text/plain": [
       "'THIS IS A STRING'"
      ]
     },
     "execution_count": 62,
     "metadata": {},
     "output_type": "execute_result"
    }
   ],
   "source": [
    "# 返回字符串的大写版本（所有字符大写）\n",
    "# 在大模型开发中，upper()常用于标准化文本、比较等\n",
    "a_string.upper()  # 将所有字符转换为大写：'THIS IS A STRING'"
   ]
  },
  {
   "cell_type": "code",
   "execution_count": 63,
   "metadata": {
    "colab": {
     "base_uri": "https://localhost:8080/",
     "height": 36
    },
    "deletable": true,
    "editable": true,
    "id": "ggZ_UmI2Sy2F",
    "outputId": "4db74b05-4ae8-454b-83e8-2b091dde7d84"
   },
   "outputs": [
    {
     "data": {
      "text/plain": [
       "'this is a string'"
      ]
     },
     "execution_count": 63,
     "metadata": {},
     "output_type": "execute_result"
    }
   ],
   "source": [
    "# 返回字符串的小写版本（所有字符小写）\n",
    "# 在大模型开发中，lower()常用于文本标准化、预处理等\n",
    "a_string.lower()  # 将所有字符转换为小写：'this is a string'"
   ]
  },
  {
   "cell_type": "code",
   "execution_count": 64,
   "metadata": {
    "colab": {
     "base_uri": "https://localhost:8080/",
     "height": 36
    },
    "deletable": true,
    "editable": true,
    "id": "7Q168B72Sy2G",
    "outputId": "4c6ae19e-3580-499a-b9c6-cbadceecfd73"
   },
   "outputs": [
    {
     "data": {
      "text/plain": [
       "'tHis is a sTriNg'"
      ]
     },
     "execution_count": 64,
     "metadata": {},
     "output_type": "execute_result"
    }
   ],
   "source": [
    "# 重要概念：调用的方法实际上没有修改原字符串（字符串是不可变的）\n",
    "# 在大模型开发中，理解字符串不可变性很重要，每次操作都会创建新字符串\n",
    "a_string  # 原字符串保持不变：'tHis is a sTriNg'"
   ]
  },
  {
   "cell_type": "code",
   "execution_count": 65,
   "metadata": {
    "colab": {
     "base_uri": "https://localhost:8080/"
    },
    "deletable": true,
    "editable": true,
    "id": "tOTILSrbSy2G",
    "outputId": "57b36ee1-b493-4e57-cc30-f1da8170ae3c"
   },
   "outputs": [
    {
     "data": {
      "text/plain": [
       "3"
      ]
     },
     "execution_count": 65,
     "metadata": {},
     "output_type": "execute_result"
    }
   ],
   "source": [
    "# 计算子字符串在字符串中出现的次数\n",
    "# 在大模型开发中，count()常用于文本分析、统计字符等\n",
    "a_string.count('i')  # 计算字符'i'在字符串中出现的次数：3"
   ]
  },
  {
   "cell_type": "code",
   "execution_count": 66,
   "metadata": {
    "colab": {
     "base_uri": "https://localhost:8080/"
    },
    "deletable": true,
    "editable": true,
    "id": "P6XwQxLYSy2G",
    "outputId": "14972dac-e5d1-4a86-ca8e-aab6b59c3dbc"
   },
   "outputs": [
    {
     "data": {
      "text/plain": [
       "1"
      ]
     },
     "execution_count": 66,
     "metadata": {},
     "output_type": "execute_result"
    }
   ],
   "source": [
    "# 计算子字符串在字符串中某个位置之后出现的次数\n",
    "# 在大模型开发中，这种操作常用于分析文本的特定部分\n",
    "a_string.count('i', 7)  # 从索引7开始计算字符'i'的出现次数：1"
   ]
  },
  {
   "cell_type": "code",
   "execution_count": 67,
   "metadata": {
    "colab": {
     "base_uri": "https://localhost:8080/"
    },
    "deletable": true,
    "editable": true,
    "id": "r5JxhDSoSy2G",
    "outputId": "2bf8e4d1-d0d8-4449-e167-ff5088c986cc"
   },
   "outputs": [
    {
     "data": {
      "text/plain": [
       "2"
      ]
     },
     "execution_count": 67,
     "metadata": {},
     "output_type": "execute_result"
    }
   ],
   "source": [
    "# 计算子字符串在字符串中出现的次数\n",
    "# 在大模型开发中，这种操作常用于分析关键词、短语等\n",
    "a_string.count('is')  # 计算子字符串'is'在字符串中出现的次数：2"
   ]
  },
  {
   "cell_type": "code",
   "execution_count": 68,
   "metadata": {
    "colab": {
     "base_uri": "https://localhost:8080/"
    },
    "deletable": true,
    "editable": true,
    "id": "jungZpUKSy2G",
    "outputId": "2c8d755f-1dc2-4d5a-a503-345694c61298"
   },
   "outputs": [
    {
     "data": {
      "text/plain": [
       "False"
      ]
     },
     "execution_count": 68,
     "metadata": {},
     "output_type": "execute_result"
    }
   ],
   "source": [
    "# 字符串是否以'this'开头？\n",
    "# 在大模型开发中，startswith()常用于验证输入格式、检查前缀等\n",
    "a_string.startswith('this')  # 检查字符串是否以'this'开头（区分大小写）：False"
   ]
  },
  {
   "cell_type": "code",
   "execution_count": 69,
   "metadata": {
    "colab": {
     "base_uri": "https://localhost:8080/"
    },
    "deletable": true,
    "editable": true,
    "id": "0ClvSWBXSy2G",
    "outputId": "5078c7f3-f9f3-4c84-f128-e342abfaecb4"
   },
   "outputs": [
    {
     "data": {
      "text/plain": [
       "True"
      ]
     },
     "execution_count": 69,
     "metadata": {},
     "output_type": "execute_result"
    }
   ],
   "source": [
    "# 小写字符串是否以'this'开头？\n",
    "# 在大模型开发中，这种链式调用常用于文本预处理和验证\n",
    "a_string.lower().startswith('this')  # 先转换为小写，再检查是否以'this'开头：True"
   ]
  },
  {
   "cell_type": "code",
   "execution_count": 70,
   "metadata": {
    "colab": {
     "base_uri": "https://localhost:8080/"
    },
    "deletable": true,
    "editable": true,
    "id": "GwbBdl2iSy2G",
    "outputId": "437df042-ba03-4dd3-b8b4-193947ae4b57"
   },
   "outputs": [
    {
     "data": {
      "text/plain": [
       "True"
      ]
     },
     "execution_count": 70,
     "metadata": {},
     "output_type": "execute_result"
    }
   ],
   "source": [
    "# 字符串是否以'Ng'结尾？\n",
    "# 在大模型开发中，endswith()常用于验证文件格式、检查后缀等\n",
    "a_string.endswith('Ng')  # 检查字符串是否以'Ng'结尾（区分大小写）：True"
   ]
  },
  {
   "cell_type": "code",
   "execution_count": 71,
   "metadata": {
    "colab": {
     "base_uri": "https://localhost:8080/",
     "height": 36
    },
    "deletable": true,
    "editable": true,
    "id": "1zGDFHBBSy2H",
    "outputId": "dfb362d8-588b-4539-ac8b-33099ce3ad0b"
   },
   "outputs": [
    {
     "data": {
      "text/plain": [
       "'tHXYZ XYZ a sTriNg'"
      ]
     },
     "execution_count": 71,
     "metadata": {},
     "output_type": "execute_result"
    }
   ],
   "source": [
    "# 返回字符串的版本，其中子字符串被其他内容替换\n",
    "# 在大模型开发中，replace()常用于文本清理、内容替换等\n",
    "a_string.replace('is', 'XYZ')  # 将所有'is'替换为'XYZ'：'tHXYZ XYZ a sTriNg'"
   ]
  },
  {
   "cell_type": "code",
   "execution_count": 72,
   "metadata": {
    "colab": {
     "base_uri": "https://localhost:8080/",
     "height": 36
    },
    "deletable": true,
    "editable": true,
    "id": "1RaqrXmLSy2H",
    "outputId": "363c0b1d-9b53-4acb-f090-4713acbc066c"
   },
   "outputs": [
    {
     "data": {
      "text/plain": [
       "'tH!s !s a sTr!Ng'"
      ]
     },
     "execution_count": 72,
     "metadata": {},
     "output_type": "execute_result"
    }
   ],
   "source": [
    "# 返回字符串的版本，其中子字符串被其他内容替换\n",
    "# 在大模型开发中，replace()常用于字符替换、文本转换等\n",
    "a_string.replace('i', '!')  # 将所有'i'替换为'!'：'tH!s !s a sTr!Ng'"
   ]
  },
  {
   "cell_type": "code",
   "execution_count": 73,
   "metadata": {
    "colab": {
     "base_uri": "https://localhost:8080/",
     "height": 36
    },
    "deletable": true,
    "editable": true,
    "id": "4KV4KgiVSy2H",
    "outputId": "0488e08e-0df5-4eee-a3af-fbda0b23d481"
   },
   "outputs": [
    {
     "data": {
      "text/plain": [
       "'tH!s !s a sTriNg'"
      ]
     },
     "execution_count": 73,
     "metadata": {},
     "output_type": "execute_result"
    }
   ],
   "source": [
    "# 返回字符串的版本，其中前2个出现的子字符串被其他内容替换\n",
    "# 在大模型开发中，这种限制替换次数常用于精确控制文本修改\n",
    "a_string.replace('i', '!', 2)  # 只替换前2个'i'为'!'：'tH!s !s a sTriNg'"
   ]
  },
  {
   "cell_type": "markdown",
   "metadata": {
    "collapsed": true,
    "deletable": true,
    "editable": true,
    "id": "jXdBbBm4U27k",
    "jp-MarkdownHeadingCollapsed": true,
    "jupyter": {
     "outputs_hidden": true
    }
   },
   "source": [
    "## list（列表）对象的一些方法\n",
    "\n",
    "> **重要技能**：列表方法是大模型开发中处理数据集合的核心工具，用于管理对话历史、配置参数、处理结果等。\n",
    "\n",
    "### 添加元素方法\n",
    "- **`.append(item)`** - 在列表末尾添加单个元素\n",
    "- **`.extend([item1, item2, ...])`** - 在列表末尾添加多个元素\n",
    "\n",
    "### 删除元素方法\n",
    "- **`.remove(item)`** - 删除列表中第一个匹配的元素\n",
    "- **`.pop()`** - 删除并返回列表末尾的元素\n",
    "- **`.pop(index)`** - 删除并返回指定索引位置的元素\n",
    "\n",
    "### 大模型开发中的应用场景\n",
    "- **对话管理**：使用 `append()` 添加新的对话消息\n",
    "- **数据处理**：使用 `extend()` 批量添加处理结果\n",
    "- **历史清理**：使用 `pop()` 和 `remove()` 管理对话历史长度\n",
    "- **配置管理**：动态添加和删除配置参数"
   ]
  },
  {
   "cell_type": "code",
   "execution_count": 74,
   "metadata": {
    "colab": {
     "base_uri": "https://localhost:8080/"
    },
    "deletable": true,
    "editable": true,
    "id": "kJ6ZUlveU27k",
    "outputId": "d389a206-ab30-4c86-efc5-559174a00165"
   },
   "outputs": [
    {
     "name": "stdout",
     "output_type": "stream",
     "text": [
      "添加消息后的对话历史:\n",
      "1. user: 你好\n",
      "2. assistant: 你好！有什么可以帮助你的吗？\n",
      "\n",
      "批量添加后的对话历史:\n",
      "1. user: 你好\n",
      "2. assistant: 你好！有什么可以帮助你的吗？\n",
      "3. user: 请介绍一下Python\n",
      "4. assistant: Python是一种高级编程语言...\n",
      "5. user: 谢谢\n",
      "\n",
      "删除的最后一条消息: 谢谢\n",
      "\n",
      "删除特定消息后的对话历史:\n",
      "1. user: 你好\n",
      "2. assistant: 你好！有什么可以帮助你的吗？\n",
      "3. assistant: Python是一种高级编程语言...\n",
      "\n",
      "删除的第一条消息: 你好\n",
      "\n",
      "最终对话历史长度: 2\n"
     ]
    }
   ],
   "source": [
    "# 大模型开发中的列表方法示例\n",
    "\n",
    "# 创建一个对话历史列表\n",
    "conversation_history = []\n",
    "\n",
    "# 使用 append() 添加单个消息\n",
    "conversation_history.append({\"role\": \"user\", \"content\": \"你好\"})\n",
    "conversation_history.append({\"role\": \"assistant\", \"content\": \"你好！有什么可以帮助你的吗？\"})\n",
    "\n",
    "print(\"添加消息后的对话历史:\")\n",
    "for i, msg in enumerate(conversation_history):\n",
    "    print(f\"{i+1}. {msg['role']}: {msg['content']}\")\n",
    "\n",
    "# 使用 extend() 批量添加消息\n",
    "new_messages = [\n",
    "    {\"role\": \"user\", \"content\": \"请介绍一下Python\"},\n",
    "    {\"role\": \"assistant\", \"content\": \"Python是一种高级编程语言...\"},\n",
    "    {\"role\": \"user\", \"content\": \"谢谢\"}\n",
    "]\n",
    "conversation_history.extend(new_messages)\n",
    "\n",
    "print(\"\\n批量添加后的对话历史:\")\n",
    "for i, msg in enumerate(conversation_history):\n",
    "    print(f\"{i+1}. {msg['role']}: {msg['content']}\")\n",
    "\n",
    "# 使用 pop() 删除最后一条消息\n",
    "last_message = conversation_history.pop()\n",
    "print(f\"\\n删除的最后一条消息: {last_message['content']}\")\n",
    "\n",
    "# 使用 remove() 删除特定消息\n",
    "conversation_history.remove({\"role\": \"user\", \"content\": \"请介绍一下Python\"})\n",
    "print(\"\\n删除特定消息后的对话历史:\")\n",
    "for i, msg in enumerate(conversation_history):\n",
    "    print(f\"{i+1}. {msg['role']}: {msg['content']}\")\n",
    "\n",
    "# 使用 pop(index) 删除指定位置的消息\n",
    "if len(conversation_history) > 0:\n",
    "    first_message = conversation_history.pop(0)\n",
    "    print(f\"\\n删除的第一条消息: {first_message['content']}\")\n",
    "\n",
    "print(f\"\\n最终对话历史长度: {len(conversation_history)}\")\n"
   ]
  },
  {
   "cell_type": "markdown",
   "metadata": {
    "id": "lfcmqqsTU27l",
    "jp-MarkdownHeadingCollapsed": true
   },
   "source": [
    "## set（集合）对象的一些方法\n",
    "\n",
    "> **重要技能**：集合方法在大模型开发中用于去重、集合运算、数据比较等操作，特别适合处理唯一值集合。\n",
    "\n",
    "### 添加元素方法\n",
    "- **`.add(item)`** - 向集合添加单个元素\n",
    "- **`.update([item1, item2, ...])`** - 向集合添加多个元素\n",
    "- **`.update(set2, set3, ...)`** - 将多个集合的元素添加到当前集合\n",
    "\n",
    "### 删除元素方法\n",
    "- **`.remove(item)`** - 从集合中删除指定元素\n",
    "- **`.pop()`** - 删除并返回集合中的随机元素\n",
    "\n",
    "### 集合运算方法\n",
    "- **`.difference(set2)`** - 返回在当前集合中但不在另一个集合中的元素\n",
    "- **`.intersection(set2)`** - 返回两个集合的交集\n",
    "- **`.union(set2)`** - 返回两个集合的并集\n",
    "- **`.symmetric_difference(set2)`** - 返回只在其中一个集合中的元素\n",
    "\n",
    "### 集合关系方法\n",
    "- **`.issuperset(set2)`** - 检查当前集合是否包含另一个集合的所有元素\n",
    "- **`.issubset(set2)`** - 检查当前集合是否被另一个集合包含\n",
    "\n",
    "### 大模型开发中的应用场景\n",
    "- **去重处理**：使用 `add()` 和 `update()` 去重文本、标签等\n",
    "- **数据比较**：使用集合运算比较不同数据集\n",
    "- **权限管理**：使用集合关系方法检查用户权限\n",
    "- **特征提取**：使用交集和差集分析文本特征\n"
   ]
  },
  {
   "cell_type": "code",
   "execution_count": 75,
   "metadata": {
    "colab": {
     "base_uri": "https://localhost:8080/"
    },
    "id": "dEvlWBPIU27l",
    "outputId": "38cc56d5-7ffa-4d4f-fa6c-ff2b89d8c4fb"
   },
   "outputs": [
    {
     "name": "stdout",
     "output_type": "stream",
     "text": [
      "用户关键词: {'machine learning', 'ai', 'python'}\n",
      "模型关键词: {'neural network', 'deep learning', 'ai', 'python'}\n",
      "\n",
      "添加新关键词后: {'machine learning', 'ai', 'python', 'natural language processing'}\n",
      "批量添加后: {'machine learning', 'attention', 'gpt', 'natural language processing', 'transformer', 'ai', 'python'}\n",
      "\n",
      "共同关键词: {'ai', 'python'}\n",
      "用户独有关键词: {'machine learning', 'attention', 'gpt', 'natural language processing', 'transformer'}\n",
      "所有关键词: {'machine learning', 'attention', 'neural network', 'gpt', 'natural language processing', 'transformer', 'ai', 'deep learning', 'python'}\n",
      "非共同关键词: {'machine learning', 'neural network', 'attention', 'gpt', 'natural language processing', 'transformer', 'deep learning'}\n",
      "\n",
      "删除'gpt'后: {'machine learning', 'attention', 'natural language processing', 'transformer', 'ai', 'python'}\n",
      "随机删除的关键词: machine learning\n",
      "剩余关键词: {'attention', 'natural language processing', 'transformer', 'ai', 'python'}\n",
      "\n",
      "模型关键词是否包含用户关键词的子集: False\n",
      "用户关键词是否是模型关键词的子集: False\n",
      "\n",
      "最终用户关键词数量: 5\n",
      "最终模型关键词数量: 4\n"
     ]
    }
   ],
   "source": [
    "# 大模型开发中的集合方法示例\n",
    "\n",
    "# 创建用于去重和分析的集合\n",
    "user_keywords = {'python', 'ai', 'machine learning'}\n",
    "model_keywords = {'ai', 'deep learning', 'neural network', 'python'}\n",
    "\n",
    "print(\"用户关键词:\", user_keywords)\n",
    "print(\"模型关键词:\", model_keywords)\n",
    "\n",
    "# 使用 add() 添加新关键词\n",
    "user_keywords.add('natural language processing')\n",
    "print(\"\\n添加新关键词后:\", user_keywords)\n",
    "\n",
    "# 使用 update() 批量添加关键词\n",
    "new_keywords = ['transformer', 'attention', 'gpt']\n",
    "user_keywords.update(new_keywords)\n",
    "print(\"批量添加后:\", user_keywords)\n",
    "\n",
    "# 集合运算 - 找到共同兴趣\n",
    "common_interests = user_keywords.intersection(model_keywords)\n",
    "print(\"\\n共同关键词:\", common_interests)\n",
    "\n",
    "# 集合运算 - 找到用户独有的关键词\n",
    "user_only = user_keywords.difference(model_keywords)\n",
    "print(\"用户独有关键词:\", user_only)\n",
    "\n",
    "# 集合运算 - 合并所有关键词\n",
    "all_keywords = user_keywords.union(model_keywords)\n",
    "print(\"所有关键词:\", all_keywords)\n",
    "\n",
    "# 集合运算 - 找到不重复的关键词\n",
    "unique_keywords = user_keywords.symmetric_difference(model_keywords)\n",
    "print(\"非共同关键词:\", unique_keywords)\n",
    "\n",
    "# 使用 remove() 删除特定关键词\n",
    "if 'gpt' in user_keywords:\n",
    "    user_keywords.remove('gpt')\n",
    "    print(\"\\n删除'gpt'后:\", user_keywords)\n",
    "\n",
    "# 使用 pop() 随机删除一个关键词\n",
    "if user_keywords:\n",
    "    removed_keyword = user_keywords.pop()\n",
    "    print(f\"随机删除的关键词: {removed_keyword}\")\n",
    "    print(\"剩余关键词:\", user_keywords)\n",
    "\n",
    "# 检查集合关系\n",
    "print(f\"\\n模型关键词是否包含用户关键词的子集: {model_keywords.issuperset(user_keywords)}\")\n",
    "print(f\"用户关键词是否是模型关键词的子集: {user_keywords.issubset(model_keywords)}\")\n",
    "\n",
    "print(f\"\\n最终用户关键词数量: {len(user_keywords)}\")\n",
    "print(f\"最终模型关键词数量: {len(model_keywords)}\")\n"
   ]
  },
  {
   "cell_type": "markdown",
   "metadata": {
    "id": "H0eXxOTLU27l"
   },
   "source": [
    "## dict（字典）对象的一些方法\n",
    "\n",
    "> **核心技能**：字典方法是大模型开发中最重要的技能之一，用于处理API响应、配置管理、数据结构等。\n",
    "\n",
    "### 更新和添加方法\n",
    "- **`.update([(key1, val1), (key2, val2), ...])`** - 通过键值对列表更新字典\n",
    "- **`.update(dict2)`** - 将另一个字典的所有键值对添加到当前字典\n",
    "\n",
    "### 获取和删除方法\n",
    "- **`.pop(key)`** - 删除指定键并返回其值（如果键不存在则报错）\n",
    "- **`.pop(key, default_val)`** - 删除指定键并返回其值（如果键不存在则返回默认值）\n",
    "- **`.get(key)`** - 返回指定键的值（如果键不存在则返回None）\n",
    "- **`.get(key, default_val)`** - 返回指定键的值（如果键不存在则返回默认值）\n",
    "\n",
    "### 访问方法\n",
    "- **`.keys()`** - 返回字典中所有键的视图\n",
    "- **`.values()`** - 返回字典中所有值的视图\n",
    "- **`.items()`** - 返回字典中所有键值对（元组）的视图\n",
    "\n",
    "### 大模型开发中的应用场景\n",
    "- **API响应处理**：使用 `get()` 安全获取API返回的字段\n",
    "- **配置管理**：使用 `update()` 合并不同的配置文件\n",
    "- **数据转换**：使用 `items()` 遍历和转换数据\n",
    "- **错误处理**：使用 `pop()` 和默认值避免KeyError\n"
   ]
  },
  {
   "cell_type": "code",
   "execution_count": 76,
   "metadata": {
    "colab": {
     "base_uri": "https://localhost:8080/"
    },
    "id": "S_IPWPT0U27m",
    "outputId": "784024c1-7898-464e-8712-5aaa56019dcc"
   },
   "outputs": [
    {
     "name": "stdout",
     "output_type": "stream",
     "text": [
      "初始API配置: {'model': 'gpt-3.5-turbo', 'temperature': 0.7, 'max_tokens': 1000}\n",
      "\n",
      "合并配置后: {'model': 'gpt-3.5-turbo', 'temperature': 0.7, 'max_tokens': 1000, 'top_p': 0.9, 'presence_penalty': 0.1, 'frequency_penalty': 0.1}\n",
      "\n",
      "添加流式配置后: {'model': 'gpt-3.5-turbo', 'temperature': 0.7, 'max_tokens': 1000, 'top_p': 0.9, 'presence_penalty': 0.1, 'frequency_penalty': 0.1, 'stream': True, 'stop': ['\\\\n', '###']}\n",
      "\n",
      "模型名称: gpt-3.5-turbo\n",
      "超时时间: 30 秒\n",
      "\n",
      "API响应内容: 你好，我是AI助手\n",
      "使用的token数: 25\n",
      "使用的模型: gpt-3.5-turbo-0613\n",
      "\n",
      "删除的presence_penalty值: 0.1\n",
      "调试模式（默认值）: False\n",
      "\n",
      "所有配置键: ['model', 'temperature', 'max_tokens', 'top_p', 'frequency_penalty', 'stream', 'stop']\n",
      "所有配置值: ['gpt-3.5-turbo', 0.7, 1000, 0.9, 0.1, True, ['\\\\n', '###']]\n",
      "\n",
      "完整配置项:\n",
      "  model: gpt-3.5-turbo\n",
      "  temperature: 0.7\n",
      "  max_tokens: 1000\n",
      "  top_p: 0.9\n",
      "  frequency_penalty: 0.1\n",
      "  stream: True\n",
      "  stop: ['\\\\n', '###']\n",
      "\n",
      "数值型配置数量: 5\n",
      "字符串型配置数量: 1\n",
      "总配置项数量: 7\n"
     ]
    }
   ],
   "source": [
    "# 大模型开发中的字典方法示例\n",
    "\n",
    "# 模拟API配置\n",
    "api_config = {\n",
    "    'model': 'gpt-3.5-turbo',\n",
    "    'temperature': 0.7,\n",
    "    'max_tokens': 1000\n",
    "}\n",
    "\n",
    "print(\"初始API配置:\", api_config)\n",
    "\n",
    "# 使用 update() 合并新配置\n",
    "additional_config = {\n",
    "    'top_p': 0.9,\n",
    "    'presence_penalty': 0.1,\n",
    "    'frequency_penalty': 0.1\n",
    "}\n",
    "api_config.update(additional_config)\n",
    "print(\"\\n合并配置后:\", api_config)\n",
    "\n",
    "# 使用 update() 通过键值对列表更新\n",
    "streaming_config = [('stream', True), ('stop', ['\\\\n', '###'])]\n",
    "api_config.update(streaming_config)\n",
    "print(\"\\n添加流式配置后:\", api_config)\n",
    "\n",
    "# 使用 get() 安全获取配置值\n",
    "model_name = api_config.get('model', 'default-model')\n",
    "timeout = api_config.get('timeout', 30)  # 使用默认值\n",
    "\n",
    "print(f\"\\n模型名称: {model_name}\")\n",
    "print(f\"超时时间: {timeout} 秒\")\n",
    "\n",
    "# 模拟API响应处理\n",
    "api_response = {\n",
    "    'choices': [{'message': {'content': '你好，我是AI助手'}}],\n",
    "    'usage': {'total_tokens': 25},\n",
    "    'model': 'gpt-3.5-turbo-0613'\n",
    "}\n",
    "\n",
    "# 安全地提取响应内容\n",
    "content = api_response.get('choices', [{}])[0].get('message', {}).get('content', '无响应')\n",
    "tokens_used = api_response.get('usage', {}).get('total_tokens', 0)\n",
    "model_used = api_response.get('model', '未知模型')\n",
    "\n",
    "print(f\"\\nAPI响应内容: {content}\")\n",
    "print(f\"使用的token数: {tokens_used}\")\n",
    "print(f\"使用的模型: {model_used}\")\n",
    "\n",
    "# 使用 pop() 删除并获取配置项\n",
    "removed_penalty = api_config.pop('presence_penalty', 0)\n",
    "print(f\"\\n删除的presence_penalty值: {removed_penalty}\")\n",
    "\n",
    "# 尝试删除不存在的键（使用默认值）\n",
    "debug_mode = api_config.pop('debug', False)\n",
    "print(f\"调试模式（默认值）: {debug_mode}\")\n",
    "\n",
    "# 使用 keys(), values(), items() 遍历配置\n",
    "print(\"\\n所有配置键:\", list(api_config.keys()))\n",
    "print(\"所有配置值:\", list(api_config.values()))\n",
    "\n",
    "print(\"\\n完整配置项:\")\n",
    "for key, value in api_config.items():\n",
    "    print(f\"  {key}: {value}\")\n",
    "\n",
    "# 统计配置信息\n",
    "numeric_configs = {k: v for k, v in api_config.items() if isinstance(v, (int, float))}\n",
    "string_configs = {k: v for k, v in api_config.items() if isinstance(v, str)}\n",
    "\n",
    "print(f\"\\n数值型配置数量: {len(numeric_configs)}\")\n",
    "print(f\"字符串型配置数量: {len(string_configs)}\")\n",
    "print(f\"总配置项数量: {len(api_config)}\")\n"
   ]
  },
  {
   "cell_type": "markdown",
   "metadata": {
    "id": "x9lV-PCtU27m",
    "jp-MarkdownHeadingCollapsed": true
   },
   "source": [
    "## 位置参数和关键字参数\n",
    "\n",
    "> **重要概念**：理解参数传递方式对于调用大模型API、使用Python库函数至关重要。\n",
    "\n",
    "你可以用多种不同的方式调用函数/方法：\n",
    "\n",
    "### 基本调用方式\n",
    "- `func()` - 不带参数调用函数\n",
    "- `func(arg)` - 传递一个位置参数\n",
    "- `func(arg1, arg2)` - 传递两个位置参数\n",
    "- `func(arg1, arg2, ..., argn)` - 传递多个位置参数\n",
    "\n",
    "### 关键字参数调用\n",
    "- `func(kwarg=value)` - 传递一个关键字参数\n",
    "- `func(kwarg1=value1, kwarg2=value2)` - 传递两个关键字参数\n",
    "- `func(kwarg1=value1, kwarg2=value2, ..., kwargn=valuen)` - 传递多个关键字参数\n",
    "\n",
    "### 混合调用\n",
    "- `func(arg1, arg2, kwarg1=value1, kwarg2=value2)` - 混合位置参数和关键字参数\n",
    "- `obj.method()` - 对象方法调用（与函数调用规则相同）\n",
    "\n",
    "### 重要规则\n",
    "\n",
    "**位置参数使用时**：必须按照函数定义的顺序提供参数（函数的**签名**）\n",
    "\n",
    "**关键字参数使用时**：可以提供任意顺序的参数，但必须指定每个参数的名称\n",
    "\n",
    "**混合使用时**：位置参数必须在关键字参数之前\n",
    "\n",
    "### 大模型开发中的应用\n",
    "- **API调用**：`openai.chat.completions.create(model=\"gpt-3.5-turbo\", messages=messages, temperature=0.7)`\n",
    "- **函数调用**：使用关键字参数提高代码可读性\n",
    "- **配置传递**：通过关键字参数传递复杂配置\n"
   ]
  },
  {
   "cell_type": "code",
   "execution_count": 77,
   "metadata": {
    "colab": {
     "base_uri": "https://localhost:8080/"
    },
    "id": "HkGgupOoU27m",
    "outputId": "35c0890f-7d2c-4474-d207-ef4726d25278"
   },
   "outputs": [
    {
     "name": "stdout",
     "output_type": "stream",
     "text": [
      "1. 只使用位置参数:\n",
      "   模型: gpt-3.5-turbo\n",
      "   温度: 0.7\n",
      "\n",
      "2. 混合使用位置参数和关键字参数:\n",
      "   模型: gpt-4\n",
      "   温度: 0.9\n",
      "   最大tokens: 500\n",
      "\n",
      "3. 使用关键字参数（任意顺序）:\n",
      "   模型: claude-3\n",
      "   所有参数: {'temperature': 0.5, 'max_tokens': 800, 'top_p': 0.9}\n",
      "\n",
      "4. 灵活的API配置:\n",
      "   默认配置: gpt-3.5-turbo, 温度: 0.7\n",
      "   自定义配置: gpt-4, 温度: 0.3\n",
      "   流式输出: True\n",
      "\n",
      "5. 字符串格式化示例:\n",
      "   位置参数: 用户 Alice 使用模型 GPT-4 消耗了 150 个token\n",
      "   关键字参数: 用户 Alice 使用模型 GPT-4 消耗了 150 个token\n",
      "   f-string: 用户 Alice 使用模型 GPT-4 消耗了 150 个token\n"
     ]
    }
   ],
   "source": [
    "# 位置参数和关键字参数示例\n",
    "\n",
    "# 定义一个模拟大模型API调用的函数\n",
    "def call_llm_api(model, prompt, temperature=0.7, max_tokens=1000, top_p=1.0):\n",
    "    \"\"\"\n",
    "    模拟大模型API调用函数\n",
    "    参数：\n",
    "    - model: 模型名称（必需位置参数）\n",
    "    - prompt: 提示词（必需位置参数）\n",
    "    - temperature: 温度参数（可选关键字参数，默认0.7）\n",
    "    - max_tokens: 最大token数（可选关键字参数，默认1000）\n",
    "    - top_p: Top-p参数（可选关键字参数，默认1.0）\n",
    "    \"\"\"\n",
    "    response = {\n",
    "        'model': model,\n",
    "        'prompt': prompt,\n",
    "        'parameters': {\n",
    "            'temperature': temperature,\n",
    "            'max_tokens': max_tokens,\n",
    "            'top_p': top_p\n",
    "        },\n",
    "        'response': f\"使用{model}模型生成的回复...\"\n",
    "    }\n",
    "    return response\n",
    "\n",
    "# 1. 只使用位置参数\n",
    "print(\"1. 只使用位置参数:\")\n",
    "result1 = call_llm_api(\"gpt-3.5-turbo\", \"你好，请介绍一下Python\")\n",
    "print(f\"   模型: {result1['model']}\")\n",
    "print(f\"   温度: {result1['parameters']['temperature']}\")\n",
    "print()\n",
    "\n",
    "# 2. 混合使用位置参数和关键字参数\n",
    "print(\"2. 混合使用位置参数和关键字参数:\")\n",
    "result2 = call_llm_api(\"gpt-4\", \"请写一首关于AI的诗\", temperature=0.9, max_tokens=500)\n",
    "print(f\"   模型: {result2['model']}\")\n",
    "print(f\"   温度: {result2['parameters']['temperature']}\")\n",
    "print(f\"   最大tokens: {result2['parameters']['max_tokens']}\")\n",
    "print()\n",
    "\n",
    "# 3. 使用关键字参数（可以任意顺序）\n",
    "print(\"3. 使用关键字参数（任意顺序）:\")\n",
    "result3 = call_llm_api(\n",
    "    max_tokens=800,\n",
    "    model=\"claude-3\",\n",
    "    top_p=0.9,\n",
    "    prompt=\"解释量子计算的原理\",\n",
    "    temperature=0.5\n",
    ")\n",
    "print(f\"   模型: {result3['model']}\")\n",
    "print(f\"   所有参数: {result3['parameters']}\")\n",
    "print()\n",
    "\n",
    "# 4. 实际的大模型开发场景 - 配置管理\n",
    "def create_chat_completion(messages, **kwargs):\n",
    "    \"\"\"\n",
    "    创建聊天完成请求（模拟OpenAI API）\n",
    "    使用**kwargs接收任意关键字参数\n",
    "    \"\"\"\n",
    "    default_config = {\n",
    "        'model': 'gpt-3.5-turbo',\n",
    "        'temperature': 0.7,\n",
    "        'max_tokens': 1000,\n",
    "        'top_p': 1.0,\n",
    "        'frequency_penalty': 0,\n",
    "        'presence_penalty': 0\n",
    "    }\n",
    "\n",
    "    # 使用传入的参数更新默认配置\n",
    "    config = {**default_config, **kwargs}\n",
    "\n",
    "    return {\n",
    "        'messages': messages,\n",
    "        'config': config,\n",
    "        'status': 'success'\n",
    "    }\n",
    "\n",
    "# 使用示例\n",
    "messages = [\n",
    "    {'role': 'user', 'content': '请解释机器学习的基本概念'}\n",
    "]\n",
    "\n",
    "print(\"4. 灵活的API配置:\")\n",
    "# 使用默认配置\n",
    "basic_request = create_chat_completion(messages)\n",
    "print(f\"   默认配置: {basic_request['config']['model']}, 温度: {basic_request['config']['temperature']}\")\n",
    "\n",
    "# 自定义配置\n",
    "custom_request = create_chat_completion(\n",
    "    messages,\n",
    "    model=\"gpt-4\",\n",
    "    temperature=0.3,\n",
    "    max_tokens=2000,\n",
    "    stream=True\n",
    ")\n",
    "print(f\"   自定义配置: {custom_request['config']['model']}, 温度: {custom_request['config']['temperature']}\")\n",
    "print(f\"   流式输出: {custom_request['config'].get('stream', False)}\")\n",
    "\n",
    "# 5. 字符串格式化中的位置参数和关键字参数\n",
    "print(\"\\n5. 字符串格式化示例:\")\n",
    "user_name = \"Alice\"\n",
    "model_name = \"GPT-4\"\n",
    "token_count = 150\n",
    "\n",
    "# 位置参数格式化\n",
    "message1 = \"用户 {} 使用模型 {} 消耗了 {} 个token\".format(user_name, model_name, token_count)\n",
    "print(f\"   位置参数: {message1}\")\n",
    "\n",
    "# 关键字参数格式化\n",
    "message2 = \"用户 {name} 使用模型 {model} 消耗了 {tokens} 个token\".format(\n",
    "    name=user_name,\n",
    "    model=model_name,\n",
    "    tokens=token_count\n",
    ")\n",
    "print(f\"   关键字参数: {message2}\")\n",
    "\n",
    "# f-string格式化（推荐方式）\n",
    "message3 = f\"用户 {user_name} 使用模型 {model_name} 消耗了 {token_count} 个token\"\n",
    "print(f\"   f-string: {message3}\")\n"
   ]
  },
  {
   "cell_type": "markdown",
   "metadata": {
    "id": "DZyRtAWeU27n",
    "jp-MarkdownHeadingCollapsed": true
   },
   "source": [
    "## 字符串格式化和占位符\n",
    "\n",
    "> **核心技能**：字符串格式化在大模型开发中用于构建动态提示词、处理API响应、生成报告等，是最常用的技能之一。\n",
    "\n",
    "Python提供多种字符串格式化方法，每种都有其特定的用途：\n",
    "\n",
    "### 1. f-string格式化（推荐方式，Python 3.6+）\n",
    "- **语法**：`f\"文本 {variable} 更多文本\"`\n",
    "- **优势**：简洁、高效、可读性强\n",
    "- **应用**：构建提示词模板、日志输出\n",
    "\n",
    "### 2. .format()方法\n",
    "- **位置参数**：`\"文本 {} {}\".format(value1, value2)`\n",
    "- **关键字参数**：`\"文本 {name} {age}\".format(name=\"张三\", age=25)`\n",
    "- **索引参数**：`\"文本 {0} {1}\".format(value1, value2)`\n",
    "\n",
    "### 3. %格式化（传统方式）\n",
    "- **语法**：`\"文本 %s %d\" % (string_value, int_value)`\n",
    "- **应用**：兼容旧代码、特定格式需求\n",
    "\n",
    "### 大模型开发中的应用场景\n",
    "- **提示词模板**：动态构建个性化提示词\n",
    "- **API响应处理**：格式化输出结果\n",
    "- **日志记录**：记录调用信息和错误\n",
    "- **报告生成**：生成结构化的分析报告\n",
    "- **多语言支持**：构建本地化文本模板\n"
   ]
  },
  {
   "cell_type": "code",
   "execution_count": 78,
   "metadata": {
    "colab": {
     "base_uri": "https://localhost:8080/"
    },
    "id": "MzBd-MbzU27n",
    "outputId": "64958bec-7560-4f23-ad29-2fb618a8b313"
   },
   "outputs": [
    {
     "name": "stdout",
     "output_type": "stream",
     "text": [
      "=== 1. f-string格式化（推荐方式） ===\n",
      "基本用法: 用户张三使用GPT-4模型\n",
      "表达式计算: 总成本: $0.0150\n",
      "数字格式化: 输入tokens: 120, 输出tokens: 380\n",
      "\n",
      "=== 2. 构建动态提示词模板 ===\n",
      "个性化提示词:\n",
      "你是一位专业的AI助手，正在为数据科学家 李博士提供帮助。\n",
      "\n",
      "用户背景: 数据科学家\n",
      "讨论主题: 深度学习优化技术\n",
      "回答风格: 技术性\n",
      "\n",
      "请以技术性的风格，为李博士详细解释深度学习优化技术的相关内容。\n",
      "请确保内容准确、易懂，并适合数据科学家的专业水平。...\n",
      "\n",
      "=== 3. .format()方法应用 ===\n",
      "位置参数: 模型GPT-4在测试数据集上的准确率为92.34%\n",
      "关键字参数: \n",
      "API调用报告:\n",
      "- 用户: 张三\n",
      "- 模型: GPT-4\n",
      "- 输入tokens: 120\n",
      "- 输出tokens: 380\n",
      "- 总tokens: 500\n",
      "- 温度参数: 0.7\n",
      "- 总成本: $0.0150\n",
      "\n",
      "\n",
      "=== 4. 实际应用场景 ===\n",
      "成功日志: [2025-10-09 10:14:10] SUCCESS - 用户:张三, 模型:GPT-4, tokens:500, 状态:completed\n",
      "错误日志: [2025-10-09 10:14:10] ERROR - 用户:张三, 模型:GPT-4, 错误:API rate limit exceeded\n",
      "\n",
      "中文提示词: 请用中文总结以下内容：人工智能的发展历程\n",
      "英文提示词: Please summarize the following content in English: the development of artificial intelligence\n",
      "\n",
      "=== 性能监控报告 ===\n",
      "\n",
      "🤖 模型性能报告\n",
      "\n",
      "📊 基础指标:\n",
      "   • 模型名称: GPT-4 Turbo\n",
      "   • 处理请求: 15,847 次\n",
      "   • 平均响应时间: 1234.50ms\n",
      "   • 成功率: 98.8%\n",
      "\n",
      "💰 成本分析:\n",
      "   • 总tokens: 2,450,000\n",
      "   • 平均每请求tokens: 155\n",
      "   • 总成本: $73.50\n",
      "   • 平均每请求成本: $0.0046\n",
      "\n",
      "🔥 热门功能:\n",
      "   • 最常用功能: 代码生成\n",
      "   • 使用次数: 3,421\n",
      "\n"
     ]
    }
   ],
   "source": [
    "# 字符串格式化在大模型开发中的应用示例\n",
    "\n",
    "# 基础数据\n",
    "user_name = \"张三\"\n",
    "model_name = \"GPT-4\"\n",
    "input_tokens = 120\n",
    "output_tokens = 380\n",
    "total_tokens = input_tokens + output_tokens\n",
    "cost_per_token = 0.00003\n",
    "temperature = 0.7\n",
    "\n",
    "print(\"=== 1. f-string格式化（推荐方式） ===\")\n",
    "\n",
    "# 基本f-string用法\n",
    "basic_message = f\"用户{user_name}使用{model_name}模型\"\n",
    "print(f\"基本用法: {basic_message}\")\n",
    "\n",
    "# 表达式计算\n",
    "cost_calculation = f\"总成本: ${total_tokens * cost_per_token:.4f}\"\n",
    "print(f\"表达式计算: {cost_calculation}\")\n",
    "\n",
    "# 格式化数字\n",
    "formatted_numbers = f\"输入tokens: {input_tokens:,}, 输出tokens: {output_tokens:,}\"\n",
    "print(f\"数字格式化: {formatted_numbers}\")\n",
    "\n",
    "print(\"\\n=== 2. 构建动态提示词模板 ===\")\n",
    "\n",
    "# 个性化提示词模板\n",
    "def create_personalized_prompt(user_name, user_role, topic, style=\"professional\"):\n",
    "    \"\"\"创建个性化提示词\"\"\"\n",
    "    prompt_template = f\"\"\"\n",
    "你是一位专业的AI助手，正在为{user_role} {user_name}提供帮助。\n",
    "\n",
    "用户背景: {user_role}\n",
    "讨论主题: {topic}\n",
    "回答风格: {style}\n",
    "\n",
    "请以{style}的风格，为{user_name}详细解释{topic}的相关内容。\n",
    "请确保内容准确、易懂，并适合{user_role}的专业水平。\n",
    "\"\"\"\n",
    "    return prompt_template.strip()\n",
    "\n",
    "# 使用示例\n",
    "prompt1 = create_personalized_prompt(\"李博士\", \"数据科学家\", \"深度学习优化技术\", \"技术性\")\n",
    "print(\"个性化提示词:\")\n",
    "print(prompt1[:150] + \"...\")\n",
    "\n",
    "print(\"\\n=== 3. .format()方法应用 ===\")\n",
    "\n",
    "# 位置参数\n",
    "status_report = \"模型{}在{}数据集上的准确率为{:.2%}\".format(model_name, \"测试\", 0.9234)\n",
    "print(f\"位置参数: {status_report}\")\n",
    "\n",
    "# 关键字参数\n",
    "detailed_report = \"\"\"\n",
    "API调用报告:\n",
    "- 用户: {user}\n",
    "- 模型: {model}\n",
    "- 输入tokens: {input_tokens:,}\n",
    "- 输出tokens: {output_tokens:,}\n",
    "- 总tokens: {total_tokens:,}\n",
    "- 温度参数: {temp}\n",
    "- 总成本: ${cost:.4f}\n",
    "\"\"\".format(\n",
    "    user=user_name,\n",
    "    model=model_name,\n",
    "    input_tokens=input_tokens,\n",
    "    output_tokens=output_tokens,\n",
    "    total_tokens=total_tokens,\n",
    "    temp=temperature,\n",
    "    cost=total_tokens * cost_per_token\n",
    ")\n",
    "print(\"关键字参数:\", detailed_report)\n",
    "\n",
    "print(\"\\n=== 4. 实际应用场景 ===\")\n",
    "\n",
    "# 场景1: API日志记录\n",
    "import datetime\n",
    "\n",
    "def log_api_call(user, model, tokens, status, error=None):\n",
    "    \"\"\"记录API调用日志\"\"\"\n",
    "    timestamp = datetime.datetime.now().strftime(\"%Y-%m-%d %H:%M:%S\")\n",
    "\n",
    "    if error:\n",
    "        log_message = f\"[{timestamp}] ERROR - 用户:{user}, 模型:{model}, 错误:{error}\"\n",
    "    else:\n",
    "        log_message = f\"[{timestamp}] SUCCESS - 用户:{user}, 模型:{model}, tokens:{tokens}, 状态:{status}\"\n",
    "\n",
    "    return log_message\n",
    "\n",
    "# 成功调用日志\n",
    "success_log = log_api_call(user_name, model_name, total_tokens, \"completed\")\n",
    "print(\"成功日志:\", success_log)\n",
    "\n",
    "# 错误调用日志\n",
    "error_log = log_api_call(user_name, model_name, 0, \"failed\", \"API rate limit exceeded\")\n",
    "print(\"错误日志:\", error_log)\n",
    "\n",
    "# 场景2: 多语言提示词模板\n",
    "def create_multilingual_prompt(language, task, context):\n",
    "    \"\"\"创建多语言提示词模板\"\"\"\n",
    "    templates = {\n",
    "        'chinese': f\"请用中文{task}以下内容：{context}\",\n",
    "        'english': f\"Please {task} the following content in English: {context}\",\n",
    "        'japanese': f\"以下の内容を日本語で{task}してください：{context}\"\n",
    "    }\n",
    "    return templates.get(language, templates['chinese'])\n",
    "\n",
    "# 多语言示例\n",
    "chinese_prompt = create_multilingual_prompt('chinese', '总结', '人工智能的发展历程')\n",
    "english_prompt = create_multilingual_prompt('english', 'summarize', 'the development of artificial intelligence')\n",
    "\n",
    "print(f\"\\n中文提示词: {chinese_prompt}\")\n",
    "print(f\"英文提示词: {english_prompt}\")\n",
    "\n",
    "# 场景3: 性能监控报告\n",
    "def generate_performance_report(model_stats):\n",
    "    \"\"\"生成性能监控报告\"\"\"\n",
    "    report = f\"\"\"\n",
    "🤖 模型性能报告\n",
    "\n",
    "📊 基础指标:\n",
    "   • 模型名称: {model_stats['name']}\n",
    "   • 处理请求: {model_stats['requests']:,} 次\n",
    "   • 平均响应时间: {model_stats['avg_response_time']:.2f}ms\n",
    "   • 成功率: {model_stats['success_rate']:.1%}\n",
    "\n",
    "💰 成本分析:\n",
    "   • 总tokens: {model_stats['total_tokens']:,}\n",
    "   • 平均每请求tokens: {model_stats['avg_tokens_per_request']:.0f}\n",
    "   • 总成本: ${model_stats['total_cost']:.2f}\n",
    "   • 平均每请求成本: ${model_stats['avg_cost_per_request']:.4f}\n",
    "\n",
    "🔥 热门功能:\n",
    "   • 最常用功能: {model_stats['top_feature']}\n",
    "   • 使用次数: {model_stats['top_feature_count']:,}\n",
    "\"\"\"\n",
    "    return report\n",
    "\n",
    "# 模拟性能数据\n",
    "performance_data = {\n",
    "    'name': 'GPT-4 Turbo',\n",
    "    'requests': 15847,\n",
    "    'avg_response_time': 1234.5,\n",
    "    'success_rate': 0.9876,\n",
    "    'total_tokens': 2450000,\n",
    "    'avg_tokens_per_request': 154.6,\n",
    "    'total_cost': 73.5,\n",
    "    'avg_cost_per_request': 0.00464,\n",
    "    'top_feature': '代码生成',\n",
    "    'top_feature_count': 3421\n",
    "}\n",
    "\n",
    "performance_report = generate_performance_report(performance_data)\n",
    "print(\"\\n=== 性能监控报告 ===\")\n",
    "print(performance_report)\n"
   ]
  },
  {
   "cell_type": "markdown",
   "metadata": {
    "id": "ZsZCwjq6U27q",
    "jp-MarkdownHeadingCollapsed": true
   },
   "source": [
    "## Python \"for循环\"\n",
    "\n",
    "> **核心概念**：for循环是Python中用于遍历数据集合的强大工具，在大模型开发中用于处理对话历史、批量处理数据、分析结果等。\n",
    "\n",
    "使用**for循环**可以轻松地**迭代**一个项目集合。我们定义的字符串、列表、元组、集合和字典都是**可迭代**的容器。\n",
    "\n",
    "### 基本语法\n",
    "```python\n",
    "for item in container:\n",
    "    # 处理每个项目\n",
    "    pass\n",
    "```\n",
    "\n",
    "### 工作原理\n",
    "for循环会遍历指定的容器，一次一个项目，并为当前项目提供一个临时变量。你可以像使用普通变量一样使用这个临时变量。\n",
    "\n",
    "### 大模型开发中的应用场景\n",
    "- **处理对话历史**：遍历消息列表，分析对话模式\n",
    "- **批量处理**：对多个文档或文本进行相同的处理\n",
    "- **数据分析**：统计和分析模型输出结果\n",
    "- **配置管理**：遍历配置项进行验证和设置\n",
    "- **API响应处理**：处理批量API调用的结果\n"
   ]
  },
  {
   "cell_type": "code",
   "execution_count": 79,
   "metadata": {
    "colab": {
     "base_uri": "https://localhost:8080/"
    },
    "id": "NPR_LxqfU27r",
    "outputId": "bbdb5971-3cc0-4ea7-cea5-03cab6b7ebfe"
   },
   "outputs": [
    {
     "name": "stdout",
     "output_type": "stream",
     "text": [
      "=== 1. 基本for循环用法 ===\n",
      "模型名称 'GPT-4' 的每个字符:\n",
      "  字符: G\n",
      "  字符: P\n",
      "  字符: T\n",
      "  字符: -\n",
      "  字符: 4\n",
      "\n",
      "支持的模型列表:\n",
      "  ✓ gpt-3.5-turbo\n",
      "  ✓ gpt-4\n",
      "  ✓ claude-3\n",
      "  ✓ gemini-pro\n",
      "\n",
      "=== 2. 处理对话历史 ===\n",
      "对话历史分析:\n",
      "[2024-01-01 10:00:00] user: 你好...\n",
      "[2024-01-01 10:00:01] assistant: 你好！有什么可以帮助你的吗？...\n",
      "[2024-01-01 10:00:30] user: 请介绍一下Python...\n",
      "[2024-01-01 10:00:32] assistant: Python是一种高级编程语言......\n",
      "\n",
      "对话统计:\n",
      "  用户消息: 2 条\n",
      "  助手消息: 2 条\n",
      "  总字符数: 45 个\n",
      "\n",
      "=== 3. 批量处理文本数据 ===\n",
      "文本处理结果:\n",
      "  文本1: 12字符, 1词, 情感分数:2\n",
      "  文本2: 12字符, 1词, 情感分数:1\n",
      "  文本3: 14字符, 1词, 情感分数:1\n",
      "  文本4: 15字符, 1词, 情感分数:0\n",
      "\n",
      "=== 4. 遍历字典配置 ===\n",
      "模型配置比较:\n",
      "\n",
      "📋 gpt-3.5-turbo:\n",
      "    max_tokens: 4096\n",
      "    temperature: 0.7\n",
      "    cost_per_token: $0.000002\n",
      "    speed: fast\n",
      "\n",
      "📋 gpt-4:\n",
      "    max_tokens: 8192\n",
      "    temperature: 0.7\n",
      "    cost_per_token: $0.000030\n",
      "    speed: medium\n",
      "\n",
      "📋 claude-3:\n",
      "    max_tokens: 100000\n",
      "    temperature: 0.7\n",
      "    cost_per_token: $0.000008\n",
      "    speed: fast\n",
      "\n",
      "=== 5. 使用enumerate()获取索引 ===\n",
      "API调用结果分析:\n",
      "  调用1: ✅ success - tokens:150, 时间:1.2s\n",
      "  调用2: ✅ success - tokens:220, 时间:1.8s\n",
      "  调用3: ❌ error - tokens:0, 时间:0.5s\n",
      "  调用4: ✅ success - tokens:180, 时间:1.5s\n",
      "\n",
      "总结:\n",
      "  成功率: 3/4 (75.0%)\n",
      "  平均tokens: 183\n",
      "  总耗时: 5.0s\n",
      "\n",
      "=== 6. 使用range()生成数字序列 ===\n",
      "批量生成个性化提示词:\n",
      "  提示词1 (学生): 你是一位专业的AI助手，正在为学生提供帮助。请以适合学生的方式回答问题。...\n",
      "  提示词2 (教师): 你是一位专业的AI助手，正在为教师提供帮助。请以适合教师的方式回答问题。...\n",
      "  提示词3 (研究员): 你是一位专业的AI助手，正在为研究员提供帮助。请以适合研究员的方式回答问题。...\n",
      "  提示词4 (工程师): 你是一位专业的AI助手，正在为工程师提供帮助。请以适合工程师的方式回答问题。...\n",
      "  提示词5 (产品经理): 你是一位专业的AI助手，正在为产品经理提供帮助。请以适合产品经理的方式回答问题。...\n",
      "\n",
      "=== 7. 嵌套循环处理复杂数据 ===\n",
      "模型性能对比:\n",
      "\n",
      "🤖 gpt-3.5-turbo:\n",
      "    📝 文本生成:\n",
      "        准确率: 85.0%\n",
      "        速度: 2.1s\n",
      "    📝 代码生成:\n",
      "        准确率: 78.0%\n",
      "        速度: 2.3s\n",
      "    📝 翻译:\n",
      "        准确率: 92.0%\n",
      "        速度: 1.8s\n",
      "\n",
      "🤖 gpt-4:\n",
      "    📝 文本生成:\n",
      "        准确率: 92.0%\n",
      "        速度: 3.2s\n",
      "    📝 代码生成:\n",
      "        准确率: 89.0%\n",
      "        速度: 3.5s\n",
      "    📝 翻译:\n",
      "        准确率: 95.0%\n",
      "        速度: 2.9s\n"
     ]
    }
   ],
   "source": [
    "# for循环在大模型开发中的应用示例\n",
    "\n",
    "print(\"=== 1. 基本for循环用法 ===\")\n",
    "\n",
    "# 遍历字符串\n",
    "model_name = \"GPT-4\"\n",
    "print(f\"模型名称 '{model_name}' 的每个字符:\")\n",
    "for char in model_name:\n",
    "    print(f\"  字符: {char}\")\n",
    "\n",
    "# 遍历列表\n",
    "supported_models = [\"gpt-3.5-turbo\", \"gpt-4\", \"claude-3\", \"gemini-pro\"]\n",
    "print(f\"\\n支持的模型列表:\")\n",
    "for model in supported_models:\n",
    "    print(f\"  ✓ {model}\")\n",
    "\n",
    "print(\"\\n=== 2. 处理对话历史 ===\")\n",
    "\n",
    "# 模拟对话历史\n",
    "conversation = [\n",
    "    {\"role\": \"user\", \"content\": \"你好\", \"timestamp\": \"2024-01-01 10:00:00\"},\n",
    "    {\"role\": \"assistant\", \"content\": \"你好！有什么可以帮助你的吗？\", \"timestamp\": \"2024-01-01 10:00:01\"},\n",
    "    {\"role\": \"user\", \"content\": \"请介绍一下Python\", \"timestamp\": \"2024-01-01 10:00:30\"},\n",
    "    {\"role\": \"assistant\", \"content\": \"Python是一种高级编程语言...\", \"timestamp\": \"2024-01-01 10:00:32\"}\n",
    "]\n",
    "\n",
    "print(\"对话历史分析:\")\n",
    "user_messages = 0\n",
    "assistant_messages = 0\n",
    "total_characters = 0\n",
    "\n",
    "for message in conversation:\n",
    "    print(f\"[{message['timestamp']}] {message['role']}: {message['content'][:30]}...\")\n",
    "\n",
    "    # 统计信息\n",
    "    if message['role'] == 'user':\n",
    "        user_messages += 1\n",
    "    elif message['role'] == 'assistant':\n",
    "        assistant_messages += 1\n",
    "\n",
    "    total_characters += len(message['content'])\n",
    "\n",
    "print(f\"\\n对话统计:\")\n",
    "print(f\"  用户消息: {user_messages} 条\")\n",
    "print(f\"  助手消息: {assistant_messages} 条\")\n",
    "print(f\"  总字符数: {total_characters} 个\")\n",
    "\n",
    "print(\"\\n=== 3. 批量处理文本数据 ===\")\n",
    "\n",
    "# 模拟要处理的文本列表\n",
    "texts_to_process = [\n",
    "    \"人工智能是未来科技的核心\",\n",
    "    \"机器学习正在改变各个行业\",\n",
    "    \"深度学习在图像识别中表现优异\",\n",
    "    \"自然语言处理让机器理解人类语言\"\n",
    "]\n",
    "\n",
    "print(\"文本处理结果:\")\n",
    "processed_results = []\n",
    "\n",
    "for i, text in enumerate(texts_to_process, 1):\n",
    "    # 模拟文本处理（计算长度、单词数等）\n",
    "    char_count = len(text)\n",
    "    word_count = len(text.split())\n",
    "\n",
    "    # 简单的情感分析（模拟）\n",
    "    positive_keywords = ['优异', '改变', '核心', '未来']\n",
    "    sentiment_score = sum(1 for keyword in positive_keywords if keyword in text)\n",
    "\n",
    "    result = {\n",
    "        'id': i,\n",
    "        'text': text,\n",
    "        'char_count': char_count,\n",
    "        'word_count': word_count,\n",
    "        'sentiment_score': sentiment_score\n",
    "    }\n",
    "\n",
    "    processed_results.append(result)\n",
    "    print(f\"  文本{i}: {char_count}字符, {word_count}词, 情感分数:{sentiment_score}\")\n",
    "\n",
    "print(\"\\n=== 4. 遍历字典配置 ===\")\n",
    "\n",
    "# API配置字典\n",
    "api_configs = {\n",
    "    'gpt-3.5-turbo': {\n",
    "        'max_tokens': 4096,\n",
    "        'temperature': 0.7,\n",
    "        'cost_per_token': 0.0000015,\n",
    "        'speed': 'fast'\n",
    "    },\n",
    "    'gpt-4': {\n",
    "        'max_tokens': 8192,\n",
    "        'temperature': 0.7,\n",
    "        'cost_per_token': 0.00003,\n",
    "        'speed': 'medium'\n",
    "    },\n",
    "    'claude-3': {\n",
    "        'max_tokens': 100000,\n",
    "        'temperature': 0.7,\n",
    "        'cost_per_token': 0.000008,\n",
    "        'speed': 'fast'\n",
    "    }\n",
    "}\n",
    "\n",
    "print(\"模型配置比较:\")\n",
    "for model_name, config in api_configs.items():\n",
    "    print(f\"\\n📋 {model_name}:\")\n",
    "    for key, value in config.items():\n",
    "        if key == 'cost_per_token':\n",
    "            print(f\"    {key}: ${value:.6f}\")\n",
    "        else:\n",
    "            print(f\"    {key}: {value}\")\n",
    "\n",
    "print(\"\\n=== 5. 使用enumerate()获取索引 ===\")\n",
    "\n",
    "# 处理API响应列表\n",
    "api_responses = [\n",
    "    {\"status\": \"success\", \"tokens\": 150, \"response_time\": 1.2},\n",
    "    {\"status\": \"success\", \"tokens\": 220, \"response_time\": 1.8},\n",
    "    {\"status\": \"error\", \"tokens\": 0, \"response_time\": 0.5},\n",
    "    {\"status\": \"success\", \"tokens\": 180, \"response_time\": 1.5}\n",
    "]\n",
    "\n",
    "print(\"API调用结果分析:\")\n",
    "successful_calls = 0\n",
    "total_tokens = 0\n",
    "total_time = 0\n",
    "\n",
    "for index, response in enumerate(api_responses, 1):\n",
    "    status_emoji = \"✅\" if response[\"status\"] == \"success\" else \"❌\"\n",
    "    print(f\"  调用{index}: {status_emoji} {response['status']} - \"\n",
    "          f\"tokens:{response['tokens']}, 时间:{response['response_time']}s\")\n",
    "\n",
    "    if response[\"status\"] == \"success\":\n",
    "        successful_calls += 1\n",
    "        total_tokens += response[\"tokens\"]\n",
    "\n",
    "    total_time += response[\"response_time\"]\n",
    "\n",
    "print(f\"\\n总结:\")\n",
    "print(f\"  成功率: {successful_calls}/{len(api_responses)} ({successful_calls/len(api_responses)*100:.1f}%)\")\n",
    "print(f\"  平均tokens: {total_tokens/successful_calls:.0f}\")\n",
    "print(f\"  总耗时: {total_time:.1f}s\")\n",
    "\n",
    "print(\"\\n=== 6. 使用range()生成数字序列 ===\")\n",
    "\n",
    "# 模拟批量生成提示词\n",
    "print(\"批量生成个性化提示词:\")\n",
    "user_types = [\"学生\", \"教师\", \"研究员\", \"工程师\", \"产品经理\"]\n",
    "\n",
    "for i in range(5):\n",
    "    user_type = user_types[i]\n",
    "    prompt = f\"你是一位专业的AI助手，正在为{user_type}提供帮助。请以适合{user_type}的方式回答问题。\"\n",
    "    print(f\"  提示词{i+1} ({user_type}): {prompt[:40]}...\")\n",
    "\n",
    "print(\"\\n=== 7. 嵌套循环处理复杂数据 ===\")\n",
    "\n",
    "# 模拟多模型、多任务的测试结果\n",
    "test_results = {\n",
    "    \"gpt-3.5-turbo\": {\n",
    "        \"文本生成\": {\"accuracy\": 0.85, \"speed\": 2.1},\n",
    "        \"代码生成\": {\"accuracy\": 0.78, \"speed\": 2.3},\n",
    "        \"翻译\": {\"accuracy\": 0.92, \"speed\": 1.8}\n",
    "    },\n",
    "    \"gpt-4\": {\n",
    "        \"文本生成\": {\"accuracy\": 0.92, \"speed\": 3.2},\n",
    "        \"代码生成\": {\"accuracy\": 0.89, \"speed\": 3.5},\n",
    "        \"翻译\": {\"accuracy\": 0.95, \"speed\": 2.9}\n",
    "    }\n",
    "}\n",
    "\n",
    "print(\"模型性能对比:\")\n",
    "for model, tasks in test_results.items():\n",
    "    print(f\"\\n🤖 {model}:\")\n",
    "    for task, metrics in tasks.items():\n",
    "        print(f\"    📝 {task}:\")\n",
    "        print(f\"        准确率: {metrics['accuracy']:.1%}\")\n",
    "        print(f\"        速度: {metrics['speed']:.1f}s\")\n"
   ]
  },
  {
   "cell_type": "code",
   "execution_count": null,
   "metadata": {
    "collapsed": true,
    "deletable": true,
    "editable": true,
    "id": "wjqaJSy9U27s",
    "jupyter": {
     "outputs_hidden": true
    }
   },
   "outputs": [],
   "source": []
  },
  {
   "cell_type": "markdown",
   "metadata": {
    "deletable": true,
    "editable": true,
    "id": "uvcIGanUU279",
    "jp-MarkdownHeadingCollapsed": true
   },
   "source": [
    "## Python \"if语句\"和\"while循环\"\n",
    "\n",
    "> **核心概念**：条件语句和循环是大模型开发中控制程序流程的基础工具，用于条件判断、错误处理、重试机制等。\n",
    "\n",
    "条件表达式可以与这两种**条件语句**一起使用。\n",
    "\n",
    "### if语句\n",
    "**if语句**允许你测试条件，如果条件评估为`True`则执行某些操作。你还可以为if语句提供`elif`和/或`else`子句，以便在条件评估为`False`时采取替代操作。\n",
    "\n",
    "### while循环\n",
    "**while循环**将一直循环，直到其条件表达式评估为`False`。\n",
    "\n",
    "> **注意**：当使用while循环且条件表达式永远不会评估为`False`时，可能会\"永远循环\"。\n",
    ">\n",
    "> **注意**：由于**for循环**会遍历容器中的项目直到没有更多项目，因此无需指定\"停止循环\"条件。\n",
    "\n",
    "### 大模型开发中的应用场景\n",
    "- **条件判断**：根据API响应状态执行不同操作\n",
    "- **错误处理**：使用if语句处理各种异常情况\n",
    "- **重试机制**：使用while循环实现API调用重试\n",
    "- **数据验证**：使用条件语句验证输入数据\n",
    "- **流程控制**：根据用户输入或系统状态控制程序流程"
   ]
  },
  {
   "cell_type": "code",
   "execution_count": 80,
   "metadata": {
    "colab": {
     "base_uri": "https://localhost:8080/"
    },
    "id": "dvtmIeC2U27-",
    "outputId": "bed009f6-4d41-4002-9f36-863c8c7c3edc"
   },
   "outputs": [
    {
     "name": "stdout",
     "output_type": "stream",
     "text": [
      "=== 1. if语句在API调用中的应用 ===\n",
      "✅ API调用成功\n",
      "处理结果: {'message': '成功获取数据'}\n",
      "----------------------------------------\n",
      "❌ 认证失败，请检查API密钥\n",
      "处理结果: None\n",
      "----------------------------------------\n",
      "⚠️ 请求频率过高，需要等待\n",
      "处理结果: None\n",
      "----------------------------------------\n",
      "🔥 服务器错误，请稍后重试\n",
      "处理结果: None\n",
      "----------------------------------------\n",
      "❓ 未知错误，状态码: 404\n",
      "处理结果: None\n",
      "----------------------------------------\n",
      "\n",
      "=== 2. while循环实现API重试机制 ===\n",
      "\n",
      "处理提示词: '请介绍一下Python'\n",
      "❌ API调用失败 (尝试 1)\n",
      "⏳ 等待 1 秒后重试...\n",
      "❌ API调用失败 (尝试 2)\n",
      "⏳ 等待 2 秒后重试...\n",
      "❌ API调用失败 (尝试 3)\n",
      "💥 达到最大重试次数 (3)，调用失败\n",
      "==================================================\n",
      "\n",
      "处理提示词: '解释机器学习'\n",
      "✅ API调用成功 (尝试 1)\n",
      "最终结果: AI回复: 解释机器学习...\n",
      "==================================================\n",
      "\n",
      "处理提示词: '写一首诗'\n",
      "❌ API调用失败 (尝试 1)\n",
      "⏳ 等待 1 秒后重试...\n",
      "❌ API调用失败 (尝试 2)\n",
      "⏳ 等待 2 秒后重试...\n",
      "❌ API调用失败 (尝试 3)\n",
      "💥 达到最大重试次数 (3)，调用失败\n",
      "==================================================\n",
      "\n",
      "=== 3. 复杂条件判断 - 模型选择逻辑 ===\n",
      "模型选择测试:\n",
      "任务: 代码生成     | 长度:  500 | 预算: high   | 推荐模型: gpt-3.5-turbo\n",
      "任务: 代码生成     | 长度: 2000 | 预算: low    | 推荐模型: gpt-3.5-turbo\n",
      "任务: 文本摘要     | 长度: 3000 | 预算: medium | 推荐模型: gpt-3.5-turbo\n",
      "任务: 文本摘要     | 长度: 8000 | 预算: high   | 推荐模型: claude-3\n",
      "任务: 翻译       | 长度: 1000 | 预算: low    | 推荐模型: gpt-3.5-turbo\n",
      "任务: 创意写作     | 长度:  500 | 预算: high   | 推荐模型: gpt-4\n",
      "任务: 未知任务     | 长度: 1000 | 预算: medium | 推荐模型: gpt-3.5-turbo\n",
      "\n",
      "=== 4. 数据验证和错误处理 ===\n",
      "输入验证测试:\n",
      "❌ 无效 | 类型: text   | 输入: ''\n",
      "    错误: 输入不能为空\n",
      "------------------------------------------------------------\n",
      "✅ 有效 | 类型: email  | 输入: 'hello@example.com'\n",
      "------------------------------------------------------------\n",
      "❌ 无效 | 类型: email  | 输入: 'invalid-email'\n",
      "    错误: 请输入有效的邮箱地址\n",
      "------------------------------------------------------------\n",
      "✅ 有效 | 类型: number | 输入: '123.45'\n",
      "------------------------------------------------------------\n",
      "❌ 无效 | 类型: number | 输入: 'not-a-number'\n",
      "    错误: 请输入有效的数字\n",
      "------------------------------------------------------------\n",
      "✅ 有效 | 类型: code   | 输入: 'def hello(): print('world')'\n",
      "------------------------------------------------------------\n",
      "❌ 无效 | 类型: code   | 输入: 'just text'\n",
      "    错误: 请输入有效的代码\n",
      "------------------------------------------------------------\n",
      "❌ 无效 | 类型: text   | 输入: 'aaaaaaaaaaaaaaaaaaaaaaaaaaaaaa...'\n",
      "    错误: 输入过长，请控制在10000字符以内\n",
      "------------------------------------------------------------\n"
     ]
    }
   ],
   "source": [
    "# 大模型开发中的if语句和while循环示例\n",
    "\n",
    "print(\"=== 1. if语句在API调用中的应用 ===\")\n",
    "\n",
    "def process_api_response(response):\n",
    "    \"\"\"处理API响应，根据状态码执行不同操作\"\"\"\n",
    "    status_code = response.get('status_code', 0)\n",
    "\n",
    "    if status_code == 200:\n",
    "        print(\"✅ API调用成功\")\n",
    "        return response.get('data', {})\n",
    "    elif status_code == 401:\n",
    "        print(\"❌ 认证失败，请检查API密钥\")\n",
    "        return None\n",
    "    elif status_code == 429:\n",
    "        print(\"⚠️ 请求频率过高，需要等待\")\n",
    "        return None\n",
    "    elif status_code >= 500:\n",
    "        print(\"🔥 服务器错误，请稍后重试\")\n",
    "        return None\n",
    "    else:\n",
    "        print(f\"❓ 未知错误，状态码: {status_code}\")\n",
    "        return None\n",
    "\n",
    "# 模拟不同的API响应\n",
    "test_responses = [\n",
    "    {'status_code': 200, 'data': {'message': '成功获取数据'}},\n",
    "    {'status_code': 401, 'error': 'Invalid API key'},\n",
    "    {'status_code': 429, 'error': 'Rate limit exceeded'},\n",
    "    {'status_code': 500, 'error': 'Internal server error'},\n",
    "    {'status_code': 404, 'error': 'Not found'}\n",
    "]\n",
    "\n",
    "for response in test_responses:\n",
    "    result = process_api_response(response)\n",
    "    print(f\"处理结果: {result}\")\n",
    "    print(\"-\" * 40)\n",
    "\n",
    "print(\"\\n=== 2. while循环实现API重试机制 ===\")\n",
    "\n",
    "import time\n",
    "import random\n",
    "\n",
    "def call_llm_api_with_retry(prompt, max_retries=3, delay=1):\n",
    "    \"\"\"带重试机制的LLM API调用\"\"\"\n",
    "    retry_count = 0\n",
    "\n",
    "    while retry_count < max_retries:\n",
    "        try:\n",
    "            # 模拟API调用（随机成功/失败）\n",
    "            success = random.choice([True, False, False])  # 33%成功率\n",
    "\n",
    "            if success:\n",
    "                print(f\"✅ API调用成功 (尝试 {retry_count + 1})\")\n",
    "                return f\"AI回复: {prompt[:20]}...\"\n",
    "            else:\n",
    "                print(f\"❌ API调用失败 (尝试 {retry_count + 1})\")\n",
    "                retry_count += 1\n",
    "\n",
    "                if retry_count < max_retries:\n",
    "                    print(f\"⏳ 等待 {delay} 秒后重试...\")\n",
    "                    time.sleep(delay)\n",
    "                    delay *= 2  # 指数退避\n",
    "\n",
    "        except Exception as e:\n",
    "            print(f\"🔥 异常: {e}\")\n",
    "            retry_count += 1\n",
    "\n",
    "    print(f\"💥 达到最大重试次数 ({max_retries})，调用失败\")\n",
    "    return None\n",
    "\n",
    "# 测试重试机制\n",
    "test_prompts = [\"请介绍一下Python\", \"解释机器学习\", \"写一首诗\"]\n",
    "\n",
    "for prompt in test_prompts:\n",
    "    print(f\"\\n处理提示词: '{prompt}'\")\n",
    "    result = call_llm_api_with_retry(prompt)\n",
    "    if result:\n",
    "        print(f\"最终结果: {result}\")\n",
    "    print(\"=\" * 50)\n",
    "\n",
    "print(\"\\n=== 3. 复杂条件判断 - 模型选择逻辑 ===\")\n",
    "\n",
    "def select_optimal_model(task_type, text_length, budget_level):\n",
    "    \"\"\"根据任务类型、文本长度和预算选择最优模型\"\"\"\n",
    "\n",
    "    # 基础条件判断\n",
    "    if task_type == \"代码生成\":\n",
    "        if text_length > 1000:\n",
    "            return \"gpt-4\" if budget_level == \"high\" else \"gpt-3.5-turbo\"\n",
    "        else:\n",
    "            return \"gpt-3.5-turbo\"\n",
    "\n",
    "    elif task_type == \"文本摘要\":\n",
    "        if text_length > 5000:\n",
    "            return \"claude-3\" if budget_level == \"high\" else \"gpt-3.5-turbo\"\n",
    "        else:\n",
    "            return \"gpt-3.5-turbo\"\n",
    "\n",
    "    elif task_type == \"翻译\":\n",
    "        return \"gpt-3.5-turbo\"  # 翻译任务通常用较便宜的模型\n",
    "\n",
    "    elif task_type == \"创意写作\":\n",
    "        return \"gpt-4\" if budget_level == \"high\" else \"gpt-3.5-turbo\"\n",
    "\n",
    "    else:\n",
    "        return \"gpt-3.5-turbo\"  # 默认选择\n",
    "\n",
    "# 测试模型选择\n",
    "test_cases = [\n",
    "    (\"代码生成\", 500, \"high\"),\n",
    "    (\"代码生成\", 2000, \"low\"),\n",
    "    (\"文本摘要\", 3000, \"medium\"),\n",
    "    (\"文本摘要\", 8000, \"high\"),\n",
    "    (\"翻译\", 1000, \"low\"),\n",
    "    (\"创意写作\", 500, \"high\"),\n",
    "    (\"未知任务\", 1000, \"medium\")\n",
    "]\n",
    "\n",
    "print(\"模型选择测试:\")\n",
    "for task, length, budget in test_cases:\n",
    "    model = select_optimal_model(task, length, budget)\n",
    "    print(f\"任务: {task:8} | 长度: {length:4} | 预算: {budget:6} | 推荐模型: {model}\")\n",
    "\n",
    "print(\"\\n=== 4. 数据验证和错误处理 ===\")\n",
    "\n",
    "def validate_user_input(user_input, input_type=\"text\"):\n",
    "    \"\"\"验证用户输入\"\"\"\n",
    "    errors = []\n",
    "\n",
    "    # 检查输入是否为空\n",
    "    if not user_input or not user_input.strip():\n",
    "        errors.append(\"输入不能为空\")\n",
    "\n",
    "    # 检查输入长度\n",
    "    if len(user_input) > 10000:\n",
    "        errors.append(\"输入过长，请控制在10000字符以内\")\n",
    "\n",
    "    # 根据类型进行特定验证\n",
    "    if input_type == \"email\":\n",
    "        if \"@\" not in user_input:\n",
    "            errors.append(\"请输入有效的邮箱地址\")\n",
    "\n",
    "    elif input_type == \"number\":\n",
    "        try:\n",
    "            float(user_input)\n",
    "        except ValueError:\n",
    "            errors.append(\"请输入有效的数字\")\n",
    "\n",
    "    elif input_type == \"code\":\n",
    "        if not any(keyword in user_input.lower() for keyword in [\"def \", \"class \", \"import \", \"if \", \"for \"]):\n",
    "            errors.append(\"请输入有效的代码\")\n",
    "\n",
    "    return len(errors) == 0, errors\n",
    "\n",
    "# 测试输入验证\n",
    "test_inputs = [\n",
    "    (\"\", \"text\"),\n",
    "    (\"hello@example.com\", \"email\"),\n",
    "    (\"invalid-email\", \"email\"),\n",
    "    (\"123.45\", \"number\"),\n",
    "    (\"not-a-number\", \"number\"),\n",
    "    (\"def hello(): print('world')\", \"code\"),\n",
    "    (\"just text\", \"code\"),\n",
    "    (\"a\" * 15000, \"text\")\n",
    "]\n",
    "\n",
    "print(\"输入验证测试:\")\n",
    "for user_input, input_type in test_inputs:\n",
    "    is_valid, errors = validate_user_input(user_input, input_type)\n",
    "    status = \"✅ 有效\" if is_valid else \"❌ 无效\"\n",
    "    print(f\"{status} | 类型: {input_type:6} | 输入: '{user_input[:30]}{'...' if len(user_input) > 30 else ''}'\")\n",
    "    if errors:\n",
    "        for error in errors:\n",
    "            print(f\"    错误: {error}\")\n",
    "    print(\"-\" * 60)\n"
   ]
  },
  {
   "cell_type": "markdown",
   "metadata": {
    "deletable": true,
    "editable": true,
    "id": "b4JHiRS4U28C",
    "jp-MarkdownHeadingCollapsed": true
   },
   "source": [
    "## 列表、集合和字典推导式\n",
    "\n",
    "> **核心技能**：推导式是Python中创建容器的简洁高效方式，在大模型开发中用于数据处理、转换、过滤等操作。\n",
    "\n",
    "推导式（Comprehensions）是Python中创建列表、集合和字典的简洁方式，它们基于现有的可迭代对象生成新的容器。\n",
    "\n",
    "### 列表推导式\n",
    "- **语法**：`[expression for item in iterable if condition]`\n",
    "- **用途**：从现有数据创建新列表，进行数据转换和过滤\n",
    "\n",
    "### 集合推导式\n",
    "- **语法**：`{expression for item in iterable if condition}`\n",
    "- **用途**：创建唯一值集合，去重处理\n",
    "\n",
    "### 字典推导式\n",
    "- **语法**：`{key_expression: value_expression for item in iterable if condition}`\n",
    "- **用途**：创建键值对映射，数据转换\n",
    "\n",
    "如何阅读？例如`[resp for resp in api_responses if resp[\"success\"]]`,从中间开始阅读，然后向两边看：\n",
    "\n",
    "对于 (for resp in api_responses)：api_responses 中的每一个 resp。\n",
    "\n",
    "如果 (if resp[\"success\"])：该 resp 是成功的。\n",
    "\n",
    "那么 ([resp ... ])：把这个 resp 收集 起来，放到新列表 successful_responses 中。\n",
    "\n",
    "列表推导式是 Python 的核心特性之一，熟练掌握它能让您的代码更简洁、更高效！\n",
    "\n",
    "### 大模型开发中的应用场景\n",
    "- **数据处理**：快速转换和过滤API响应数据\n",
    "- **文本处理**：批量处理文本，提取特征\n",
    "- **配置管理**：从原始数据生成配置字典\n",
    "- **数据分析**：统计和聚合数据\n",
    "- **性能优化**：比传统循环更高效"
   ]
  },
  {
   "cell_type": "code",
   "execution_count": 81,
   "metadata": {
    "colab": {
     "base_uri": "https://localhost:8080/"
    },
    "id": "LMLylr5CU28A",
    "outputId": "2c97702e-1519-4e9b-b3ae-ecf671feb969"
   },
   "outputs": [
    {
     "name": "stdout",
     "output_type": "stream",
     "text": [
      "=== 1. 列表推导式 - 数据处理和转换 ===\n",
      "成功的API调用:\n",
      "  模型: gpt-3.5-turbo, tokens: 150, 成本: $0.0003\n",
      "  模型: gpt-4, tokens: 200, 成本: $0.0060\n",
      "  模型: gpt-3.5-turbo, tokens: 120, 成本: $0.0002\n",
      "  模型: gpt-4, tokens: 300, 成本: $0.0090\n",
      "\n",
      "各模型总成本: {'gpt-3.5-turbo': 0.00054, 'gpt-4': 0.015, 'claude-3': 0.00144}\n",
      "\n",
      "高成本调用数量: 2\n",
      "\n",
      "=== 2. 字典推导式 - 数据聚合和统计 ===\n",
      "模型统计信息:\n",
      "  gpt-3.5-turbo:\n",
      "    总调用: 2, 成功率: 100.0%\n",
      "    总tokens: 270, 平均tokens: 135\n",
      "    总成本: $0.0005\n",
      "  gpt-4:\n",
      "    总调用: 2, 成功率: 100.0%\n",
      "    总tokens: 500, 平均tokens: 250\n",
      "    总成本: $0.0150\n",
      "  claude-3:\n",
      "    总调用: 1, 成功率: 0.0%\n",
      "    总tokens: 180, 平均tokens: 180\n",
      "    总成本: $0.0014\n",
      "\n",
      "性能报告: {'gpt-3.5-turbo': {'success_rate': 1.0, 'avg_tokens': 135.0, 'cost_per_token': 2e-06}, 'gpt-4': {'success_rate': 1.0, 'avg_tokens': 250.0, 'cost_per_token': 2.9999999999999997e-05}, 'claude-3': {'success_rate': 0.0, 'avg_tokens': 180.0, 'cost_per_token': 8.000000000000001e-06}}\n",
      "\n",
      "=== 3. 集合推导式 - 去重和特征提取 ===\n",
      "所有唯一单词 (26 个): ['a', 'ai', 'and', 'are', 'artificial', 'data', 'development', 'essential', 'for', 'great', 'industries', 'intelligence', 'is', 'language', 'learning', 'machine', 'popular', 'programming', 'python', 'requires', 'science', 'skills', 'strong', 'transforming', 'very', 'with']\n",
      "\n",
      "AI相关关键词: ['ai', 'learning', 'machine', 'programming', 'python']\n",
      "\n",
      "长度大于5的单词: ['artificial', 'development', 'essential', 'industries', 'intelligence', 'language', 'learning', 'machine', 'popular', 'programming', 'python', 'requires', 'science', 'skills', 'strong', 'transforming']\n",
      "\n",
      "=== 4. 嵌套推导式 - 复杂数据处理 ===\n",
      "所有用户消息的tokens: [5, 8, 10]\n",
      "每个对话的总tokens: {1: 78, 2: 40}\n",
      "包含'python'的消息: ['请介绍一下Python', 'Python是一种高级编程语言...', '写一个Python函数', '好的，我来为你写一个Python函数...']\n",
      "\n",
      "=== 5. 条件推导式 - 数据过滤和转换 ===\n",
      "高效模型（准确率>87%且成本<0.01）:\n",
      "  claude-3: 准确率=89.0%, 成本=$0.0080\n",
      "\n",
      "快速模型 (<3.0s): ['gpt-3.5-turbo', 'claude-3', 'gemini-pro']\n",
      "高准确率模型 (>90%): ['gpt-4']\n",
      "低成本模型 (<$0.005): ['gpt-3.5-turbo', 'gemini-pro']\n",
      "\n",
      "模型综合评分排序:\n",
      "  gpt-3.5-turbo: 133.901\n",
      "  gemini-pro: 100.555\n",
      "  claude-3: 25.552\n",
      "  gpt-4: 7.220\n",
      "\n",
      "=== 6. 推导式性能对比 ===\n",
      "传统循环耗时: 0.000779秒\n",
      "列表推导式耗时: 0.000437秒\n",
      "性能提升: 1.78倍\n",
      "结果一致性: True\n",
      "\n",
      "推导式在大模型开发中的优势:\n",
      "1. 代码更简洁易读\n",
      "2. 性能通常更好\n",
      "3. 减少中间变量\n",
      "4. 易于并行化处理\n",
      "5. 符合Python的优雅风格\n"
     ]
    }
   ],
   "source": [
    "# 大模型开发中的推导式应用示例\n",
    "\n",
    "print(\"=== 1. 列表推导式 - 数据处理和转换 ===\")\n",
    "\n",
    "# 模拟API响应数据\n",
    "api_responses = [\n",
    "    {\"model\": \"gpt-3.5-turbo\", \"tokens\": 150, \"cost\": 0.0003, \"success\": True},\n",
    "    {\"model\": \"gpt-4\", \"tokens\": 200, \"cost\": 0.006, \"success\": True},\n",
    "    {\"model\": \"claude-3\", \"tokens\": 180, \"cost\": 0.00144, \"success\": False},\n",
    "    {\"model\": \"gpt-3.5-turbo\", \"tokens\": 120, \"cost\": 0.00024, \"success\": True},\n",
    "    {\"model\": \"gpt-4\", \"tokens\": 300, \"cost\": 0.009, \"success\": True}\n",
    "]\n",
    "\n",
    "# 提取所有成功的响应\n",
    "successful_responses = [resp for resp in api_responses if resp[\"success\"]]\n",
    "print(\"成功的API调用:\")\n",
    "for resp in successful_responses:\n",
    "    print(f\"  模型: {resp['model']}, tokens: {resp['tokens']}, 成本: ${resp['cost']:.4f}\")\n",
    "\n",
    "# 计算每个模型的总成本\n",
    "model_costs = {}\n",
    "for resp in api_responses:\n",
    "    model = resp[\"model\"]\n",
    "    if model not in model_costs:\n",
    "        model_costs[model] = 0\n",
    "    model_costs[model] += resp[\"cost\"]\n",
    "\n",
    "print(f\"\\n各模型总成本: {model_costs}\")\n",
    "\n",
    "# 提取高成本调用（> $0.005）\n",
    "high_cost_calls = [resp for resp in api_responses if resp[\"cost\"] > 0.005]\n",
    "print(f\"\\n高成本调用数量: {len(high_cost_calls)}\")\n",
    "\n",
    "# 按模型分组统计\n",
    "print(\"\\n=== 2. 字典推导式 - 数据聚合和统计 ===\")\n",
    "\n",
    "# 按模型分组统计\n",
    "model_stats = {}\n",
    "for resp in api_responses:\n",
    "    model = resp[\"model\"]\n",
    "    if model not in model_stats:\n",
    "        model_stats[model] = {\"total_calls\": 0, \"successful_calls\": 0, \"total_tokens\": 0, \"total_cost\": 0}\n",
    "\n",
    "    model_stats[model][\"total_calls\"] += 1\n",
    "    if resp[\"success\"]:\n",
    "        model_stats[model][\"successful_calls\"] += 1\n",
    "    model_stats[model][\"total_tokens\"] += resp[\"tokens\"]\n",
    "    model_stats[model][\"total_cost\"] += resp[\"cost\"]\n",
    "\n",
    "print(\"模型统计信息:\")\n",
    "for model, stats in model_stats.items():\n",
    "    success_rate = stats[\"successful_calls\"] / stats[\"total_calls\"] * 100\n",
    "    avg_tokens = stats[\"total_tokens\"] / stats[\"total_calls\"]\n",
    "    print(f\"  {model}:\")\n",
    "    print(f\"    总调用: {stats['total_calls']}, 成功率: {success_rate:.1f}%\")\n",
    "    print(f\"    总tokens: {stats['total_tokens']}, 平均tokens: {avg_tokens:.0f}\")\n",
    "    print(f\"    总成本: ${stats['total_cost']:.4f}\")\n",
    "\n",
    "# 使用字典推导式创建模型性能报告\n",
    "performance_report = {\n",
    "    model: {\n",
    "        \"success_rate\": stats[\"successful_calls\"] / stats[\"total_calls\"],\n",
    "        \"avg_tokens\": stats[\"total_tokens\"] / stats[\"total_calls\"],\n",
    "        \"cost_per_token\": stats[\"total_cost\"] / stats[\"total_tokens\"] if stats[\"total_tokens\"] > 0 else 0\n",
    "    }\n",
    "    for model, stats in model_stats.items()\n",
    "}\n",
    "\n",
    "print(f\"\\n性能报告: {performance_report}\")\n",
    "\n",
    "print(\"\\n=== 3. 集合推导式 - 去重和特征提取 ===\")\n",
    "\n",
    "# 从文本中提取关键词\n",
    "texts = [\n",
    "    \"Python is a great programming language for AI development\",\n",
    "    \"Machine learning with Python is very popular\",\n",
    "    \"AI and machine learning are transforming industries\",\n",
    "    \"Python programming is essential for data science\",\n",
    "    \"Artificial intelligence requires strong programming skills\"\n",
    "]\n",
    "\n",
    "# 提取所有单词并转换为小写\n",
    "all_words = {word.lower().strip('.,!?') for text in texts for word in text.split()}\n",
    "print(f\"所有唯一单词 ({len(all_words)} 个): {sorted(all_words)}\")\n",
    "\n",
    "# 提取AI相关关键词\n",
    "ai_keywords = {word.lower() for text in texts for word in text.split()\n",
    "               if any(keyword in word.lower() for keyword in ['ai', 'python', 'machine', 'learning', 'programming'])}\n",
    "print(f\"\\nAI相关关键词: {sorted(ai_keywords)}\")\n",
    "\n",
    "# 提取长度大于5的单词\n",
    "long_words = {word for word in all_words if len(word) > 5}\n",
    "print(f\"\\n长度大于5的单词: {sorted(long_words)}\")\n",
    "\n",
    "print(\"\\n=== 4. 嵌套推导式 - 复杂数据处理 ===\")\n",
    "\n",
    "# 模拟多轮对话数据\n",
    "conversations = [\n",
    "    {\n",
    "        \"id\": 1,\n",
    "        \"messages\": [\n",
    "            {\"role\": \"user\", \"content\": \"你好\", \"tokens\": 5},\n",
    "            {\"role\": \"assistant\", \"content\": \"你好！有什么可以帮助你的吗？\", \"tokens\": 15},\n",
    "            {\"role\": \"user\", \"content\": \"请介绍一下Python\", \"tokens\": 8},\n",
    "            {\"role\": \"assistant\", \"content\": \"Python是一种高级编程语言...\", \"tokens\": 50}\n",
    "        ]\n",
    "    },\n",
    "    {\n",
    "        \"id\": 2,\n",
    "        \"messages\": [\n",
    "            {\"role\": \"user\", \"content\": \"写一个Python函数\", \"tokens\": 10},\n",
    "            {\"role\": \"assistant\", \"content\": \"好的，我来为你写一个Python函数...\", \"tokens\": 30}\n",
    "        ]\n",
    "    }\n",
    "]\n",
    "\n",
    "# 提取所有用户消息的tokens\n",
    "user_tokens = [msg[\"tokens\"] for conv in conversations for msg in conv[\"messages\"] if msg[\"role\"] == \"user\"]\n",
    "print(f\"所有用户消息的tokens: {user_tokens}\")\n",
    "\n",
    "# 计算每个对话的总tokens\n",
    "conversation_totals = {\n",
    "    conv[\"id\"]: sum(msg[\"tokens\"] for msg in conv[\"messages\"])\n",
    "    for conv in conversations\n",
    "}\n",
    "print(f\"每个对话的总tokens: {conversation_totals}\")\n",
    "\n",
    "# 提取包含特定关键词的消息\n",
    "keyword_messages = [\n",
    "    msg[\"content\"] for conv in conversations\n",
    "    for msg in conv[\"messages\"]\n",
    "    if \"python\" in msg[\"content\"].lower()\n",
    "]\n",
    "print(f\"包含'python'的消息: {keyword_messages}\")\n",
    "\n",
    "print(\"\\n=== 5. 条件推导式 - 数据过滤和转换 ===\")\n",
    "\n",
    "# 模拟模型性能数据\n",
    "model_performance = [\n",
    "    {\"name\": \"gpt-3.5-turbo\", \"accuracy\": 0.85, \"speed\": 2.1, \"cost\": 0.0015},\n",
    "    {\"name\": \"gpt-4\", \"accuracy\": 0.92, \"speed\": 3.2, \"cost\": 0.03},\n",
    "    {\"name\": \"claude-3\", \"accuracy\": 0.89, \"speed\": 2.8, \"cost\": 0.008},\n",
    "    {\"name\": \"gemini-pro\", \"accuracy\": 0.87, \"speed\": 2.5, \"cost\": 0.002}\n",
    "]\n",
    "\n",
    "# 找出高准确率且低成本模型\n",
    "efficient_models = [\n",
    "    model for model in model_performance\n",
    "    if model[\"accuracy\"] > 0.87 and model[\"cost\"] < 0.01\n",
    "]\n",
    "print(\"高效模型（准确率>87%且成本<0.01）:\")\n",
    "for model in efficient_models:\n",
    "    print(f\"  {model['name']}: 准确率={model['accuracy']:.1%}, 成本=${model['cost']:.4f}\")\n",
    "\n",
    "# 创建模型推荐列表（基于不同标准）\n",
    "fast_models = [model[\"name\"] for model in model_performance if model[\"speed\"] < 3.0]\n",
    "accurate_models = [model[\"name\"] for model in model_performance if model[\"accuracy\"] > 0.9]\n",
    "cheap_models = [model[\"name\"] for model in model_performance if model[\"cost\"] < 0.005]\n",
    "\n",
    "print(f\"\\n快速模型 (<3.0s): {fast_models}\")\n",
    "print(f\"高准确率模型 (>90%): {accurate_models}\")\n",
    "print(f\"低成本模型 (<$0.005): {cheap_models}\")\n",
    "\n",
    "# 计算综合评分\n",
    "scored_models = [\n",
    "    {\n",
    "        \"name\": model[\"name\"],\n",
    "        \"score\": (model[\"accuracy\"] * 0.5 + (1/model[\"speed\"]) * 0.3 + (1/model[\"cost\"]) * 0.2)\n",
    "    }\n",
    "    for model in model_performance\n",
    "]\n",
    "\n",
    "# 按评分排序\n",
    "scored_models.sort(key=lambda x: x[\"score\"], reverse=True)\n",
    "print(f\"\\n模型综合评分排序:\")\n",
    "for model in scored_models:\n",
    "    print(f\"  {model['name']}: {model['score']:.3f}\")\n",
    "\n",
    "print(\"\\n=== 6. 推导式性能对比 ===\")\n",
    "\n",
    "import time\n",
    "\n",
    "# 大量数据测试\n",
    "large_data = list(range(10000))\n",
    "\n",
    "# 传统循环方式\n",
    "start_time = time.time()\n",
    "result1 = []\n",
    "for x in large_data:\n",
    "    if x % 2 == 0:\n",
    "        result1.append(x * 2)\n",
    "loop_time = time.time() - start_time\n",
    "\n",
    "# 列表推导式方式\n",
    "start_time = time.time()\n",
    "result2 = [x * 2 for x in large_data if x % 2 == 0]\n",
    "comprehension_time = time.time() - start_time\n",
    "\n",
    "print(f\"传统循环耗时: {loop_time:.6f}秒\")\n",
    "print(f\"列表推导式耗时: {comprehension_time:.6f}秒\")\n",
    "print(f\"性能提升: {loop_time/comprehension_time:.2f}倍\")\n",
    "print(f\"结果一致性: {result1 == result2}\")\n",
    "\n",
    "print(f\"\\n推导式在大模型开发中的优势:\")\n",
    "print(\"1. 代码更简洁易读\")\n",
    "print(\"2. 性能通常更好\")\n",
    "print(\"3. 减少中间变量\")\n",
    "print(\"4. 易于并行化处理\")\n",
    "print(\"5. 符合Python的优雅风格\")\n"
   ]
  },
  {
   "cell_type": "code",
   "execution_count": null,
   "metadata": {
    "collapsed": true,
    "deletable": true,
    "editable": true,
    "id": "_h3BoNV7U28G",
    "jupyter": {
     "outputs_hidden": true
    }
   },
   "outputs": [],
   "source": []
  },
  {
   "cell_type": "markdown",
   "metadata": {
    "deletable": true,
    "editable": true,
    "id": "KQhKyOTvU28G"
   },
   "source": [
    "## 从参数或其他对象创建对象\n",
    "\n",
    "> **重要概念**：类型构造函数是大模型开发中数据类型转换的基础工具，用于处理API响应、数据清洗、格式转换等。\n",
    "\n",
    "到目前为止我们使用的基本类型和容器都提供**类型构造函数**：\n",
    "\n",
    "- `int()` - 整数构造函数\n",
    "- `float()` - 浮点数构造函数\n",
    "- `str()` - 字符串构造函数\n",
    "- `list()` - 列表构造函数\n",
    "- `tuple()` - 元组构造函数\n",
    "- `set()` - 集合构造函数\n",
    "- `dict()` - 字典构造函数\n",
    "\n",
    "到目前为止，我们一直在使用一些语法快捷方式来定义这些内置类型的对象，因为它们非常常见。\n",
    "\n",
    "有时，你会有一个类型的对象需要转换为另一种类型。使用你想要的对象类型的**类型构造函数**，并传入你当前拥有的对象。\n",
    "\n",
    "### 大模型开发中的应用场景\n",
    "- **API响应处理**：将JSON字符串转换为Python对象\n",
    "- **数据清洗**：转换数据类型，确保数据格式正确\n",
    "- **类型转换**：在不同数据类型之间进行安全转换\n",
    "- **错误处理**：使用构造函数进行类型验证\n",
    "- **数据标准化**：将不同格式的数据转换为统一格式"
   ]
  },
  {
   "cell_type": "code",
   "execution_count": 82,
   "metadata": {
    "colab": {
     "base_uri": "https://localhost:8080/"
    },
    "id": "6Z4frKcZU28D",
    "outputId": "47972d35-f0cd-4616-f15d-248583536c1d"
   },
   "outputs": [
    {
     "name": "stdout",
     "output_type": "stream",
     "text": [
      "=== 1. 基本类型转换 ===\n",
      "用户ID: 123 (类型: <class 'int'>)\n",
      "Token字符串: '1500' (类型: <class 'str'>)\n",
      "置信度: 0.85 (类型: <class 'float'>)\n",
      "\n",
      "=== 2. 容器类型转换 ===\n",
      "主题列表: ['Python', 'AI', 'Machine Learning', 'Deep Learning']\n",
      "去重后的标签: {'ai', 'machine learning', 'python'}\n",
      "配置元组: ('gpt-3.5-turbo', 0.7, 1000, True)\n",
      "配置键: ['model', 'temperature', 'max_tokens']\n",
      "\n",
      "=== 3. API响应数据处理 ===\n",
      "解析后的响应: {'choices': [{'message': {'content': 'Hello! How can I help you?'}}], 'usage': {'total_tokens': 25}}\n",
      "内容: Hello! How can I help you?\n",
      "Token使用量: 25\n",
      "\n",
      "=== 4. 数据验证和类型转换 ===\n",
      "安全类型转换测试:\n",
      "  123 -> int: 123\n",
      "  45.67 -> float: 45.67\n",
      "  hello -> str: hello\n",
      "  True -> bool: True\n",
      "  false -> bool: True\n",
      "转换失败:  -> int, 错误: invalid literal for int() with base 10: ''\n",
      "   -> int: 转换失败\n",
      "\n",
      "=== 5. 批量数据处理 ===\n",
      "解析后的用户数据:\n",
      "  用户: user_001, tokens: 150, 置信度: 0.85\n",
      "  用户: user_002, tokens: 200, 置信度: 0.92\n",
      "  用户: user_003, tokens: 175, 置信度: 0.78\n",
      "  用户: user_004, tokens: 300, 置信度: 0.95\n",
      "  用户: user_005, tokens: 125, 置信度: 0.88\n",
      "\n",
      "Token列表: [150, 200, 175, 300, 125]\n",
      "置信度列表: [0.85, 0.92, 0.78, 0.95, 0.88]\n",
      "\n",
      "=== 6. 配置管理中的类型转换 ===\n",
      "转换后的配置:\n",
      "  model_name: gpt-3.5-turbo (类型: str)\n",
      "  max_tokens: 1000 (类型: int)\n",
      "  temperature: 0.7 (类型: float)\n",
      "  enable_streaming: True (类型: bool)\n",
      "  timeout: 30 (类型: int)\n",
      "  retry_count: 3 (类型: int)\n",
      "\n",
      "=== 7. 错误处理和类型验证 ===\n",
      "参数转换结果:\n",
      "✅ 所有参数转换成功\n",
      "  model: gpt-3.5-turbo (类型: str)\n",
      "  max_tokens: 1000 (类型: int)\n",
      "  temperature: 0.7 (类型: float)\n",
      "  top_p: 0.9 (类型: float)\n",
      "  stream: True (类型: bool)\n",
      "\n",
      "=== 8. 性能优化 - 批量转换 ===\n",
      "逐个转换耗时: 0.006932秒\n",
      "列表推导式耗时: 0.003455秒\n",
      "性能提升: 2.01倍\n",
      "结果一致性: True\n",
      "\n",
      "类型构造函数在大模型开发中的重要性:\n",
      "1. 数据清洗和标准化\n",
      "2. API参数验证和转换\n",
      "3. 配置文件解析\n",
      "4. 错误处理和容错\n",
      "5. 性能优化和批量处理\n"
     ]
    }
   ],
   "source": [
    "# 大模型开发中的类型构造函数应用示例\n",
    "\n",
    "print(\"=== 1. 基本类型转换 ===\")\n",
    "\n",
    "# 字符串转数字\n",
    "user_input = \"123\"\n",
    "user_id = int(user_input)\n",
    "print(f\"用户ID: {user_id} (类型: {type(user_id)})\")\n",
    "\n",
    "# 数字转字符串\n",
    "token_count = 1500\n",
    "token_str = str(token_count)\n",
    "print(f\"Token字符串: '{token_str}' (类型: {type(token_str)})\")\n",
    "\n",
    "# 字符串转浮点数\n",
    "confidence_score = \"0.85\"\n",
    "confidence = float(confidence_score)\n",
    "print(f\"置信度: {confidence} (类型: {type(confidence)})\")\n",
    "\n",
    "print(\"\\n=== 2. 容器类型转换 ===\")\n",
    "\n",
    "# 字符串转列表\n",
    "text = \"Python,AI,Machine Learning,Deep Learning\"\n",
    "topics = text.split(\",\")\n",
    "print(f\"主题列表: {topics}\")\n",
    "\n",
    "# 列表转集合（去重）\n",
    "duplicate_tags = [\"python\", \"ai\", \"python\", \"machine learning\", \"ai\", \"python\"]\n",
    "unique_tags = set(duplicate_tags)\n",
    "print(f\"去重后的标签: {unique_tags}\")\n",
    "\n",
    "# 列表转元组（不可变）\n",
    "config_list = [\"gpt-3.5-turbo\", 0.7, 1000, True]\n",
    "config_tuple = tuple(config_list)\n",
    "print(f\"配置元组: {config_tuple}\")\n",
    "\n",
    "# 字典转列表（键）\n",
    "api_config = {\"model\": \"gpt-4\", \"temperature\": 0.7, \"max_tokens\": 2000}\n",
    "config_keys = list(api_config.keys())\n",
    "print(f\"配置键: {config_keys}\")\n",
    "\n",
    "print(\"\\n=== 3. API响应数据处理 ===\")\n",
    "\n",
    "# 模拟API响应（JSON字符串）\n",
    "json_response = '{\"choices\": [{\"message\": {\"content\": \"Hello! How can I help you?\"}}], \"usage\": {\"total_tokens\": 25}}'\n",
    "\n",
    "# 字符串转字典（实际开发中会使用json.loads()）\n",
    "# 这里我们手动解析来演示类型转换\n",
    "import json\n",
    "response_data = json.loads(json_response)\n",
    "print(f\"解析后的响应: {response_data}\")\n",
    "\n",
    "# 提取特定数据并转换类型\n",
    "content = str(response_data[\"choices\"][0][\"message\"][\"content\"])\n",
    "token_usage = int(response_data[\"usage\"][\"total_tokens\"])\n",
    "print(f\"内容: {content}\")\n",
    "print(f\"Token使用量: {token_usage}\")\n",
    "\n",
    "print(\"\\n=== 4. 数据验证和类型转换 ===\")\n",
    "\n",
    "def safe_convert(value, target_type, default=None):\n",
    "    \"\"\"安全地转换数据类型\"\"\"\n",
    "    try:\n",
    "        return target_type(value)\n",
    "    except (ValueError, TypeError) as e:\n",
    "        print(f\"转换失败: {value} -> {target_type.__name__}, 错误: {e}\")\n",
    "        return default\n",
    "\n",
    "# 测试各种转换\n",
    "test_values = [\"123\", \"45.67\", \"hello\", \"True\", \"false\", \"\"]\n",
    "target_types = [int, float, str, bool, bool, int]\n",
    "\n",
    "print(\"安全类型转换测试:\")\n",
    "for value, target_type in zip(test_values, target_types):\n",
    "    result = safe_convert(value, target_type, \"转换失败\")\n",
    "    print(f\"  {value} -> {target_type.__name__}: {result}\")\n",
    "\n",
    "print(\"\\n=== 5. 批量数据处理 ===\")\n",
    "\n",
    "# 模拟从API获取的原始数据\n",
    "raw_data = [\n",
    "    \"user_001,150,0.85\",\n",
    "    \"user_002,200,0.92\",\n",
    "    \"user_003,175,0.78\",\n",
    "    \"user_004,300,0.95\",\n",
    "    \"user_005,125,0.88\"\n",
    "]\n",
    "\n",
    "# 解析CSV格式数据\n",
    "parsed_data = []\n",
    "for line in raw_data:\n",
    "    parts = line.split(\",\")\n",
    "    user_data = {\n",
    "        \"user_id\": str(parts[0]),\n",
    "        \"tokens\": int(parts[1]),\n",
    "        \"confidence\": float(parts[2])\n",
    "    }\n",
    "    parsed_data.append(user_data)\n",
    "\n",
    "print(\"解析后的用户数据:\")\n",
    "for data in parsed_data:\n",
    "    print(f\"  用户: {data['user_id']}, tokens: {data['tokens']}, 置信度: {data['confidence']:.2f}\")\n",
    "\n",
    "# 提取特定字段\n",
    "token_list = [data[\"tokens\"] for data in parsed_data]\n",
    "confidence_list = [data[\"confidence\"] for data in parsed_data]\n",
    "\n",
    "print(f\"\\nToken列表: {token_list}\")\n",
    "print(f\"置信度列表: {confidence_list}\")\n",
    "\n",
    "print(\"\\n=== 6. 配置管理中的类型转换 ===\")\n",
    "\n",
    "# 从环境变量或配置文件读取的字符串配置\n",
    "env_config = {\n",
    "    \"MODEL_NAME\": \"gpt-3.5-turbo\",\n",
    "    \"MAX_TOKENS\": \"1000\",\n",
    "    \"TEMPERATURE\": \"0.7\",\n",
    "    \"ENABLE_STREAMING\": \"true\",\n",
    "    \"TIMEOUT\": \"30\",\n",
    "    \"RETRY_COUNT\": \"3\"\n",
    "}\n",
    "\n",
    "# 转换为适当的数据类型\n",
    "config = {\n",
    "    \"model_name\": str(env_config[\"MODEL_NAME\"]),\n",
    "    \"max_tokens\": int(env_config[\"MAX_TOKENS\"]),\n",
    "    \"temperature\": float(env_config[\"TEMPERATURE\"]),\n",
    "    \"enable_streaming\": env_config[\"ENABLE_STREAMING\"].lower() == \"true\",\n",
    "    \"timeout\": int(env_config[\"TIMEOUT\"]),\n",
    "    \"retry_count\": int(env_config[\"RETRY_COUNT\"])\n",
    "}\n",
    "\n",
    "print(\"转换后的配置:\")\n",
    "for key, value in config.items():\n",
    "    print(f\"  {key}: {value} (类型: {type(value).__name__})\")\n",
    "\n",
    "print(\"\\n=== 7. 错误处理和类型验证 ===\")\n",
    "\n",
    "def validate_and_convert_api_params(params):\n",
    "    \"\"\"验证并转换API参数\"\"\"\n",
    "    converted_params = {}\n",
    "    errors = []\n",
    "\n",
    "    # 定义期望的类型\n",
    "    expected_types = {\n",
    "        \"model\": str,\n",
    "        \"max_tokens\": int,\n",
    "        \"temperature\": float,\n",
    "        \"top_p\": float,\n",
    "        \"stream\": bool\n",
    "    }\n",
    "\n",
    "    for key, expected_type in expected_types.items():\n",
    "        if key in params:\n",
    "            try:\n",
    "                if expected_type == bool:\n",
    "                    # 布尔值的特殊处理\n",
    "                    value = str(params[key]).lower()\n",
    "                    converted_params[key] = value in [\"true\", \"1\", \"yes\", \"on\"]\n",
    "                else:\n",
    "                    converted_params[key] = expected_type(params[key])\n",
    "            except (ValueError, TypeError) as e:\n",
    "                errors.append(f\"参数 '{key}' 转换失败: {e}\")\n",
    "        else:\n",
    "            errors.append(f\"缺少必需参数: {key}\")\n",
    "\n",
    "    return converted_params, errors\n",
    "\n",
    "# 测试参数转换\n",
    "test_params = {\n",
    "    \"model\": \"gpt-3.5-turbo\",\n",
    "    \"max_tokens\": \"1000\",  # 字符串，需要转换为int\n",
    "    \"temperature\": \"0.7\",  # 字符串，需要转换为float\n",
    "    \"top_p\": 0.9,          # 已经是float\n",
    "    \"stream\": \"true\"       # 字符串，需要转换为bool\n",
    "}\n",
    "\n",
    "converted_params, errors = validate_and_convert_api_params(test_params)\n",
    "\n",
    "print(\"参数转换结果:\")\n",
    "if errors:\n",
    "    print(\"错误:\")\n",
    "    for error in errors:\n",
    "        print(f\"  ❌ {error}\")\n",
    "else:\n",
    "    print(\"✅ 所有参数转换成功\")\n",
    "    for key, value in converted_params.items():\n",
    "        print(f\"  {key}: {value} (类型: {type(value).__name__})\")\n",
    "\n",
    "print(\"\\n=== 8. 性能优化 - 批量转换 ===\")\n",
    "\n",
    "import time\n",
    "\n",
    "# 大量数据转换性能测试\n",
    "large_string_list = [str(i) for i in range(10000)]\n",
    "\n",
    "# 方法1: 逐个转换\n",
    "start_time = time.time()\n",
    "int_list1 = []\n",
    "for s in large_string_list:\n",
    "    int_list1.append(int(s))\n",
    "method1_time = time.time() - start_time\n",
    "\n",
    "# 方法2: 列表推导式\n",
    "start_time = time.time()\n",
    "int_list2 = [int(s) for s in large_string_list]\n",
    "method2_time = time.time() - start_time\n",
    "\n",
    "print(f\"逐个转换耗时: {method1_time:.6f}秒\")\n",
    "print(f\"列表推导式耗时: {method2_time:.6f}秒\")\n",
    "print(f\"性能提升: {method1_time/method2_time:.2f}倍\")\n",
    "print(f\"结果一致性: {int_list1 == int_list2}\")\n",
    "\n",
    "print(f\"\\n类型构造函数在大模型开发中的重要性:\")\n",
    "print(\"1. 数据清洗和标准化\")\n",
    "print(\"2. API参数验证和转换\")\n",
    "print(\"3. 配置文件解析\")\n",
    "print(\"4. 错误处理和容错\")\n",
    "print(\"5. 性能优化和批量处理\")\n"
   ]
  },
  {
   "cell_type": "markdown",
   "metadata": {
    "deletable": true,
    "editable": true,
    "id": "EDXEG8gfU28I"
   },
   "source": [
    "## 导入模块\n",
    "\n",
    "> **核心技能**：模块导入是大模型开发的基础，用于使用各种库和框架，如OpenAI、LangChain、Pandas等。\n",
    "\n",
    "Python的模块系统允许你组织和重用代码。在大模型开发中，你需要导入各种库来处理不同的任务。\n",
    "\n",
    "### 基本导入方式\n",
    "- `import module_name` - 导入整个模块\n",
    "- `from module_name import function_name` - 导入特定函数\n",
    "- `from module_name import *` - 导入模块中的所有内容（不推荐）\n",
    "- `import module_name as alias` - 使用别名导入模块\n",
    "\n",
    "### 大模型开发中常用的模块\n",
    "- **`openai`** - OpenAI API客户端\n",
    "- **`requests`** - HTTP请求库\n",
    "- **`json`** - JSON数据处理\n",
    "- **`pandas`** - 数据分析\n",
    "- **`numpy`** - 数值计算\n",
    "- **`langchain`** - 大模型应用框架\n",
    "- **`transformers`** - Hugging Face模型库\n",
    "\n",
    "### 最佳实践\n",
    "- 按标准库、第三方库、本地模块的顺序导入\n",
    "- 使用具体的导入而不是通配符导入\n",
    "- 为长模块名使用有意义的别名\n",
    "- 在文件顶部集中导入所有模块"
   ]
  },
  {
   "cell_type": "code",
   "execution_count": 83,
   "metadata": {
    "colab": {
     "base_uri": "https://localhost:8080/",
     "height": 422
    },
    "id": "664efe3d",
    "outputId": "9130ff10-6e3b-4508-f468-9b29cd10e76b"
   },
   "outputs": [
    {
     "name": "stdout",
     "output_type": "stream",
     "text": [
      "openai 模块已成功导入\n",
      "LangChain 模块未找到，请尝试 !pip install langchain\n",
      "transformers 模块未找到，请尝试 !pip install transformers\n",
      "\n",
      "使用导入的模块:\n",
      "解析的配置: {'model': 'gpt-3.5-turbo', 'temperature': 0.7}\n",
      "requests模块类型: <class 'module'>\n",
      "\n",
      "Pandas DataFrame:\n"
     ]
    },
    {
     "data": {
      "text/html": [
       "<div>\n",
       "<style scoped>\n",
       "    .dataframe tbody tr th:only-of-type {\n",
       "        vertical-align: middle;\n",
       "    }\n",
       "\n",
       "    .dataframe tbody tr th {\n",
       "        vertical-align: top;\n",
       "    }\n",
       "\n",
       "    .dataframe thead th {\n",
       "        text-align: right;\n",
       "    }\n",
       "</style>\n",
       "<table border=\"1\" class=\"dataframe\">\n",
       "  <thead>\n",
       "    <tr style=\"text-align: right;\">\n",
       "      <th></th>\n",
       "      <th>col1</th>\n",
       "      <th>col2</th>\n",
       "    </tr>\n",
       "  </thead>\n",
       "  <tbody>\n",
       "    <tr>\n",
       "      <th>0</th>\n",
       "      <td>1</td>\n",
       "      <td>3</td>\n",
       "    </tr>\n",
       "    <tr>\n",
       "      <th>1</th>\n",
       "      <td>2</td>\n",
       "      <td>4</td>\n",
       "    </tr>\n",
       "  </tbody>\n",
       "</table>\n",
       "</div>"
      ],
      "text/plain": [
       "   col1  col2\n",
       "0     1     3\n",
       "1     2     4"
      ]
     },
     "metadata": {},
     "output_type": "display_data"
    },
    {
     "name": "stdout",
     "output_type": "stream",
     "text": [
      "\\当前时间: 2025-10-09 10:14:17.599016\n",
      "\n",
      "模块导入示例结束\n"
     ]
    }
   ],
   "source": [
    "# 导入常用模块的示例\n",
    "\n",
    "# 导入整个模块并使用别名 (推荐方式)\n",
    "import json as js  # 用于处理JSON数据，API响应常用\n",
    "import requests as req # 用于发送HTTP请求，调用API\n",
    "import pandas as pd # 用于数据分析和处理\n",
    "\n",
    "# 从模块中导入特定函数或类\n",
    "from datetime import datetime, timedelta # 用于处理日期和时间\n",
    "\n",
    "# 导入特定的大模型相关库（可能需要安装）\n",
    "# 请注意：这些库可能需要通过 !pip install 命令进行安装\n",
    "try:\n",
    "    import openai # OpenAI API客户端\n",
    "    print(\"openai 模块已成功导入\")\n",
    "except ImportError:\n",
    "    print(\"openai 模块未找到，请尝试 !pip install openai\")\n",
    "\n",
    "try:\n",
    "    from langchain.prompts import PromptTemplate # LangChain提示词模板\n",
    "    print(\"LangChain.prompts 模块已成功导入\")\n",
    "except ImportError:\n",
    "    print(\"LangChain 模块未找到，请尝试 !pip install langchain\")\n",
    "\n",
    "try:\n",
    "    from transformers import pipeline # Hugging Face Transformers模型 pipeline\n",
    "    print(\"transformers 模块已成功导入\")\n",
    "except ImportError:\n",
    "    print(\"transformers 模块未找到，请尝试 !pip install transformers\")\n",
    "\n",
    "# 导入NumPy用于数值计算\n",
    "import numpy as np # 用于数值计算，处理张量等\n",
    "\n",
    "# 使用导入的模块和对象\n",
    "print(\"\\n使用导入的模块:\")\n",
    "\n",
    "# 使用json模块\n",
    "json_string = '{\"model\": \"gpt-3.5-turbo\", \"temperature\": 0.7}'\n",
    "config = js.loads(json_string)\n",
    "print(\"解析的配置:\", config)\n",
    "\n",
    "# 使用requests模块 (这里只打印类型，不实际发送请求)\n",
    "# response = req.get(\"https://api.example.com\")\n",
    "print(\"requests模块类型:\", type(req))\n",
    "\n",
    "# 使用pandas模块\n",
    "data = {'col1': [1, 2], 'col2': [3, 4]}\n",
    "df = pd.DataFrame(data)\n",
    "print(\"\\nPandas DataFrame:\")\n",
    "display(df)\n",
    "\n",
    "# 使用datetime对象\n",
    "now = datetime.now()\n",
    "print(\"\\当前时间:\", now)\n",
    "\n",
    "# 使用PromptTemplate (如果langchain导入成功)\n",
    "if 'PromptTemplate' in locals():\n",
    "    template = \"请以{style}的风格介绍{topic}\"\n",
    "    prompt_template = PromptTemplate(template=template, input_variables=[\"style\", \"topic\"])\n",
    "    formatted_prompt = prompt_template.format(style=\"幽默\", topic=\"人工智能\")\n",
    "    print(\"\\n格式化提示词:\", formatted_prompt)\n",
    "\n",
    "# 使用pipeline (如果transformers导入成功)\n",
    "if 'pipeline' in locals():\n",
    "    # 注意：实际使用时需要下载模型，可能会消耗时间和资源\n",
    "    # text_generator = pipeline(\"text-generation\")\n",
    "    # generated_text = text_generator(\"Hello, I am\", max_length=10)\n",
    "    print(\"\\ntransformers.pipeline 已导入，可以使用了。\")\n",
    "\n",
    "\n",
    "# 导入本地自定义模块的示例（假设有一个名为 my_utils.py 的文件）\n",
    "# try:\n",
    "#     from my_utils import process_text\n",
    "#     print(\"\\n本地模块 my_utils 已成功导入\")\n",
    "# except ImportError:\n",
    "#     print(\"\\n本地模块 my_utils 未找到\")\n",
    "\n",
    "print(\"\\n模块导入示例结束\")"
   ]
  },
  {
   "cell_type": "code",
   "execution_count": null,
   "metadata": {
    "collapsed": true,
    "deletable": true,
    "editable": true,
    "id": "NDBZz5s7U28M",
    "jupyter": {
     "outputs_hidden": true
    }
   },
   "outputs": [],
   "source": []
  },
  {
   "cell_type": "markdown",
   "metadata": {
    "deletable": true,
    "editable": true,
    "id": "XI8_VBhHU28M"
   },
   "source": [
    "## 异常处理\n",
    "\n",
    "> **核心技能**：异常处理是大模型开发中必不可少的技能，用于处理API调用失败、网络错误、数据验证等各种异常情况。\n",
    "\n",
    "异常是Python中处理错误和异常情况的机制。在大模型开发中，正确处理异常对于构建稳定的应用至关重要。\n",
    "\n",
    "### 基本异常处理语法\n",
    "```python\n",
    "try:\n",
    "    # 可能出错的代码\n",
    "    pass\n",
    "except ExceptionType as e:\n",
    "    # 处理特定异常\n",
    "    pass\n",
    "except Exception as e:\n",
    "    # 处理所有其他异常\n",
    "    pass\n",
    "else:\n",
    "    # 没有异常时执行\n",
    "    pass\n",
    "finally:\n",
    "    # 无论是否有异常都执行\n",
    "    pass\n",
    "```\n",
    "\n",
    "### 大模型开发中常见的异常类型\n",
    "- **`ConnectionError`** - 网络连接错误\n",
    "- **`TimeoutError`** - 请求超时\n",
    "- **`ValueError`** - 值错误（如无效参数）\n",
    "- **`KeyError`** - 字典键不存在\n",
    "- **`JSONDecodeError`** - JSON解析错误\n",
    "- **`APIError`** - API调用错误\n",
    "\n",
    "### 最佳实践\n",
    "- 捕获具体的异常类型而不是通用的Exception\n",
    "- 提供有意义的错误信息\n",
    "- 实现重试机制\n",
    "- 记录错误日志\n",
    "- 优雅地处理失败情况"
   ]
  },
  {
   "cell_type": "code",
   "execution_count": 84,
   "metadata": {
    "colab": {
     "base_uri": "https://localhost:8080/"
    },
    "id": "kjZI-YHcU28J",
    "outputId": "922983e1-745a-45f2-bd61-1e8262e845c1"
   },
   "outputs": [
    {
     "name": "stdout",
     "output_type": "stream",
     "text": [
      "=== 1. 基本异常处理 - API调用 ===\n",
      "\n",
      "测试提示词: '你好'\n",
      "🔑 参数错误: 无效的API密钥\n",
      "\n",
      "测试提示词: '请介绍一下Python'\n",
      "⏰ 超时错误: 请求超时\n",
      "\n",
      "测试提示词: '写一首诗'\n",
      "🔥 其他错误: 服务器内部错误\n",
      "\n",
      "=== 2. 高级异常处理 - 重试机制 ===\n",
      "测试重试机制:\n",
      "\n",
      "--- 测试 1 ---\n",
      "🔑 参数错误，无法重试: 无效的输入参数\n",
      "\n",
      "--- 测试 2 ---\n",
      "🔄 网络错误，1秒后重试 (尝试 2/3)\n",
      "🔄 服务器错误，2秒后重试 (尝试 3/3)\n",
      "💥 服务器错误，达到最大重试次数: 服务器内部错误\n",
      "\n",
      "--- 测试 3 ---\n",
      "🔄 网络错误，1秒后重试 (尝试 2/3)\n",
      "🔄 服务器错误，2秒后重试 (尝试 3/3)\n"
     ]
    },
    {
     "name": "stderr",
     "output_type": "stream",
     "text": [
      "2025-10-09 10:14:23,647 - ERROR - API调用失败 - 提示词: '你好...', 错误: 无效的API密钥\n",
      "2025-10-09 10:14:23,649 - ERROR - API调用失败 - 提示词: '请介绍一下Python...', 错误: API调用频率过高\n",
      "2025-10-09 10:14:23,649 - ERROR - API调用失败 - 提示词: '写一首诗...', 错误: 网络连接失败\n"
     ]
    },
    {
     "name": "stdout",
     "output_type": "stream",
     "text": [
      "💥 网络错误，达到最大重试次数: 网络连接失败\n",
      "\n",
      "=== 3. 异常处理 - 数据验证 ===\n",
      "API请求验证测试:\n",
      "\n",
      "测试 1: {'prompt': '你好', 'max_tokens': 100, 'temperature': 0.7}\n",
      "✅ 验证通过\n",
      "\n",
      "测试 2: {'prompt': '', 'max_tokens': 100}\n",
      "❌ 验证失败:\n",
      "   - prompt不能为空\n",
      "\n",
      "测试 3: {'prompt': '你好', 'max_tokens': 'invalid'}\n",
      "❌ 验证失败:\n",
      "   - max_tokens必须是整数\n",
      "\n",
      "测试 4: {'prompt': '你好', 'temperature': 3.0}\n",
      "❌ 验证失败:\n",
      "   - temperature必须在0-2之间\n",
      "\n",
      "测试 5: {'prompt': '你好', 'model': 'invalid-model'}\n",
      "❌ 验证失败:\n",
      "   - model必须是以下之一: gpt-3.5-turbo, gpt-4, claude-3, gemini-pro\n",
      "\n",
      "测试 6: {'max_tokens': 100}\n",
      "❌ 验证失败:\n",
      "   - 缺少必需字段: prompt\n",
      "\n",
      "测试 7: {'prompt': 'aaaaaaaaaaaaaaaaaaaaaaaaaaaaaaaaaaaaaaaaaaaaaaaaaaaaaaaaaaaaaaaaaaaaaaaaaaaaaaaaaaaaaaaaaaaaaaaaaaaaaaaaaaaaaaaaaaaaaaaaaaaaaaaaaaaaaaaaaaaaaaaaaaaaaaaaaaaaaaaaaaaaaaaaaaaaaaaaaaaaaaaaaaaaaaaaaaaaaaaaaaaaaaaaaaaaaaaaaaaaaaaaaaaaaaaaaaaaaaaaaaaaaaaaaaaaaaaaaaaaaaaaaaaaaaaaaaaaaaaaaaaaaaaaaaaaaaaaaaaaaaaaaaaaaaaaaaaaaaaaaaaaaaaaaaaaaaaaaaaaaaaaaaaaaaaaaaaaaaaaaaaaaaaaaaaaaaaaaaaaaaaaaaaaaaaaaaaaaaaaaaaaaaaaaaaaaaaaaaaaaaaaaaaaaaaaaaaaaaaaaaaaaaaaaaaaaaaaaaaaaaaaaaaaaaaaaaaaaaaaaaaaaaaaaaaaaaaaaaaaaaaaaaaaaaaaaaaaaaaaaaaaaaaaaaaaaaaaaaaaaaaaaaaaaaaaaaaaaaaaaaaaaaaaaaaaaaaaaaaaaaaaaaaaaaaaaaaaaaaaaaaaaaaaaaaaaaaaaaaaaaaaaaaaaaaaaaaaaaaaaaaaaaaaaaaaaaaaaaaaaaaaaaaaaaaaaaaaaaaaaaaaaaaaaaaaaaaaaaaaaaaaaaaaaaaaaaaaaaaaaaaaaaaaaaaaaaaaaaaaaaaaaaaaaaaaaaaaaaaaaaaaaaaaaaaaaaaaaaaaaaaaaaaaaaaaaaaaaaaaaaaaaaaaaaaaaaaaaaaaaaaaaaaaaaaaaaaaaaaaaaaaaaaaaaaaaaaaaaaaaaaaaaaaaaaaaaaaaaaaaaaaaaaaaaaaaaaaaaaaaaaaaaaaaaaaaaaaaaaaaaaaaaaaaaaaaaaaaaaaaaaaaaaaaaaaaaaaaaaaaaaaaaaaaaaaaaaaaaaaaaaaaaaaaaaaaaaaaaaaaaaaaaaaaaaaaaaaaaaaaaaaaaaaaaaaaaaaaaaaaaaaaaaaaaaaaaaaaaaaaaaaaaaaaaaaaaaaaaaaaaaaaaaaaaaaaaaaaaaaaaaaaaaaaaaaaaaaaaaaaaaaaaaaaaaaaaaaaaaaaaaaaaaaaaaaaaaaaaaaaaaaaaaaaaaaaaaaaaaaaaaaaaaaaaaaaaaaaaaaaaaaaaaaaaaaaaaaaaaaaaaaaaaaaaaaaaaaaaaaaaaaaaaaaaaaaaaaaaaaaaaaaaaaaaaaaaaaaaaaaaaaaaaaaaaaaaaaaaaaaaaaaaaaaaaaaaaaaaaaaaaaaaaaaaaaaaaaaaaaaaaaaaaaaaaaaaaaaaaaaaaaaaaaaaaaaaaaaaaaaaaaaaaaaaaaaaaaaaaaaaaaaaaaaaaaaaaaaaaaaaaaaaaaaaaaaaaaaaaaaaaaaaaaaaaaaaaaaaaaaaaaaaaaaaaaaaaaaaaaaaaaaaaaaaaaaaaaaaaaaaaaaaaaaaaaaaaaaaaaaaaaaaaaaaaaaaaaaaaaaaaaaaaaaaaaaaaaaaaaaaaaaaaaaaaaaaaaaaaaaaaaaaaaaaaaaaaaaaaaaaaaaaaaaaaaaaaaaaaaaaaaaaaaaaaaaaaaaaaaaaaaaaaaaaaaaaaaaaaaaaaaaaaaaaaaaaaaaaaaaaaaaaaaaaaaaaaaaaaaaaaaaaaaaaaaaaaaaaaaaaaaaaaaaaaaaaaaaaaaaaaaaaaaaaaaaaaaaaaaaaaaaaaaaaaaaaaaaaaaaaaaaaaaaaaaaaaaaaaaaaaaaaaaaaaaaaaaaaaaaaaaaaaaaaaaaaaaaaaaaaaaaaaaaaaaaaaaaaaaaaaaaaaaaaaaaaaaaaaaaaaaaaaaaaaaaaaaaaaaaaaaaaaaaaaaaaaaaaaaaaaaaaaaaaaaaaaaaaaaaaaaaaaaaaaaaaaaaaaaaaaaaaaaaaaaaaaaaaaaaaaaaaaaaaaaaaaaaaaaaaaaaaaaaaaaaaaaaaaaaaaaaaaaaaaaaaaaaaaaaaaaaaaaaaaaaaaaaaaaaaaaaaaaaaaaaaaaaaaaaaaaaaaaaaaaaaaaaaaaaaaaaaaaaaaaaaaaaaaaaaaaaaaaaaaaaaaaaaaaaaaaaaaaaaaaaaaaaaaaaaaaaaaaaaaaaaaaaaaaaaaaaaaaaaaaaaaaaaaaaaaaaaaaaaaaaaaaaaaaaaaaaaaaaaaaaaaaaaaaaaaaaaaaaaaaaaaaaaaaaaaaaaaaaaaaaaaaaaaaaaaaaaaaaaaaaaaaaaaaaaaaaaaaaaaaaaaaaaaaaaaaaaaaaaaaaaaaaaaaaaaaaaaaaaaaaaaaaaaaaaaaaaaaaaaaaaaaaaaaaaaaaaaaaaaaaaaaaaaaaaaaaaaaaaaaaaaaaaaaaaaaaaaaaaaaaaaaaaaaaaaaaaaaaaaaaaaaaaaaaaaaaaaaaaaaaaaaaaaaaaaaaaaaaaaaaaaaaaaaaaaaaaaaaaaaaaaaaaaaaaaaaaaaaaaaaaaaaaaaaaaaaaaaaaaaaaaaaaaaaaaaaaaaaaaaaaaaaaaaaaaaaaaaaaaaaaaaaaaaaaaaaaaaaaaaaaaaaaaaaaaaaaaaaaaaaaaaaaaaaaaaaaaaaaaaaaaaaaaaaaaaaaaaaaaaaaaaaaaaaaaaaaaaaaaaaaaaaaaaaaaaaaaaaaaaaaaaaaaaaaaaaaaaaaaaaaaaaaaaaaaaaaaaaaaaaaaaaaaaaaaaaaaaaaaaaaaaaaaaaaaaaaaaaaaaaaaaaaaaaaaaaaaaaaaaaaaaaaaaaaaaaaaaaaaaaaaaaaaaaaaaaaaaaaaaaaaaaaaaaaaaaaaaaaaaaaaaaaaaaaaaaaaaaaaaaaaaaaaaaaaaaaaaaaaaaaaaaaaaaaaaaaaaaaaaaaaaaaaaaaaaaaaaaaaaaaaaaaaaaaaaaaaaaaaaaaaaaaaaaaaaaaaaaaaaaaaaaaaaaaaaaaaaaaaaaaaaaaaaaaaaaaaaaaaaaaaaaaaaaaaaaaaaaaaaaaaaaaaaaaaaaaaaaaaaaaaaaaaaaaaaaaaaaaaaaaaaaaaaaaaaaaaaaaaaaaaaaaaaaaaaaaaaaaaaaaaaaaaaaaaaaaaaaaaaaaaaaaaaaaaaaaaaaaaaaaaaaaaaaaaaaaaaaaaaaaaaaaaaaaaaaaaaaaaaaaaaaaaaaaaaaaaaaaaaaaaaaaaaaaaaaaaaaaaaaaaaaaaaaaaaaaaaaaaaaaaaaaaaaaaaaaaaaaaaaaaaaaaaaaaaaaaaaaaaaaaaaaaaaaaaaaaaaaaaaaaaaaaaaaaaaaaaaaaaaaaaaaaaaaaaaaaaaaaaaaaaaaaaaaaaaaaaaaaaaaaaaaaaaaaaaaaaaaaaaaaaaaaaaaaaaaaaaaaaaaaaaaaaaaaaaaaaaaaaaaaaaaaaaaaaaaaaaaaaaaaaaaaaaaaaaaaaaaaaaaaaaaaaaaaaaaaaaaaaaaaaaaaaaaaaaaaaaaaaaaaaaaaaaaaaaaaaaaaaaaaaaaaaaaaaaaaaaaaaaaaaaaaaaaaaaaaaaaaaaaaaaaaaaaaaaaaaaaaaaaaaaaaaaaaaaaaaaaaaaaaaaaaaaaaaaaaaaaaaaaaaaaaaaaaaaaaaaaaaaaaaaaaaaaaaaaaaaaaaaaaaaaaaaaaaaaaaaaaaaaaaaaaaaaaaaaaaaaaaaaaaaaaaaaaaaaaaaaaaaaaaaaaaaaaaaaaaaaaaaaaaaaaaaaaaaaaaaaaaaaaaaaaaaaaaaaaaaaaaaaaaaaaaaaaaaaaaaaaaaaaaaaaaaaaaaaaaaaaaaaaaaaaaaaaaaaaaaaaaaaaaaaaaaaaaaaaaaaaaaaaaaaaaaaaaaaaaaaaaaaaaaaaaaaaaaaaaaaaaaaaaaaaaaaaaaaaaaaaaaaaaaaaaaaaaaaaaaaaaaaaaaaaaaaaaaaaaaaaaaaaaaaaaaaaaaaaaaaaaaaaaaaaaaaaaaaaaaaaaaaaaaaaaaaaaaaaaaaaaaaaaaaaaaaaaaaaaaaaaaaaaaaaaaaaaaaaaaaaaaaaaaaaaaaaaaaaaaaaaaaaaaaaaaaaaaaaaaaaaaaaaaaaaaaaaaaaaaaaaaaaaaaaaaaaaaaaaaaaaaaaaaaaaaaaaaaaaaaaaaaaaaaaaaaaaaaaaaaaaaaaaaaaaaaaaaaaaaaaaaaaaaaaaaaaaaaaaaaaaaaaaaaaaaaaaaaaaaaaaaaaaaaaaaaaaaaaaaaaaaaaaaaaaaaaaaaaaaaaaaaaaaaaaaaaaaaaaaaaaaaaaaaaaaaaaaaaaaaaaaaaaaaaaaaaaaaaaaaaaaaaaaaaaaaaaaaaaaaaaaaaaaaaaaaaaaaaaaaaaaaaaaaaaaaaaaaaaaaaaaaaaaaaaaaaaaaaaaaaaaaaaaaaaaaaaaaaaaaaaaaaaaaaaaaaaaaaaaaaaaaaaaaaaaaaaaaaaaaaaaaaaaaaaaaaaaaaaaaaaaaaaaaaaaaaaaaaaaaaaaaaaaaaaaaaaaaaaaaaaaaaaaaaaaaaaaaaaaaaaaaaaaaaaaaaaaaaaaaaaaaaaaaaaaaaaaaaaaaaaaaaaaaaaaaaaaaaaaaaaaaaaaaaaaaaaaaaaaaaaaaaaaaaaaaaaaaaaaaaaaaaaaaaaaaaaaaaaaaaaaaaaaaaaaaaaaaaaaaaaaaaaaaaaaaaaaaaaaaaaaaaaaaaaaaaaaaaaaaaaaaaaaaaaaaaaaaaaaaaaaaaaaaaaaaaaaaaaaaaaaaaaaaaaaaaaaaaaaaaaaaaaaaaaaaaaaaaaaaaaaaaaaaaaaaaaaaaaaaaaaaaaaaaaaaaaaaaaaaaaaaaaaaaaaaaaaaaaaaaaaaaaaaaaaaaaaaaaaaaaaaaaaaaaaaaaaaaaaaaaaaaaaaaaaaaaaaaaaaaaaaaaaaaaaaaaaaaaaaaaaaaaaaaaaaaaaaaaaaaaaaaaaaaaaaaaaaaaaaaaaaaaaaaaaaaaaaaaaaaaaaaaaaaaaaaaaaaaaaaaaaaaaaaaaaaaaaaaaaaaaaaaaaaaaaaaaaaaaaaaaaaaaaaaaaaaaaaaaaaaaaaaaaaaaaaaaaaaaaaaaaaaaaaaaaaaaaaaaaaaaaaaaaaaaaaaaaaaaaaaaaaaaaaaaaaaaaaaaaaaaaaaaaaaaaaaaaaaaaaaaaaaaaaaaaaaaaaaaaaaaaaaaaaaaaaaaaaaaaaaaaaaaaaaaaaaaaaaaaaaaaaaaaaaaaaaaaaaaaaaaaaaaaaaaaaaaaaaaaaaaaaaaaaaaaaaaaaaaaaaaaaaaaaaaaaaaaaaaaaaaaaaaaaaaaaaaaaaaaaaaaaaaaaaaaaaaaaaaaaaaaaaaaaaaaaaaaaaaaaaaaaaaaaaaaaaaaaaaaaaaaaaaaaaaaaaaaaaaaaaaaaaaaaaaaaaaaaaaaaaaaaaaaaaaaaaaaaaaaaaaaaaaaaaaaaaaaaaaaaaaaaaaaaaaaaaaaaaaaaaaaaaaaaaaaaaaaaaaaaaaaaaaaaaaaaaaaaaaaaaaaaaaaaaaaaaaaaaaaaaaaaaaaaaaaaaaaaaaaaaaaaaaaaaaaaaaaaaaaaaaaaaaaaaaaaaaaaaaaaaaaaaaaaaaaaaaaaaaaaaaaaaaaaaaaaaaaaaaaaaaaaaaaaaaaaaaaaaaaaaaaaaaaaaaaaaaaaaaaaaaaaaaaaaaaaaaaaaaaaaaaaaaaaaaaaaaaaaaaaaaaaaaaaaaaaaaaaaaaaaaaaaaaaaaaaaaaaaaaaaaaaaaaaaaaaaaaaaaaaaaaaaaaaaaaaaaaaaaaaaaaaaaaaaaaaaaaaaaaaaaaaaaaaaaaaaaaaaaaaaaaaaaaaaaaaaaaaaaaaaaaaaaaaaaaaaaaaaaaaaaaaaaaaaaaaaaaaaaaaaaaaaaaaaaaaaaaaaaaaaaaaaaaaaaaaaaaaaaaaaaaaaaaaaaaaaaaaaaaaaaaaaaaaaaaaaaaaaaaaaaaaaaaaaaaaaaaaaaaaaaaaaaaaaaaaaaaaaaaaaaaaaaaaaaaaaaaaaaaaaaaaaaaaaaaaaaaaaaaaaaaaaaaaaaaaaaaaaaaaaaaaaaaaaaaaaaaaaaaaaaaaaaaaaaaaaaaaaaaaaaaaaaaaaaaaaaaaaaaaaaaaaaaaaaaaaaaaaaaaaaaaaaaaaaaaaaaaaaaaaaaaaaaaaaaaaaaaaaaaaaaaaaaaaaaaaaaaaaaaaaaaaaaaaaaaaaaaaaaaaaaaaaaaaaaaaaaaaaaaaaaaaaaaaaaaaaaaaaaaaaaaaaaaaaaaaaaaaaaaaaaaaaaaaaaaaaaaaaaaaaaaaaaaaaaaaaaaaaaaaaaaaaaaaaaaaaaaaaaaaaaaaaaaaaaaaaaaaaaaaaaaaaaaaaaaaaaaaaaaaaaaaaaaaaaaaaaaaaaaaaaaaaaaaaaaaaaaaaaaaaaaaaaaaaaaaaaaaaaaaaaaaaaaaaaaaaaaaaaaaaaaaaaaaaaaaaaaaaaaaaaaaaaaaaaaaaaaaaaaaaaaaaaaaaaaaaaaaaaaaaaaaaaaaaaaaaaaaaaaaaaaaaaaaaaaaaaaaaaaaaaaaaaaaaaaaaaaaaaaaaaaaaaaaaaaaaaaaaaaaaaaaaaaaaaaaaaaaaaaaaaaaaaaaaaaaaaaaaaaaaaaaaaaaaaaaaaaaaaaaaaaaaaaaaaaaaaaaaaaaaaaaaaaaaaaaaaaaaaaaaaaaaaaaaaaaaaaaaaaaaaaaaaaaaaaaaaaaaaaaaaaaaaaaaaaaaaaaaaaaaaaaaaaaaaaaaaaaaaaaaaaaaaaaaaaaaaaaaaaaaaaaaaaaaaaaaaaaaaaaaaaaaaaaaaaaaaaaaaaaaaaaaaaaaaaaaaaaaaaaaaaaaaaaaaaaaaaaaaaaaaaaaaaaaaaaaaaaaaaaaaaaaaaaaaaaaaaaaaaaaaaaaaaaaaaaaaaaaaaaaaaaaaaaaaaaaaaaaaaaaaaaaaaaaaaaaaaaaaaaaaaaaaaaaaaaaaaaaaaaaaaaaaaaaaaaaaaaaaaaaaaaaaaaaaaaaaaaaaaaaaaaaaaaaaaaaaaaaaaaaaaaaaaaaaaaaaaaaaaaaaaaaaaaaaaaaaaaaaaaaaaaaaaaaaaaaaaaaaaaaaaaaaaaaaaaaaaaaaaaaaaaaaaaaaaaaaaaaaaaaaaaaaaaaaaaaaaaaaaaaaaaaaaaaaaaaaaaaaaaaaaaaaaaaaaaaaaaaaaaaaaaaaaaaaaaaaaaaaaaaaaaaaaaaaaaaaaaaaaaaaaaaaaaaaaaaaaaaaaaaaaaaaaaaaaaaaaaaaaaaaaaaaaaaaaaaaaaaaaaaaaaaaaaaaaaaaaaaaaaaaaaaaaaaaaaaaaaaaaaaaaaaaaaaaaaaaaaaaaaaaaaaaaaaaaaaaaaaaaaaaaaaaaaaaaaaaaaaaaaaaaaaaaaaaaaaaaaaaaaaaaaaaaaaaaaaaaaaaaaaaaaaaaaaaaaaaaaaaaaaaaaaaaaaaaaaaaaaaaaaaaaaaaaaaaaaaaaaaaaaaaaaaaaaaaaaaaaaaaaaaaaaaaaaaaaaaaaaaaaaaaaaaaaaaaaaaaaaaaaaaaaaaaaaaaaaaaaaaaaaaaaaaaaaaaaaaaaaaaaaaaaaaaaaaaaaaaaaaaaaaaaaaaaaaaaaaaaaaaaaaaaaaaaaaaaaaaaaaaaaaaaaaaaaaaaaaaaaaaaaaaaaaaaaaaaaaaaaaaaaaaaaaaaaaaaaaaaaaaaaaaaaaaaaaaaaaaaaaaaaaaaaaaaaaaaaaaaaaaaaaaaaaaaaaaaaaaaaaaaaaaaaaaaaaaaaaaaaaaaaaaaaaaaaaaaaaaaaaaaaaaaaaaaaaaaaaaaaaaaaaaaaaaaaaaaaaaaaaaaaaaaaaaaaaaaaaaaaaaaaaaaaaaaaaaaaaaaaaaaaaaaaaaaaaaaaaaaaaaaaaaaaaaaaaaaaaaaaaaaaaaaaaaaaaaaaaaaaaaaaaaaaaaaaaaaaaaaaaaaaaaaaaaaaaaaaaaaaaaaaaaaaaaaaaaaaaaaaaaaaaaaaaaaaaaaaaaaaaaaaaaaaaaaaaaaaaaaaaaaaaaaaaaaaaaaaaaaaaaaaaaaaaaaaaaaaaaaaaaaaaaaaaaaaaaaaaaaaaaaaaaaaaaaaaaaaaaaaaaaaaaaaaaaaaaaaaaaaaaaaaaaaaaaaaaaaaaaaaaaaaaaaaaaaaaaaaaaaaaaaaaaaaaaaaaaaaaaaaaaaaaaaaaaaaaaaaaaaaaaaaaaaaaaaaaaaaaaaaaaaaaaaaaaaaaaaaaaaaaaaaaaaaaaaaaaaaaaaaaaaaaaaaaaaaaaaaaaaaaaaaaaaaaaaaaaaaaaaaaaaaaaaaaaaaaaaaaaaaaaaaaaaaaaaaaaaaaaaaaaaaaaaaaaaaaaaaaaaaaaaaaaaaaaaaaaaaaaaaaaaaaaaaaaaaaaaaaaaaaaaaaaaaaaaaaaaaaaaaaaaaaaaaaaaaaaaaaaaaaaaaaaaaaaaaaaaaaaaaaaaaaaaaaaaaaaaaaaaaaaaaaaaaaaaaaaaaaaaaaaaaaaaaaaaaaaaaaaaaaaaaaaaaaaaaaaaaaaaaaaaaaaaaaaaaaaaaaaaaaaaaaaaaaaaaaaaaaaaaaaaaaaaaaaaaaaaaaaaaaaaaaaaaaaaaaaaaaaaaaaaaaaaaaaaaaaaaaaaaaaaaaaaaaaaaaaaaaaaaaaaaaaaaaaaaaaaaaaaaaaaaaaaaaaaaaaaaaaaaaaaaaaaaaaaaaaaaaaaaaaaaaaaaaaaaaaaaaaaaaaaaaaaaaaaaaaaaaaaaaaaaaaaaaaaaaaaaaaaaaaaaaaaaaaaaaaaaaaaaaaaaaaaaaaaaaaaaaaaaaaaaaaaaaaaaaaaaaaaaaaaaaaaaaaaaaaaaaaaaaaaaaaaaaaaaaaaaaaaaaaaaaaaaaaaaaaaaaaaaaaaaaaaaaaaaaaaaaaaaaaaaaaaaaaaaaaaaaaaaaaaaaaaaaaaaaaaaaaaaaaaaaaaaaaaaaaaaaaaaaaaaaaaaaaaaaaaaaaaaaaaaaaaaaaaaaaaaaaaaaaaaaaaaaaaaaaaaaaaaaaaaaaaaaaaaaaaaaaaaaaaaaaaaaaaaaaaaaaaaaaaaaaaaaaaaaaaaaaaaaaaaaaaaaaaaaaaaaaaaaaaaaaaaaaaaaaaaaaaaaaaaaaaaaaaaaaaaaaaaaaaaaaaaaaaaaaaaaaaaaaaaaaaaaaaaaaaaaaaaaaaaaaaaaaaaaaaaaaaaaaaaaaaaaaaaaaaaaaaaaaaaaaaaaaaaaaaaaaaaaaaaaaaaaaaaaaaaaaaaaaaaaaaaaaaaaaaaaaaaaaaaaaaaaaaaaaaaaaaaaaaaaaaaaaaaaaaaaaaaaaaaaaaaaaaaaaaaaaaaaaaaaaaaaaaaaaaaaaaaaaaaaaaaaaaaaaaaaaaaaaaaaaaaaaaaaaaaaaaaaaaaaaaaaaaaaaaaaaaaaaaaaaaaaaaaaaaaaaaaaaaaaaaaaaaaaaaaaaaaaaaaaaaaaaaaaaaaaaaaaaaaaaaaaaaaaaaaaaaaaaaaaaaaaaaaaaaaaaaaaaaaaaaaaaaaaaaaaaaaaaaaaaaaaaaaaaaaaaaaaaaaaaaaaaaaaaaaaaaaaaaaaaaaaaaaaaaaaaaaaaaaaaaaaaaaaaaaaaaaaaaaaaaaaaaaaaaaaaaaaaaaaaaaaaaaaaaaaaaaaaaaaaaaaaaaaaaaaaaaaaaaaaaaaaaaaaaaaaaaaaaaaaaaaaaaaaaaaaaaaaaaaaaaaaaaaaaaaaaaaaaaaaaaaaaaaaaaaaaaaaaaaaaaaaaaaaaaaaaaaaaaaaaaaaaaaaaaaaaaaaaaaaaaaaaaaaaaaaaaaaaaaaaaaaaaaaaaaaaaaaaaaaaaaaaaaaaaaaaaaaaaaaaaaaaaaaaaaaaaaaaaaaaaaaaaaaaaaaaaaaaaaaaaaaaaaaaaaaaaaaaaaaaaaaaaaaaaaaaaaaaaaaaaaaaaaaaaaaaaaaaaaaaaaaaaaaaaaaaaaaaaaaaaaaaaaaaaaaaaaaaaaaaaaaaaaaaaaaaaaaaaaaaaaaaaaaaaaaaaaaaaaaaaaaaaaaaaaaaaaaaaaaaaaaaaaaaaaaaaaaaaaaaaaaaaaaaaaaaaaaaaaaaaaaaaaaaaaaaaaaaaaaaaaaaaaaaaaaaaaaaaaaaaaaaaaaaaaaaaaaaaaaaaaaaaaaaaaaaaaaaaaaaaaaaaaaaaaaaaaaaaaaaaaaaaaaaaaaaaaaaaaaaaaaaaaaaaaaaaaaaaaaaaaaaaaaaaaaaaaaaaaaaaaaaaaaaaaaaaaaaaaaaaaaaaaaaaaaaaaaaaaaaaaaaaaaaaaaaaaaaaaaaaaaaaaaaaaaaaaaaaaaaaaaaaaaaaaaaaaaaaaaaaaaaaaaaaaaaaaaaaaaaaaaaaaaaaaaaaaaaaaaaaaaaaaaaaaaaaaaaaaaaaaaaaaaaaaaaaaaaaaaaaaaaaaaaaaaaaaaaaaaaaaaaaaaaaaaaaaaaaaaaaaaaaaaaaaaaaaaaaaaaaaaaaaaaaaaaaaaaaaaaaaaaaaaaaaaaaaaaaaaaaaaaaaaaaaaaaaaaaaaaaaaaaaaaaaaaaaaaaaaaaaaaaaaaaaaaaaaaaaaaaaaaaaaaaaaaaaaaaaaaaaaaaaaaaaaaaaaaaaaaaaaaaaaaaaaaaaaaaaaaaaaaaaaaaaaaaaaaaaaaaaaaaaaaaaaaaaaaaaaaaaaaaaaaaaaaaaaaaaaaaaaaaaaaaaaaaaaaaaaaaaaaaaaaaaaaaaaaaaaaaaaaaaaaaaaaaaaaaaaaaaaaaaaaaaaaaaaaaaaaaaaaaaaaaaaaaaaaaaaaaaaaaaaaaaaaaaaaaaaaaaaaaaaaaaaaaaaaaaaaaaaaaaaaaaaaaaaaaaaaaaaaaaaaaaaaaaaaaaaaaaaaaaaaaaaaaaaaaaaaaaaaaaaaaaaaaaaaaaaaaaaaaaaaaaaaaaaaaaaaaaaaaaaaaaaaaaaaaaaaaaaaaaaaaaaaaaaaaaaaaaaaaaaaaaaaaaaaaaaaaaaaaaaaaaaaaaaaaaaaaaaaaaaaaaaaaaaaaaaaaaaaaaaaaaaaaaaaaaaaaaaaaaaaaaaaaaaaaaaaaaaaaaaaaaaaaaaaaaaaaaaaaaaaaaaaaaaaaaaaaaaaaaaaaaaaaaaaaaaaaaaaaaaaaaaaaaaaaaaaaaaaaaaaaaaaaaaaaaaaaaaaaaaaaaaaaaaaaaaaaaaaaaaaaaaaaaaaaaaaaaaaaaaaaaaaaaaaaaaaaaaaaaaaaaaaaaaaaaaaaaaaaaaaaaaaaaaaaaaaaaaaaaaaaaaaaaaaaaaaaaaaaaaaaaaaaaaaaaaaaaaaaaaaaaaaaaaaaaaaaaaaaaaaaaaaaaaaaaaaaaaaaaaaaaaaaaaaaaaaaaaaaaaaaaaaaaaaaaaaaaaaaaaaaaaaaaaaaaaaaaaaaaaaaaaaaaaaaaaaaaaaaaaaaaaaaaaaaaaaaaaaaaaaaaaaaaaaaaaaaaaaaaaaaaaaaaaaaaaaaaaaaaaaaaaaaaaaaaaaaaaaaaaaaaaaaaaaaaaaaaaaaaaaaaaaaaaaaaaaaaaaaaaaaaaaaaaaaaaaaaaaaaaaaaaaaaaaaaaaaaaaaaaaaaaaaaaaaaaaaaaaaaaaaaaaaaaaaaaaaaaaaaaaaaaaaaaaaaaaaaaaaaaaaaaaaaaaaaaaaaaaaaaaaaaaaaaaaaaaaaaaaaaaaaaaaaaaaaaaaaaaaaaaaaaaaaaaaaaaaaaaaaaaaaaaaaaaaaaaaaaaaaaaaaaaaaaaaaaaaaaaaaaaaaaaaaaaaaaaaaaaaaaaaaaaaaaaaaaaaaaaaaaaaaaaaaaaaaaaaaaaaaaaaaaaaaaaaaaaaaaaaaaaaaaaaaaaaaaaaaaaaaaaaaaaaaaaaaaaaaaaaaaaaaaaaaaaaaaaaaaaaaaaaaaaaaaaaaaaaaaaaaaaaaaaaaaaaaaaaaaaaaaaaaaaaaaaaaaaaaaaaaaaaaaaaaaaaaaaaaaaaaaaaaaaaaaaaaaaaaaaaaaaaaaaaaaaaaaaaaaaaaaaaaaaaaaaaaaaaaaaaaaaaaaaaaaaaaaaaaaaaaaaaaaaaaaaaaaaaaaaaaaaaaaaaaaaaaaaaaaaaaaaaaaaaaaaaaaaaaaaaaaaaaaaaaaaaaaaaaaaaaaaaaaaaaaaaaaaaaaaaaaaaaaaaaaaaaaaaaaaaaaaaaaaaaaaaaaaaaaaaaaaaaaaaaaaaaaaaaaaaaaaaaaaaaaaaaaaaaaaaaaaaaaaaaaaaaaaaaaaaaaaaaaaaaaaaaaaaaaaaaaaaaaaaaaaaaaaaaaaaaaaaaaaaaaaaaaaaaaaaaaaaaaaaaaaaaaaaaaaaaaaaaaaaaaaaaaaaaaaaaaaaaaaaaaaaaaaaaaaaaaaaaaaaaaaaaaaaaaaaaaaaaaaaaaaaaaaaaaaaaaaaaaaaaaaaaaaaaaaaaaaaaaaaaaaaaaaaaaaaaaaaaaaaaaaaaaaaaaaaaaaaaaaaaaaaaaaaaaaaaaaaaaaaaaaaaaaaaaaaaaaaaaaaaaaaaaaaaaaaaaaaaaaaaaaaaaaaaaaaaaaaaaaaaaaaaaaaaaaaaaaaaaaaaaaaaaaaaaaaaaaaaaaaaaaaaaaaaaaaaaaaaaaaaaaaaaaaaaaaaaaaaaaaaaaaaaaaaaaaaaaaaaaaaaaaaaaaaaaaaaaaaaaaaaaaaaaaaaaaaaaaaaaaaaaaaaaaaaaaaaaaaaaaaaaaaaaaaaaaaaaaaaaaaaaaaaaaaaaaaaaaaaaaaaaaaaaaaaaaaaaaaaaaaaaaaaaaaaaaaaaaaaaaaaaaaaaaaaaaaaaaaaaaaaaaaaaaaaaaaaaaaaaaaaaaaaaaaaaaaaaaaaaaaaaaaaaaaaaaaaaaaaaaaaaaaaaaaaaaaaaaaaaaaaaaaaaaaaaaaaaaaaaaaaaaaaaaaaaaaaaaaaaaaaaaaaaaaaaaaaaaaaaaaaaaaaaaaaaaaaaaaaaaaaaaaaaaaaaaaaaaaaaaaaaaaaaaaaaaaaaaaaaaaaaaaaaaaaaaaaaaaaaaaaaaaaaaaaaaaaaaaaaaaaaaaaaaaaaaaaaaaaaaaaaaaaaaaaaaaaaaaaaaaaaaaaaaaaaaaaaaaaaaaaaaaaaaaaaaaaaaaaaaaaaaaaaaaaaaaaaaaaaaaaaaaaaaaaaaaaaaaaaaaaaaaaaaaaaaaaaaaaaaaaaaaaaaaaaaaaaaaaaaaaaaaaaaaaaaaaaaaaaaaaaaaaaaaaaaaaaaaaaaaaaaaaaaaaaaaaaaaaaaaaaaaaaaaaaaaaaaaaaaaaaaaaaaaaaaaaaaaaaaaaaaaaaaaaaaaaaaaaaaaaaaaaaaaaaaaaaaaaaaaaaaaaaaaaaaaaaaaaaaaaaaaaaaaaaaaaaaaaaaaaaaaaaaaaaaaaaaaaaaaaaaaaaaaaaaaaaaaaaaaaaaaaaaaaaaaaaaaaaaaaaaaaaaaaaaaaaaaaaaaaaaaaaaaaaaaaaaaaaaaaaaaaaaaaaaaaaaaaaaaaaaaaaaaaaaaaaaaaaaaaaaaaaaaaaaaaaaaaaaaaaaaaaaaaaaaaaaaaaaaaaaaaaaaaaaaaaaaaaaaaaaaaaaaaaaaaaaaaaaaaaaaaaaaaaaaaaaaaaaaaaaaaaaaaaaaaaaaaaaaaaaaaaaaaaaaaaaaaaaaaaaaaaaaaaaaaaaaaaaaaaaaaaaaaaaaaaaaaaaaaaaaaaaaaaaaaaaaaaaaaaaaaaaaaaaaaaaaaaaaaaaaaaaaaaaaaaaaaaaaaaaaaaaaaaaaaaaaaaaaaaaaaaaaaaaaaaaaaaaaaaaaaaaaaaaaaaaaaaaaaaaaaaaaaaaaaaaaaaaaaaaaaaaaaaaaaaaaaaaaaaaaaaaaaaaaaaaaaaaaaaaaaaaaaaaaaaaaaaaaaaaaaaaaaaaaaaaaaaaaaaaaaaaaaaaaaaaaaaaaaaaaaaaaaaaaaaaaaaaaaaaaaaaaaaaaaaaaaaaaaaaaaaaaaaaaaaaaaaaaaaaaaaaaaaaaaaaaaaaaaaaaaaaaaaaaaaaaaaaaaaaaaaaaaaaaaaaaaaaaaaaaaaaaaaaaaaaaaaaaaaaaaaaaaaaaaaaaaaaaaaaaaaaaaaaaaaaaaaaaaaaaaaaaaaaaaaaaaaaaaaaaaaaaaaaaaaaaaaaaaaaaaaaaaaaaaaaaaaaaaaaaaaaaaaaaaaaaaaaaaaaaaaaaaaaaaaaaaaaaaaaaaaaaaaaaaaaaaaaaaaaaaaaaaaaaaaaaaaaaaaaaaaaaaaaaaaaaaaaaaaaaaaaaaaaaaaaaaaaaaaaaaaaaaaaaaaaaaaaaaaaaaaaaaaaaaaaaaaaaaaaaaaaaaaaaaaaaaaaaaaaaaaaaaaaaaaaaaaaaaaaaaaaaaaaaaaaaaaaaaaaaaaaaaaaaaaaaaaaaaaaaaaaaaaaaaaaaaaaaaaaaaaaaaaaaaaaaaaaaaaaaaaaaaaaaaaaaaaaaaaaaaaaaaaaaaaaaaaaaaaaaaaaaaaaaaaaaaaaaaaaaaaaaaaaaaaaaaaaaaaaaaaaaaaaaaaaaaaaaaaaaaaaaaaaaaaaaaaaaaaaaaaaaaaaaaaaaaaaaaaaaaaaaaaaaaaaaaaaaaaaaaaaaaaaaaaaaaaaaaaaaaaaaaaaaaaaaaaaaaaaaaaaaaaaaaaaaaaaaaaaaaaaaaaaaaaaaaaaaaaaaaaaaaaaaaaaaaaaaaaaaaaaaaaaaaaaaaaaaaaaaaaaaa'}\n",
      "❌ 验证失败:\n",
      "   - prompt长度不能超过10000字符\n",
      "\n",
      "=== 4. 异常处理 - 资源管理 ===\n",
      "使用上下文管理器进行API调用:\n",
      "🔗 API连接已建立\n",
      "❌ 请求 1 失败: API调用频率过高\n",
      "❌ 请求 2 失败: 网络连接失败\n",
      "❌ 请求 3 失败: 请求超时\n",
      "🔌 API连接已断开\n",
      "\n",
      "=== 5. 异常处理 - 日志记录 ===\n",
      "测试日志记录:\n",
      "\n",
      "=== 6. 自定义异常类 ===\n",
      "测试自定义异常:\n",
      "🔥 API错误: 服务器内部错误 (错误码: SERVER_ERROR)\n",
      "⏰ 频率限制: API调用频率过高 (重试时间: 60秒)\n",
      "⏰ 频率限制: API调用频率过高 (重试时间: 60秒)\n",
      "⏰ 频率限制: API调用频率过高 (重试时间: 60秒)\n",
      "✅ 调用成功: AI回复: 测试...\n",
      "\n",
      "异常处理在大模型开发中的重要性:\n",
      "1. 提高系统稳定性和可靠性\n",
      "2. 提供更好的用户体验\n",
      "3. 便于问题诊断和调试\n",
      "4. 实现优雅的错误恢复\n",
      "5. 保护系统资源\n"
     ]
    }
   ],
   "source": [
    "# 大模型开发中的异常处理示例\n",
    "\n",
    "print(\"=== 1. 基本异常处理 - API调用 ===\")\n",
    "\n",
    "def call_llm_api(prompt, model=\"gpt-3.5-turbo\"):\n",
    "    \"\"\"模拟LLM API调用，可能抛出各种异常\"\"\"\n",
    "    import random\n",
    "\n",
    "    # 模拟不同的异常情况\n",
    "    error_type = random.choice([\n",
    "        \"success\", \"connection_error\", \"timeout\", \"rate_limit\",\n",
    "        \"invalid_key\", \"server_error\", \"value_error\"\n",
    "    ])\n",
    "\n",
    "    if error_type == \"success\":\n",
    "        return {\"content\": f\"AI回复: {prompt[:20]}...\", \"tokens\": 50}\n",
    "    elif error_type == \"connection_error\":\n",
    "        raise ConnectionError(\"网络连接失败\")\n",
    "    elif error_type == \"timeout\":\n",
    "        raise TimeoutError(\"请求超时\")\n",
    "    elif error_type == \"rate_limit\":\n",
    "        raise Exception(\"API调用频率过高\")\n",
    "    elif error_type == \"invalid_key\":\n",
    "        raise ValueError(\"无效的API密钥\")\n",
    "    elif error_type == \"server_error\":\n",
    "        raise Exception(\"服务器内部错误\")\n",
    "    elif error_type == \"value_error\":\n",
    "        raise ValueError(\"无效的输入参数\")\n",
    "\n",
    "# 基本异常处理\n",
    "def safe_api_call(prompt):\n",
    "    \"\"\"安全的API调用，包含基本异常处理\"\"\"\n",
    "    try:\n",
    "        result = call_llm_api(prompt)\n",
    "        print(f\"✅ API调用成功: {result['content']}\")\n",
    "        return result\n",
    "    except ConnectionError as e:\n",
    "        print(f\"❌ 连接错误: {e}\")\n",
    "        return None\n",
    "    except TimeoutError as e:\n",
    "        print(f\"⏰ 超时错误: {e}\")\n",
    "        return None\n",
    "    except ValueError as e:\n",
    "        print(f\"🔑 参数错误: {e}\")\n",
    "        return None\n",
    "    except Exception as e:\n",
    "        print(f\"🔥 其他错误: {e}\")\n",
    "        return None\n",
    "\n",
    "# 测试基本异常处理\n",
    "test_prompts = [\"你好\", \"请介绍一下Python\", \"写一首诗\"]\n",
    "for prompt in test_prompts:\n",
    "    print(f\"\\n测试提示词: '{prompt}'\")\n",
    "    result = safe_api_call(prompt)\n",
    "    if result:\n",
    "        print(f\"Token使用量: {result['tokens']}\")\n",
    "\n",
    "print(\"\\n=== 2. 高级异常处理 - 重试机制 ===\")\n",
    "\n",
    "import time\n",
    "import random\n",
    "\n",
    "def call_llm_api_with_retry(prompt, max_retries=3, base_delay=1):\n",
    "    \"\"\"带重试机制的API调用\"\"\"\n",
    "    retry_count = 0\n",
    "    delay = base_delay\n",
    "\n",
    "    while retry_count < max_retries:\n",
    "        try:\n",
    "            result = call_llm_api(prompt)\n",
    "            print(f\"✅ API调用成功 (尝试 {retry_count + 1})\")\n",
    "            return result\n",
    "\n",
    "        except (ConnectionError, TimeoutError) as e:\n",
    "            retry_count += 1\n",
    "            if retry_count < max_retries:\n",
    "                print(f\"🔄 网络错误，{delay}秒后重试 (尝试 {retry_count + 1}/{max_retries})\")\n",
    "                time.sleep(delay)\n",
    "                delay *= 2  # 指数退避\n",
    "            else:\n",
    "                print(f\"💥 网络错误，达到最大重试次数: {e}\")\n",
    "                return None\n",
    "\n",
    "        except ValueError as e:\n",
    "            print(f\"🔑 参数错误，无法重试: {e}\")\n",
    "            return None\n",
    "\n",
    "        except Exception as e:\n",
    "            retry_count += 1\n",
    "            if retry_count < max_retries:\n",
    "                print(f\"🔄 服务器错误，{delay}秒后重试 (尝试 {retry_count + 1}/{max_retries})\")\n",
    "                time.sleep(delay)\n",
    "                delay *= 2\n",
    "            else:\n",
    "                print(f\"💥 服务器错误，达到最大重试次数: {e}\")\n",
    "                return None\n",
    "\n",
    "    return None\n",
    "\n",
    "# 测试重试机制\n",
    "print(\"测试重试机制:\")\n",
    "for i in range(3):\n",
    "    print(f\"\\n--- 测试 {i+1} ---\")\n",
    "    result = call_llm_api_with_retry(\"请介绍一下机器学习\")\n",
    "\n",
    "print(\"\\n=== 3. 异常处理 - 数据验证 ===\")\n",
    "\n",
    "def validate_api_request(request_data):\n",
    "    \"\"\"验证API请求数据\"\"\"\n",
    "    errors = []\n",
    "\n",
    "    try:\n",
    "        # 检查必需字段\n",
    "        if \"prompt\" not in request_data:\n",
    "            errors.append(\"缺少必需字段: prompt\")\n",
    "        elif not isinstance(request_data[\"prompt\"], str):\n",
    "            errors.append(\"prompt必须是字符串\")\n",
    "        elif len(request_data[\"prompt\"]) == 0:\n",
    "            errors.append(\"prompt不能为空\")\n",
    "        elif len(request_data[\"prompt\"]) > 10000:\n",
    "            errors.append(\"prompt长度不能超过10000字符\")\n",
    "\n",
    "        # 检查可选字段\n",
    "        if \"max_tokens\" in request_data:\n",
    "            try:\n",
    "                max_tokens = int(request_data[\"max_tokens\"])\n",
    "                if max_tokens <= 0:\n",
    "                    errors.append(\"max_tokens必须大于0\")\n",
    "                elif max_tokens > 4000:\n",
    "                    errors.append(\"max_tokens不能超过4000\")\n",
    "            except (ValueError, TypeError):\n",
    "                errors.append(\"max_tokens必须是整数\")\n",
    "\n",
    "        if \"temperature\" in request_data:\n",
    "            try:\n",
    "                temperature = float(request_data[\"temperature\"])\n",
    "                if temperature < 0 or temperature > 2:\n",
    "                    errors.append(\"temperature必须在0-2之间\")\n",
    "            except (ValueError, TypeError):\n",
    "                errors.append(\"temperature必须是数字\")\n",
    "\n",
    "        if \"model\" in request_data:\n",
    "            valid_models = [\"gpt-3.5-turbo\", \"gpt-4\", \"claude-3\", \"gemini-pro\"]\n",
    "            if request_data[\"model\"] not in valid_models:\n",
    "                errors.append(f\"model必须是以下之一: {', '.join(valid_models)}\")\n",
    "\n",
    "    except Exception as e:\n",
    "        errors.append(f\"验证过程中发生错误: {e}\")\n",
    "\n",
    "    return len(errors) == 0, errors\n",
    "\n",
    "# 测试数据验证\n",
    "test_requests = [\n",
    "    {\"prompt\": \"你好\", \"max_tokens\": 100, \"temperature\": 0.7},\n",
    "    {\"prompt\": \"\", \"max_tokens\": 100},  # 空提示词\n",
    "    {\"prompt\": \"你好\", \"max_tokens\": \"invalid\"},  # 无效的max_tokens\n",
    "    {\"prompt\": \"你好\", \"temperature\": 3.0},  # 无效的temperature\n",
    "    {\"prompt\": \"你好\", \"model\": \"invalid-model\"},  # 无效的模型\n",
    "    {\"max_tokens\": 100},  # 缺少prompt\n",
    "    {\"prompt\": \"a\" * 15000}  # 过长的prompt\n",
    "]\n",
    "\n",
    "print(\"API请求验证测试:\")\n",
    "for i, request in enumerate(test_requests, 1):\n",
    "    print(f\"\\n测试 {i}: {request}\")\n",
    "    is_valid, errors = validate_api_request(request)\n",
    "    if is_valid:\n",
    "        print(\"✅ 验证通过\")\n",
    "    else:\n",
    "        print(\"❌ 验证失败:\")\n",
    "        for error in errors:\n",
    "            print(f\"   - {error}\")\n",
    "\n",
    "print(\"\\n=== 4. 异常处理 - 资源管理 ===\")\n",
    "\n",
    "class APIClient:\n",
    "    \"\"\"API客户端，演示资源管理\"\"\"\n",
    "\n",
    "    def __init__(self, api_key):\n",
    "        self.api_key = api_key\n",
    "        self.connection_open = False\n",
    "        self.request_count = 0\n",
    "\n",
    "    def connect(self):\n",
    "        \"\"\"建立连接\"\"\"\n",
    "        if not self.api_key:\n",
    "            raise ValueError(\"API密钥不能为空\")\n",
    "        self.connection_open = True\n",
    "        print(\"🔗 API连接已建立\")\n",
    "\n",
    "    def disconnect(self):\n",
    "        \"\"\"断开连接\"\"\"\n",
    "        self.connection_open = False\n",
    "        print(\"🔌 API连接已断开\")\n",
    "\n",
    "    def make_request(self, prompt):\n",
    "        \"\"\"发送请求\"\"\"\n",
    "        if not self.connection_open:\n",
    "            raise ConnectionError(\"API未连接\")\n",
    "\n",
    "        self.request_count += 1\n",
    "        if self.request_count > 5:  # 模拟连接限制\n",
    "            raise Exception(\"请求次数超限\")\n",
    "\n",
    "        return call_llm_api(prompt)\n",
    "\n",
    "    def __enter__(self):\n",
    "        \"\"\"上下文管理器入口\"\"\"\n",
    "        self.connect()\n",
    "        return self\n",
    "\n",
    "    def __exit__(self, exc_type, exc_val, exc_tb):\n",
    "        \"\"\"上下文管理器出口\"\"\"\n",
    "        self.disconnect()\n",
    "        if exc_type:\n",
    "            print(f\"⚠️ 发生异常: {exc_type.__name__}: {exc_val}\")\n",
    "        return False  # 不抑制异常\n",
    "\n",
    "# 使用上下文管理器\n",
    "print(\"使用上下文管理器进行API调用:\")\n",
    "try:\n",
    "    with APIClient(\"your-api-key\") as client:\n",
    "        for i in range(3):\n",
    "            try:\n",
    "                result = client.make_request(f\"测试请求 {i+1}\")\n",
    "                print(f\"✅ 请求 {i+1} 成功: {result['content']}\")\n",
    "            except Exception as e:\n",
    "                print(f\"❌ 请求 {i+1} 失败: {e}\")\n",
    "except Exception as e:\n",
    "    print(f\"🔥 客户端错误: {e}\")\n",
    "\n",
    "print(\"\\n=== 5. 异常处理 - 日志记录 ===\")\n",
    "\n",
    "import logging\n",
    "from datetime import datetime\n",
    "\n",
    "# 配置日志\n",
    "logging.basicConfig(\n",
    "    level=logging.INFO,\n",
    "    format='%(asctime)s - %(levelname)s - %(message)s',\n",
    "    handlers=[\n",
    "        logging.FileHandler('api_errors.log'),\n",
    "        logging.StreamHandler()\n",
    "    ]\n",
    ")\n",
    "\n",
    "def log_api_call(prompt, success, error=None, tokens=0):\n",
    "    \"\"\"记录API调用日志\"\"\"\n",
    "    if success:\n",
    "        logging.info(f\"API调用成功 - 提示词: '{prompt[:50]}...', tokens: {tokens}\")\n",
    "    else:\n",
    "        logging.error(f\"API调用失败 - 提示词: '{prompt[:50]}...', 错误: {error}\")\n",
    "\n",
    "def monitored_api_call(prompt):\n",
    "    \"\"\"带监控的API调用\"\"\"\n",
    "    try:\n",
    "        result = call_llm_api(prompt)\n",
    "        log_api_call(prompt, True, tokens=result.get('tokens', 0))\n",
    "        return result\n",
    "    except Exception as e:\n",
    "        log_api_call(prompt, False, error=str(e))\n",
    "        return None\n",
    "\n",
    "# 测试日志记录\n",
    "print(\"测试日志记录:\")\n",
    "test_prompts = [\"你好\", \"请介绍一下Python\", \"写一首诗\"]\n",
    "for prompt in test_prompts:\n",
    "    result = monitored_api_call(prompt)\n",
    "\n",
    "print(\"\\n=== 6. 自定义异常类 ===\")\n",
    "\n",
    "class LLMAPIError(Exception):\n",
    "    \"\"\"LLM API基础异常\"\"\"\n",
    "    def __init__(self, message, error_code=None):\n",
    "        super().__init__(message)\n",
    "        self.error_code = error_code\n",
    "        self.timestamp = datetime.now()\n",
    "\n",
    "class RateLimitError(LLMAPIError):\n",
    "    \"\"\"频率限制异常\"\"\"\n",
    "    def __init__(self, message=\"API调用频率过高\", retry_after=None):\n",
    "        super().__init__(message, \"RATE_LIMIT\")\n",
    "        self.retry_after = retry_after\n",
    "\n",
    "class AuthenticationError(LLMAPIError):\n",
    "    \"\"\"认证异常\"\"\"\n",
    "    def __init__(self, message=\"API密钥无效\"):\n",
    "        super().__init__(message, \"AUTH_ERROR\")\n",
    "\n",
    "class ModelNotFoundError(LLMAPIError):\n",
    "    \"\"\"模型不存在异常\"\"\"\n",
    "    def __init__(self, model_name, message=None):\n",
    "        if message is None:\n",
    "            message = f\"模型 '{model_name}' 不存在\"\n",
    "        super().__init__(message, \"MODEL_NOT_FOUND\")\n",
    "        self.model_name = model_name\n",
    "\n",
    "def call_llm_with_custom_exceptions(prompt, model=\"gpt-3.5-turbo\"):\n",
    "    \"\"\"使用自定义异常的API调用\"\"\"\n",
    "    import random\n",
    "\n",
    "    error_type = random.choice([\n",
    "        \"success\", \"rate_limit\", \"auth_error\", \"model_not_found\", \"server_error\"\n",
    "    ])\n",
    "\n",
    "    if error_type == \"success\":\n",
    "        return {\"content\": f\"AI回复: {prompt[:20]}...\", \"tokens\": 50}\n",
    "    elif error_type == \"rate_limit\":\n",
    "        raise RateLimitError(retry_after=60)\n",
    "    elif error_type == \"auth_error\":\n",
    "        raise AuthenticationError()\n",
    "    elif error_type == \"model_not_found\":\n",
    "        raise ModelNotFoundError(model)\n",
    "    else:\n",
    "        raise LLMAPIError(\"服务器内部错误\", \"SERVER_ERROR\")\n",
    "\n",
    "# 测试自定义异常\n",
    "print(\"测试自定义异常:\")\n",
    "for i in range(5):\n",
    "    try:\n",
    "        result = call_llm_with_custom_exceptions(\"测试\")\n",
    "        print(f\"✅ 调用成功: {result['content']}\")\n",
    "    except RateLimitError as e:\n",
    "        print(f\"⏰ 频率限制: {e} (重试时间: {e.retry_after}秒)\")\n",
    "    except AuthenticationError as e:\n",
    "        print(f\"🔑 认证错误: {e}\")\n",
    "    except ModelNotFoundError as e:\n",
    "        print(f\"🤖 模型错误: {e} (模型: {e.model_name})\")\n",
    "    except LLMAPIError as e:\n",
    "        print(f\"🔥 API错误: {e} (错误码: {e.error_code})\")\n",
    "    except Exception as e:\n",
    "        print(f\"❓ 未知错误: {e}\")\n",
    "\n",
    "print(f\"\\n异常处理在大模型开发中的重要性:\")\n",
    "print(\"1. 提高系统稳定性和可靠性\")\n",
    "print(\"2. 提供更好的用户体验\")\n",
    "print(\"3. 便于问题诊断和调试\")\n",
    "print(\"4. 实现优雅的错误恢复\")\n",
    "print(\"5. 保护系统资源\")\n"
   ]
  },
  {
   "cell_type": "markdown",
   "metadata": {
    "deletable": true,
    "editable": true,
    "id": "mRuC_9CoU28P"
   },
   "source": [
    "## 类：创建你自己的对象\n",
    "\n",
    "> **核心概念**：面向对象编程是大模型应用架构设计的基础，用于创建可重用的组件、封装复杂逻辑、构建模块化系统。\n",
    "\n",
    "类是Python中面向对象编程的基础。在大模型开发中，使用类可以创建可重用的组件，如API客户端、数据处理器、模型包装器等。\n",
    "\n",
    "### 基本类定义\n",
    "```python\n",
    "class ClassName:\n",
    "    def __init__(self, parameter1, parameter2):\n",
    "        self.attribute1 = parameter1\n",
    "        self.attribute2 = parameter2\n",
    "    \n",
    "    def method1(self):\n",
    "        # 方法实现\n",
    "        pass\n",
    "```\n",
    "\n",
    "### 面向对象编程的核心概念\n",
    "- **封装**：将数据和方法组织在一起\n",
    "- **继承**：创建基于现有类的新类\n",
    "- **多态**：同一接口的不同实现\n",
    "- **抽象**：隐藏实现细节，只暴露必要接口\n",
    "\n",
    "### 大模型开发中的应用场景\n",
    "- **API客户端类**：封装大模型API调用逻辑\n",
    "- **数据处理类**：处理文本、JSON等数据\n",
    "- **模型包装类**：统一不同模型的接口\n",
    "- **配置管理类**：管理应用配置和参数\n",
    "- **工具类**：提供通用的辅助功能"
   ]
  },
  {
   "cell_type": "code",
   "execution_count": 85,
   "metadata": {
    "deletable": true,
    "editable": true,
    "id": "IZ_oJu43U28P"
   },
   "outputs": [],
   "source": [
    "# Define a new class called `Thing` that is derived from the base Python object\n",
    "class Thing(object):\n",
    "    my_property = 'I am a \"Thing\"'\n",
    "\n",
    "\n",
    "# Define a new class called `DictThing` that is derived from the `dict` type\n",
    "class DictThing(dict):\n",
    "    my_property = 'I am a \"DictThing\"'"
   ]
  },
  {
   "cell_type": "code",
   "execution_count": 86,
   "metadata": {
    "colab": {
     "base_uri": "https://localhost:8080/"
    },
    "deletable": true,
    "editable": true,
    "id": "Q7nVDnDJU28Q",
    "outputId": "6a1ab9f6-646f-46b3-ad3a-7e1ada297de8"
   },
   "outputs": [
    {
     "name": "stdout",
     "output_type": "stream",
     "text": [
      "<class '__main__.Thing'>\n",
      "<class 'type'>\n",
      "<class '__main__.DictThing'>\n",
      "<class 'type'>\n",
      "True\n",
      "True\n"
     ]
    }
   ],
   "source": [
    "print(Thing)\n",
    "print(type(Thing))\n",
    "print(DictThing)\n",
    "print(type(DictThing))\n",
    "print(issubclass(DictThing, dict))\n",
    "print(issubclass(DictThing, object))"
   ]
  },
  {
   "cell_type": "code",
   "execution_count": 87,
   "metadata": {
    "colab": {
     "base_uri": "https://localhost:8080/"
    },
    "deletable": true,
    "editable": true,
    "id": "J42GL9LzU28R",
    "outputId": "a6b48d4c-6d0b-4e7b-f021-61afd140419b"
   },
   "outputs": [
    {
     "name": "stdout",
     "output_type": "stream",
     "text": [
      "<__main__.Thing object at 0x7fe15c00ffd0>\n",
      "<class '__main__.Thing'>\n",
      "{}\n",
      "<class '__main__.DictThing'>\n"
     ]
    }
   ],
   "source": [
    "# Create \"instances\" of our new classes\n",
    "t = Thing()\n",
    "d = DictThing()\n",
    "print(t)\n",
    "print(type(t))\n",
    "print(d)\n",
    "print(type(d))"
   ]
  },
  {
   "cell_type": "code",
   "execution_count": 88,
   "metadata": {
    "colab": {
     "base_uri": "https://localhost:8080/"
    },
    "deletable": true,
    "editable": true,
    "id": "FONf3-PDU28S",
    "outputId": "cb9852de-e804-4901-c5d1-b1e459b27339"
   },
   "outputs": [
    {
     "name": "stdout",
     "output_type": "stream",
     "text": [
      "{'name': 'Sally'}\n"
     ]
    }
   ],
   "source": [
    "# Interact with a DictThing instance just as you would a normal dictionary\n",
    "d['name'] = 'Sally'\n",
    "print(d)"
   ]
  },
  {
   "cell_type": "code",
   "execution_count": 89,
   "metadata": {
    "colab": {
     "base_uri": "https://localhost:8080/"
    },
    "deletable": true,
    "editable": true,
    "id": "xN0nOhJEU28T",
    "outputId": "d38d0aa2-b3d5-45a3-b2f4-c272c416eb4b"
   },
   "outputs": [
    {
     "name": "stdout",
     "output_type": "stream",
     "text": [
      "{'name': 'Sally', 'age': 13, 'fav_foods': ['pizza', 'sushi', 'pad thai', 'waffles'], 'fav_color': 'green'}\n"
     ]
    }
   ],
   "source": [
    "d.update({\n",
    "        'age': 13,\n",
    "        'fav_foods': ['pizza', 'sushi', 'pad thai', 'waffles'],\n",
    "        'fav_color': 'green',\n",
    "    })\n",
    "print(d)"
   ]
  },
  {
   "cell_type": "code",
   "execution_count": 90,
   "metadata": {
    "colab": {
     "base_uri": "https://localhost:8080/"
    },
    "deletable": true,
    "editable": true,
    "id": "UldXgWrdU28U",
    "outputId": "0242f2cc-29dd-4e3a-e11c-cc1b7d8cb987"
   },
   "outputs": [
    {
     "name": "stdout",
     "output_type": "stream",
     "text": [
      "I am a \"DictThing\"\n"
     ]
    }
   ],
   "source": [
    "print(d.my_property)"
   ]
  },
  {
   "cell_type": "markdown",
   "metadata": {
    "id": "_ZuLEQKMU27e"
   },
   "source": [
    "## 大模型技术中的Python基础知识\n",
    "\n",
    "> **学习目标**：掌握大模型开发中必需的Python技能，包括数据处理、API调用、文本处理等核心概念。\n",
    "\n",
    "在大模型（LLM）开发中，Python是最主要的编程语言。以下是一些与大模型技术密切相关的Python概念：\n",
    "\n",
    "### 1. 数据处理和科学计算\n",
    "- **NumPy**: 数值计算库，用于处理多维数组和张量运算\n",
    "- **Pandas**: 数据分析库，用于处理结构化数据和CSV文件\n",
    "- **JSON**: 处理API响应和配置文件，大模型API的主要数据格式\n",
    "\n",
    "### 2. 机器学习和深度学习\n",
    "- **PyTorch/TensorFlow**: 深度学习框架，用于模型训练和推理\n",
    "- **Transformers**: Hugging Face的预训练模型库，提供各种预训练模型\n",
    "- **NumPy**: 张量操作的基础，所有深度学习框架的底层\n",
    "\n",
    "### 3. 文本处理\n",
    "- **字符串操作**: 处理提示词、响应文本、数据清洗\n",
    "- **正则表达式**: 文本模式匹配、数据提取\n",
    "- **编码/解码**: UTF-8、Base64等，处理多语言文本\n",
    "\n",
    "### 4. API和网络请求\n",
    "- **requests**: HTTP请求库，调用大模型API\n",
    "- **aiohttp**: 异步HTTP请求，提高并发性能\n",
    "- **WebSocket**: 实时通信，流式响应\n",
    "\n",
    "### 5. 异步编程\n",
    "- **async/await**: 处理并发请求，提高效率\n",
    "- **asyncio**: 异步IO操作，管理异步任务\n",
    "\n",
    "### 6. 大模型开发框架\n",
    "- **LangChain**: 构建大模型应用的综合框架\n",
    "- **FastAPI**: 构建API服务的现代框架\n",
    "- **Streamlit**: 快速构建大模型应用界面\n",
    "\n",
    "<hr>\n"
   ]
  },
  {
   "cell_type": "code",
   "execution_count": 91,
   "metadata": {
    "colab": {
     "base_uri": "https://localhost:8080/"
    },
    "id": "HPjkF4CwU27e",
    "outputId": "8705bd49-ac61-4a8e-d294-25861bce40cc"
   },
   "outputs": [
    {
     "name": "stdout",
     "output_type": "stream",
     "text": [
      "AI回复: 你好！我是AI助手，很高兴为你服务。\n",
      "使用的token数: 25\n"
     ]
    }
   ],
   "source": [
    "# 大模型技术中的Python基础示例\n",
    "\n",
    "# 1. 处理API响应数据（JSON格式）\n",
    "import json\n",
    "\n",
    "# 模拟LLM API响应\n",
    "api_response = {\n",
    "    \"choices\": [\n",
    "        {\n",
    "            \"message\": {\n",
    "                \"content\": \"你好！我是AI助手，很高兴为你服务。\",\n",
    "                \"role\": \"assistant\"\n",
    "            }\n",
    "        }\n",
    "    ],\n",
    "    \"usage\": {\n",
    "        \"prompt_tokens\": 10,\n",
    "        \"completion_tokens\": 15,\n",
    "        \"total_tokens\": 25\n",
    "    }\n",
    "}\n",
    "\n",
    "# 解析JSON数据\n",
    "response_data = json.loads(json.dumps(api_response))  # 模拟从API获取的数据\n",
    "print(\"AI回复:\", response_data[\"choices\"][0][\"message\"][\"content\"])\n",
    "print(\"使用的token数:\", response_data[\"usage\"][\"total_tokens\"])\n",
    "\n",
    "# 在实际开发中，你会这样调用API：\n",
    "# import requests\n",
    "# response = requests.post(\"https://api.openai.com/v1/chat/completions\",\n",
    "#                        headers={\"Authorization\": \"Bearer YOUR_API_KEY\"},\n",
    "#                        json={\"model\": \"gpt-3.5-turbo\", \"messages\": [{\"role\": \"user\", \"content\": \"你好\"}]})\n",
    "# data = response.json()\n"
   ]
  },
  {
   "cell_type": "code",
   "execution_count": 92,
   "metadata": {
    "colab": {
     "base_uri": "https://localhost:8080/"
    },
    "id": "g7of-4txU27g",
    "outputId": "c4e15894-a06c-4533-c329-adbeb14e7cbb"
   },
   "outputs": [
    {
     "name": "stdout",
     "output_type": "stream",
     "text": [
      "生成的提示词:\n",
      "系统消息: 你是一个有用的AI助手。\n",
      "\n",
      "用户输入: 请解释什么是机器学习？\n",
      "\n",
      "请根据以上信息提供帮助。\n"
     ]
    }
   ],
   "source": [
    "# 2. 文本处理和提示词工程\n",
    "def create_prompt(user_input, system_message=\"你是一个有用的AI助手。\"):\n",
    "    \"\"\"\n",
    "    创建结构化的提示词\n",
    "    这是大模型应用中的核心技能\n",
    "    \"\"\"\n",
    "    prompt = f\"\"\"\n",
    "系统消息: {system_message}\n",
    "\n",
    "用户输入: {user_input}\n",
    "\n",
    "请根据以上信息提供帮助。\n",
    "\"\"\"\n",
    "    return prompt.strip()\n",
    "\n",
    "# 使用示例\n",
    "user_question = \"请解释什么是机器学习？\"\n",
    "prompt = create_prompt(user_question)\n",
    "print(\"生成的提示词:\")\n",
    "print(prompt)\n",
    "\n",
    "# 提示词工程的最佳实践：\n",
    "# 1. 明确角色和任务\n",
    "# 2. 提供具体的指令\n",
    "# 3. 包含示例（few-shot learning）\n",
    "# 4. 设置输出格式要求\n"
   ]
  },
  {
   "cell_type": "code",
   "execution_count": 93,
   "metadata": {
    "colab": {
     "base_uri": "https://localhost:8080/"
    },
    "id": "32MeTJ3tU27g",
    "outputId": "5ec6756f-005d-409d-84e1-6263317c8abb"
   },
   "outputs": [
    {
     "name": "stdout",
     "output_type": "stream",
     "text": [
      "用户消息: ['你好', '请介绍一下Python']\n",
      "消息长度: [2, 14, 11, 18]\n",
      "按角色分组的消息: {'user': ['你好', '请介绍一下Python'], 'assistant': ['你好！有什么可以帮助你的吗？', 'Python是一种高级编程语言...']}\n"
     ]
    }
   ],
   "source": [
    "# 3. 列表推导式和数据处理（大模型数据处理常用）\n",
    "# 处理多个对话历史\n",
    "conversation_history = [\n",
    "    {\"role\": \"user\", \"content\": \"你好\"},\n",
    "    {\"role\": \"assistant\", \"content\": \"你好！有什么可以帮助你的吗？\"},\n",
    "    {\"role\": \"user\", \"content\": \"请介绍一下Python\"},\n",
    "    {\"role\": \"assistant\", \"content\": \"Python是一种高级编程语言...\"}\n",
    "]\n",
    "\n",
    "# 使用列表推导式提取所有用户消息\n",
    "user_messages = [msg[\"content\"] for msg in conversation_history if msg[\"role\"] == \"user\"]\n",
    "print(\"用户消息:\", user_messages)\n",
    "\n",
    "# 使用列表推导式计算每条消息的长度\n",
    "message_lengths = [len(msg[\"content\"]) for msg in conversation_history]\n",
    "print(\"消息长度:\", message_lengths)\n",
    "\n",
    "# 使用字典推导式创建角色到消息的映射\n",
    "role_messages = {msg[\"role\"]: [m[\"content\"] for m in conversation_history if m[\"role\"] == msg[\"role\"]]\n",
    "                 for msg in conversation_history}\n",
    "print(\"按角色分组的消息:\", role_messages)\n",
    "\n",
    "# 列表推导式在大模型开发中的优势：\n",
    "# 1. 代码简洁易读\n",
    "# 2. 性能优于传统循环\n",
    "# 3. 适合处理大量数据\n",
    "# 4. 易于并行化处理\n"
   ]
  },
  {
   "cell_type": "code",
   "execution_count": 94,
   "metadata": {
    "colab": {
     "base_uri": "https://localhost:8080/"
    },
    "id": "-NHDLq7LU27h",
    "outputId": "5136e90a-d679-4b25-d229-8e1ac3c4161d"
   },
   "outputs": [
    {
     "name": "stdout",
     "output_type": "stream",
     "text": [
      "提示词: '你好...'\n",
      "结果: {'success': True, 'data': 'AI回复: 你好...', 'error': None}\n",
      "----------------------------------------\n",
      "提示词: '...'\n",
      "结果: {'success': False, 'data': None, 'error': '值错误: 提示词不能为空'}\n",
      "----------------------------------------\n",
      "提示词: '很长的提示词很长的提示词很长的提示词很长...'\n",
      "结果: {'success': True, 'data': 'AI回复: 很长的提示词很长的提示词很长的提示词很长的提示词很长的提示词很长的提示词很长的提示词很长的提示词很长...', 'error': None}\n",
      "----------------------------------------\n"
     ]
    }
   ],
   "source": [
    "# 4. 错误处理和异常处理（大模型API调用必备）\n",
    "def safe_api_call(api_function, *args, **kwargs):\n",
    "    \"\"\"\n",
    "    安全地调用API函数，包含错误处理\n",
    "    这是大模型应用中的最佳实践\n",
    "    \"\"\"\n",
    "    try:\n",
    "        result = api_function(*args, **kwargs)\n",
    "        return {\"success\": True, \"data\": result, \"error\": None}\n",
    "    except ConnectionError as e:\n",
    "        return {\"success\": False, \"data\": None, \"error\": f\"连接错误: {e}\"}\n",
    "    except ValueError as e:\n",
    "        return {\"success\": False, \"data\": None, \"error\": f\"值错误: {e}\"}\n",
    "    except Exception as e:\n",
    "        return {\"success\": False, \"data\": None, \"error\": f\"未知错误: {e}\"}\n",
    "\n",
    "# 模拟API调用函数\n",
    "def mock_llm_api_call(prompt):\n",
    "    \"\"\"模拟LLM API调用\"\"\"\n",
    "    if not prompt:\n",
    "        raise ValueError(\"提示词不能为空\")\n",
    "    if len(prompt) > 1000:\n",
    "        raise ConnectionError(\"提示词过长，连接超时\")\n",
    "    return f\"AI回复: {prompt[:50]}...\"\n",
    "\n",
    "# 测试安全API调用\n",
    "test_prompts = [\"你好\", \"\", \"很长的提示词\" * 100]\n",
    "\n",
    "for prompt in test_prompts:\n",
    "    result = safe_api_call(mock_llm_api_call, prompt)\n",
    "    print(f\"提示词: '{prompt[:20]}...'\")\n",
    "    print(f\"结果: {result}\")\n",
    "    print(\"-\" * 40)\n",
    "\n",
    "# 错误处理在大模型开发中的重要性：\n",
    "# 1. API调用可能失败（网络问题、配额限制等）\n",
    "# 2. 输入数据可能无效\n",
    "# 3. 模型可能返回意外结果\n",
    "# 4. 需要优雅地处理各种异常情况\n"
   ]
  },
  {
   "cell_type": "code",
   "execution_count": 95,
   "metadata": {
    "colab": {
     "base_uri": "https://localhost:8080/"
    },
    "id": "8Qw7dBHCU27i",
    "outputId": "2898544d-11a8-480e-8781-6d6c7459d9a8"
   },
   "outputs": [
    {
     "name": "stdout",
     "output_type": "stream",
     "text": [
      "客户端信息: LLMClient(model=gpt-4, messages=3)\n",
      "对话上下文: [{'role': 'user', 'content': '你好'}, {'role': 'assistant', 'content': '你好！有什么可以帮助你的吗？'}, {'role': 'user', 'content': '请介绍一下Python'}]\n"
     ]
    }
   ],
   "source": [
    "# 5. 类和对象（大模型应用架构设计）\n",
    "class LLMClient:\n",
    "    \"\"\"\n",
    "    大语言模型客户端类\n",
    "    展示面向对象编程在大模型应用中的应用\n",
    "    \"\"\"\n",
    "    def __init__(self, model_name=\"gpt-3.5-turbo\", api_key=None):\n",
    "        self.model_name = model_name\n",
    "        self.api_key = api_key\n",
    "        self.conversation_history = []\n",
    "\n",
    "    def add_message(self, role, content):\n",
    "        \"\"\"添加消息到对话历史\"\"\"\n",
    "        self.conversation_history.append({\n",
    "            \"role\": role,\n",
    "            \"content\": content\n",
    "        })\n",
    "\n",
    "    def get_conversation_context(self, max_messages=10):\n",
    "        \"\"\"获取对话上下文（最近的消息）\"\"\"\n",
    "        return self.conversation_history[-max_messages:]\n",
    "\n",
    "    def clear_history(self):\n",
    "        \"\"\"清空对话历史\"\"\"\n",
    "        self.conversation_history = []\n",
    "\n",
    "    def __str__(self):\n",
    "        return f\"LLMClient(model={self.model_name}, messages={len(self.conversation_history)})\"\n",
    "\n",
    "# 使用示例\n",
    "client = LLMClient(\"gpt-4\", \"your-api-key\")\n",
    "client.add_message(\"user\", \"你好\")\n",
    "client.add_message(\"assistant\", \"你好！有什么可以帮助你的吗？\")\n",
    "client.add_message(\"user\", \"请介绍一下Python\")\n",
    "\n",
    "print(\"客户端信息:\", client)\n",
    "print(\"对话上下文:\", client.get_conversation_context())\n",
    "\n",
    "# 面向对象编程在大模型开发中的优势：\n",
    "# 1. 封装：将相关功能组织在一起\n",
    "# 2. 继承：创建不同类型的模型客户端\n",
    "# 3. 多态：支持不同的模型接口\n",
    "# 4. 维护性：代码结构清晰，易于维护和扩展\n"
   ]
  },
  {
   "cell_type": "markdown",
   "metadata": {
    "id": "eJN3lY28U28X"
   },
   "source": [
    "## 实践作业 - 大模型应用开发\n",
    "\n",
    "> **目标**：通过实际项目练习，巩固Python基础知识，并掌握大模型开发的核心技能。\n",
    "\n",
    "### 作业1：构建简单的聊天机器人\n",
    "\n",
    "**任务描述**：创建一个简单的聊天机器人，能够处理用户输入并生成回复。\n",
    "\n",
    "**要求**：\n",
    "1. 使用字典存储对话历史\n",
    "2. 实现基本的输入验证\n",
    "3. 添加错误处理机制\n",
    "4. 支持多种回复模式\n",
    "\n",
    "**提示**：\n",
    "```python\n",
    "# 基础框架\n",
    "class SimpleChatBot:\n",
    "    def __init__(self):\n",
    "        self.conversation_history = []\n",
    "        self.responses = {\n",
    "            \"你好\": \"你好！有什么可以帮助你的吗？\",\n",
    "            \"再见\": \"再见！祝你有美好的一天！\",\n",
    "            \"帮助\": \"我可以回答你的问题，请告诉我你想了解什么。\"\n",
    "        }\n",
    "    \n",
    "    def chat(self, user_input):\n",
    "        # 实现聊天逻辑\n",
    "        pass\n",
    "```\n",
    "\n",
    "### 作业2：API响应数据处理器\n",
    "\n",
    "**任务描述**：创建一个数据处理系统，用于处理大模型API的响应数据。\n",
    "\n",
    "**要求**：\n",
    "1. 解析JSON格式的API响应\n",
    "2. 提取关键信息（内容、tokens、成本等）\n",
    "3. 计算统计信息（总tokens、平均成本等）\n",
    "4. 生成数据报告\n",
    "\n",
    "**提示**：\n",
    "```python\n",
    "# 示例API响应\n",
    "api_response = {\n",
    "    \"choices\": [{\"message\": {\"content\": \"AI回复内容\"}}],\n",
    "    \"usage\": {\"total_tokens\": 150, \"prompt_tokens\": 50, \"completion_tokens\": 100},\n",
    "    \"model\": \"gpt-3.5-turbo\"\n",
    "}\n",
    "```\n",
    "\n",
    "\n",
    "## 作业评分标准\n",
    "\n",
    "### 基础要求（一般）\n",
    "- 代码能够正常运行\n",
    "- 实现基本功能\n",
    "- 代码结构清晰\n",
    "\n",
    "### 进阶要求（良好）\n",
    "- 添加适当的错误处理\n",
    "- 代码注释完整\n",
    "- 性能优化合理\n",
    "\n",
    "### 高级要求（优秀）\n",
    "- 代码设计优雅\n",
    "- 功能完整且实用\n",
    "- 包含测试用例\n",
    "- 文档说明详细\n",
    "\n",
    "## 提交要求\n",
    "\n",
    "1. **代码文件**：将练习代码保存为.py文件\n",
    "2. **运行截图**：展示程序运行结果\n",
    "3. **说明文档**：简要说明实现思路和功能特点\n",
    "4. **问题记录**：记录遇到的问题和解决方案\n",
    "\n",
    "## 学习资源\n",
    "\n",
    "- [Python官方文档](https://docs.python.org/3/)\n",
    "- [Jupyter Notebook教程](https://jupyter-notebook.readthedocs.io/)\n",
    "- [大模型开发最佳实践](https://platform.openai.com/docs)\n",
    "- [Python代码规范](https://pep8.org/)\n",
    "\n",
    "---\n",
    "\n",
    "**开始你的实践之旅吧！** 记住，编程是一门实践性很强的技能，多动手练习才能真正掌握。🚀\n"
   ]
  },
  {
   "cell_type": "markdown",
   "metadata": {
    "id": "gjCnQPCvgcrf"
   },
   "source": [
    "## 实践作业参考实现\n",
    "以下是两个实践作业的参考实现代码。你可以运行这些代码，观察输出结果，并尝试理解代码逻辑。这些实现包含了基础功能、输入验证和错误处理等，可以作为你完成作业的起点。"
   ]
  },
  {
   "cell_type": "code",
   "execution_count": 96,
   "metadata": {
    "colab": {
     "base_uri": "https://localhost:8080/"
    },
    "id": "9b0fe2d0",
    "outputId": "407149f9-1d63-47a2-e6f1-c2d99f139f4b"
   },
   "outputs": [
    {
     "name": "stdout",
     "output_type": "stream",
     "text": [
      "--- 简单的聊天机器人示例 ---\n",
      "用户: 你好\n",
      "机器人: 你好！有什么可以帮助你的吗？\n",
      "\n",
      "用户: 请介绍一下Python\n",
      "机器人: Python是一种高级编程语言，以其简洁易读的语法而闻名，广泛应用于Web开发、数据分析、人工智能等领域。\n",
      "\n",
      "用户: 今天天气如何？\n",
      "机器人: 抱歉，我没有理解你的意思。你可以问我‘你好’、‘再见’或‘帮助’。\n",
      "\n",
      "用户: \n",
      "错误：用户输入必须是非空字符串。\n",
      "机器人: 请输入有效的文本。\n",
      "\n",
      "用户: 再见\n",
      "机器人: 再见！祝你有美好的一天！\n",
      "\n",
      "--- 对话历史 ---\n",
      "user: 你好\n",
      "assistant: 你好！有什么可以帮助你的吗？\n",
      "user: 请介绍一下Python\n",
      "assistant: Python是一种高级编程语言，以其简洁易读的语法而闻名，广泛应用于Web开发、数据分析、人工智能等领域。\n",
      "user: 今天天气如何？\n",
      "assistant: 抱歉，我没有理解你的意思。你可以问我‘你好’、‘再见’或‘帮助’。\n",
      "user: \n",
      "assistant: 再见！祝你有美好的一天！\n",
      "user: 再见\n"
     ]
    }
   ],
   "source": [
    "# 作业 1：构建简单的聊天机器人实现\n",
    "\n",
    "class SimpleChatBot:\n",
    "    def __init__(self):\n",
    "        # 使用字典存储对话历史，键为角色，值为消息列表\n",
    "        self.conversation_history = {\n",
    "            \"user\": [],\n",
    "            \"assistant\": []\n",
    "        }\n",
    "        # 预设回复字典\n",
    "        self.responses = {\n",
    "            \"你好\": \"你好！有什么可以帮助你的吗？\",\n",
    "            \"再见\": \"再见！祝你有美好的一天！\",\n",
    "            \"帮助\": \"我可以回答你的问题，请告诉我你想了解什么。\",\n",
    "            \"请介绍一下python\": \"Python是一种高级编程语言，以其简洁易读的语法而闻名，广泛应用于Web开发、数据分析、人工智能等领域。\",\n",
    "            \"默认\": \"抱歉，我没有理解你的意思。你可以问我‘你好’、‘再见’或‘帮助’。\"\n",
    "        }\n",
    "\n",
    "    def chat(self, user_input):\n",
    "        \"\"\"\n",
    "        处理用户输入并生成回复\n",
    "        \"\"\"\n",
    "        # 1. 实现基本的输入验证\n",
    "        if not isinstance(user_input, str) or not user_input.strip():\n",
    "            print(\"错误：用户输入必须是非空字符串。\")\n",
    "            self.conversation_history[\"user\"].append({\"content\": user_input, \"status\": \"invalid\"})\n",
    "            return \"请输入有效的文本。\"\n",
    "\n",
    "        cleaned_input = user_input.strip().lower()\n",
    "        self.conversation_history[\"user\"].append({\"content\": user_input, \"status\": \"valid\"})\n",
    "\n",
    "        # 2. 添加错误处理机制（这里模拟简单的查找错误）\n",
    "        try:\n",
    "            # 3. 支持多种回复模式\n",
    "            # 尝试在预设回复中查找匹配\n",
    "            response_content = self.responses.get(cleaned_input, self.responses[\"默认\"])\n",
    "            response_status = \"success\"\n",
    "\n",
    "        except Exception as e:\n",
    "            response_content = f\"处理回复时发生错误: {e}\"\n",
    "            response_status = \"error\"\n",
    "            print(f\"内部错误: {e}\") # 记录内部错误日志\n",
    "\n",
    "        self.conversation_history[\"assistant\"].append({\"content\": response_content, \"status\": response_status})\n",
    "        return response_content\n",
    "\n",
    "    def get_history(self):\n",
    "        \"\"\"\n",
    "        获取完整的对话历史\n",
    "        \"\"\"\n",
    "        # 将用户和助手消息按时间顺序合并（简单合并，实际应用需要时间戳）\n",
    "        history = []\n",
    "        user_msgs = self.conversation_history[\"user\"]\n",
    "        assistant_msgs = self.conversation_history[\"assistant\"]\n",
    "        min_len = min(len(user_msgs), len(assistant_msgs))\n",
    "\n",
    "        for i in range(min_len):\n",
    "            history.append({\"role\": \"user\", \"content\": user_msgs[i][\"content\"]})\n",
    "            history.append({\"role\": \"assistant\", \"content\": assistant_msgs[i][\"content\"]})\n",
    "\n",
    "        # 添加剩余的消息\n",
    "        if len(user_msgs) > len(assistant_msgs):\n",
    "            for i in range(min_len, len(user_msgs)):\n",
    "                 history.append({\"role\": \"user\", \"content\": user_msgs[i][\"content\"]})\n",
    "        elif len(assistant_msgs) > len(user_msgs):\n",
    "             for i in range(min_len, len(assistant_msgs)):\n",
    "                 history.append({\"role\": \"assistant\", \"content\": assistant_msgs[i][\"content\"]})\n",
    "\n",
    "        return history\n",
    "\n",
    "\n",
    "# --- 运行示例 ---\n",
    "print(\"--- 简单的聊天机器人示例 ---\")\n",
    "bot = SimpleChatBot()\n",
    "\n",
    "# 进行一些对话\n",
    "print(\"用户: 你好\")\n",
    "print(\"机器人:\", bot.chat(\"你好\"))\n",
    "\n",
    "print(\"\\n用户: 请介绍一下Python\")\n",
    "print(\"机器人:\", bot.chat(\"请介绍一下Python\"))\n",
    "\n",
    "print(\"\\n用户: 今天天气如何？\")\n",
    "print(\"机器人:\", bot.chat(\"今天天气如何？\"))\n",
    "\n",
    "print(\"\\n用户: \") # 测试空输入\n",
    "print(\"机器人:\", bot.chat(\"\"))\n",
    "\n",
    "print(\"\\n用户: 再见\")\n",
    "print(\"机器人:\", bot.chat(\"再见\"))\n",
    "\n",
    "# 查看对话历史\n",
    "print(\"\\n--- 对话历史 ---\")\n",
    "full_history = bot.get_history()\n",
    "for msg in full_history:\n",
    "    print(f\"{msg['role']}: {msg['content']}\")"
   ]
  },
  {
   "cell_type": "code",
   "execution_count": 97,
   "metadata": {
    "colab": {
     "base_uri": "https://localhost:8080/"
    },
    "id": "12b553d9",
    "outputId": "3d692ed5-fef5-46a3-d8bb-16555dad6efb"
   },
   "outputs": [
    {
     "name": "stdout",
     "output_type": "stream",
     "text": [
      "--- API 响应数据处理器示例 ---\n",
      "--- 开始处理API响应 ---\n",
      "✅ 成功处理响应 1\n",
      "✅ 成功处理响应 2\n",
      "✅ 成功处理响应 3\n",
      "✅ 成功处理响应 4\n",
      "✅ 成功处理响应 5\n",
      "--- API响应处理完成 ---\n",
      "\n",
      "--- API 响应处理报告 ---\n",
      "\n",
      "总响应数: 5\n",
      "成功处理数: 5\n",
      "失败处理数: 0\n",
      "\n",
      "总 Token 使用量: 470\n",
      "平均每次成功调用 Token 数: 94\n",
      "\n",
      "总预估成本: $0.0123\n",
      "平均每次成功调用成本: $0.0025\n",
      "\n",
      "使用的模型: gpt-4, Unknown, gpt-3.5-turbo, claude-3\n",
      "\n",
      "--- 详细处理结果 ---\n",
      "\n",
      "成功响应详情:\n",
      "|   response_id | model         | content   |   total_tokens |   prompt_tokens |   completion_tokens |   estimated_cost | status   | error_message   |\n",
      "|--------------:|:--------------|:----------|---------------:|----------------:|--------------------:|-----------------:|:---------|:----------------|\n",
      "|             1 | gpt-3.5-turbo | AI 回复 1 |            100 |              30 |                  70 |          0.00255 | Success  |                 |\n",
      "|             2 | gpt-4         | AI 回复 2 |            250 |              50 |                 200 |          0.00675 | Success  |                 |\n",
      "|             3 | Unknown       | N/A       |              0 |               0 |                   0 |          0       | Success  |                 |\n",
      "|             4 | gpt-3.5-turbo | AI 回复 3 |            120 |              40 |                  80 |          0.003   | Success  |                 |\n",
      "|             5 | claude-3      | AI 回复 4 |              0 |               0 |                   0 |          0       | Success  |                 |\n",
      "无失败响应详情。\n",
      "\n",
      "--- 进一步分析 ---\n",
      "按模型分组的总tokens:\n",
      "model\n",
      "Unknown            0\n",
      "claude-3           0\n",
      "gpt-3.5-turbo    220\n",
      "gpt-4            250\n",
      "Name: total_tokens, dtype: int64\n",
      "\n",
      "按模型分组的总成本:\n",
      "model\n",
      "Unknown          $0.0000\n",
      "claude-3         $0.0000\n",
      "gpt-3.5-turbo    $0.0055\n",
      "gpt-4            $0.0067\n",
      "Name: estimated_cost, dtype: object\n"
     ]
    }
   ],
   "source": [
    "# 作业 2：API 响应数据处理器实现\n",
    "\n",
    "import json\n",
    "import pandas as pd\n",
    "\n",
    "class APIResponseProcessor:\n",
    "    def __init__(self, api_responses):\n",
    "        # 存储原始API响应列表\n",
    "        self.api_responses = api_responses\n",
    "        # 存储处理后的数据列表\n",
    "        self.processed_data = []\n",
    "        # 存储错误信息\n",
    "        self.errors = []\n",
    "\n",
    "    def process_responses(self):\n",
    "        \"\"\"\n",
    "        解析JSON格式的API响应，提取关键信息，并处理错误\n",
    "        \"\"\"\n",
    "        print(\"--- 开始处理API响应 ---\")\n",
    "        for i, raw_response in enumerate(self.api_responses):\n",
    "            try:\n",
    "                # 1. 解析JSON格式的API响应\n",
    "                # 假设原始响应已经是Python字典，如果不是JSON字符串，需要json.loads()\n",
    "                # response_data = json.loads(raw_response)\n",
    "                response_data = raw_response # 假设raw_response已经是字典\n",
    "\n",
    "                # 2. 提取关键信息（内容、tokens、成本等）\n",
    "                # 使用.get()方法安全访问嵌套字典，避免KeyError\n",
    "                content = response_data.get('choices', [{}])[0].get('message', {}).get('content', 'N/A')\n",
    "                usage = response_data.get('usage', {})\n",
    "                total_tokens = usage.get('total_tokens', 0)\n",
    "                prompt_tokens = usage.get('prompt_tokens', 0)\n",
    "                completion_tokens = usage.get('completion_tokens', 0)\n",
    "                model_name = response_data.get('model', 'Unknown')\n",
    "                # 假设成本信息可以直接从响应中获取或根据tokens计算\n",
    "                # 这里模拟一个成本计算：假设每完成token成本为0.00003美元\n",
    "                cost = completion_tokens * 0.00003 + prompt_tokens * 0.000015 # 示例成本计算\n",
    "\n",
    "                processed_item = {\n",
    "                    \"response_id\": i + 1,\n",
    "                    \"model\": model_name,\n",
    "                    \"content\": content,\n",
    "                    \"total_tokens\": total_tokens,\n",
    "                    \"prompt_tokens\": prompt_tokens,\n",
    "                    \"completion_tokens\": completion_tokens,\n",
    "                    \"estimated_cost\": cost,\n",
    "                    \"status\": \"Success\",\n",
    "                    \"error_message\": None\n",
    "                }\n",
    "                self.processed_data.append(processed_item)\n",
    "                print(f\"✅ 成功处理响应 {i+1}\")\n",
    "\n",
    "            except (json.JSONDecodeError, KeyError, IndexError, Exception) as e:\n",
    "                error_info = {\n",
    "                    \"response_id\": i + 1,\n",
    "                    \"status\": \"Failed\",\n",
    "                    \"error_message\": str(e),\n",
    "                    \"raw_response\": raw_response\n",
    "                }\n",
    "                self.errors.append(error_info)\n",
    "                print(f\"❌ 处理响应 {i+1} 失败: {e}\")\n",
    "\n",
    "        print(\"--- API响应处理完成 ---\")\n",
    "        return self.processed_data, self.errors\n",
    "\n",
    "    def calculate_statistics(self):\n",
    "        \"\"\"\n",
    "        计算统计信息（总 tokens、平均成本等）\n",
    "        \"\"\"\n",
    "        if not self.processed_data:\n",
    "            return {\n",
    "                \"total_responses\": 0,\n",
    "                \"successful_responses\": 0,\n",
    "                \"failed_responses\": len(self.errors),\n",
    "                \"total_tokens_used\": 0,\n",
    "                \"average_tokens_per_success\": 0,\n",
    "                \"total_estimated_cost\": 0,\n",
    "                \"average_cost_per_success\": 0,\n",
    "                \"models_used\": []\n",
    "            }\n",
    "\n",
    "        successful_count = len(self.processed_data)\n",
    "        total_tokens_used = sum(item['total_tokens'] for item in self.processed_data)\n",
    "        total_estimated_cost = sum(item['estimated_cost'] for item in self.processed_data)\n",
    "        models_used = list(set(item['model'] for item in self.processed_data))\n",
    "\n",
    "        average_tokens_per_success = total_tokens_used / successful_count if successful_count > 0 else 0\n",
    "        average_cost_per_success = total_estimated_cost / successful_count if successful_count > 0 else 0\n",
    "\n",
    "\n",
    "        stats = {\n",
    "            \"total_responses\": len(self.api_responses),\n",
    "            \"successful_responses\": successful_count,\n",
    "            \"failed_responses\": len(self.errors),\n",
    "            \"total_tokens_used\": total_tokens_used,\n",
    "            \"average_tokens_per_success\": average_tokens_per_success,\n",
    "            \"total_estimated_cost\": total_estimated_cost,\n",
    "            \"average_cost_per_success\": average_cost_per_success,\n",
    "            \"models_used\": models_used\n",
    "        }\n",
    "        return stats\n",
    "\n",
    "    def generate_report(self):\n",
    "        \"\"\"\n",
    "        生成数据报告\n",
    "        \"\"\"\n",
    "        stats = self.calculate_statistics()\n",
    "        report = f\"\"\"\n",
    "--- API 响应处理报告 ---\n",
    "\n",
    "总响应数: {stats['total_responses']}\n",
    "成功处理数: {stats['successful_responses']}\n",
    "失败处理数: {stats['failed_responses']}\n",
    "\n",
    "总 Token 使用量: {stats['total_tokens_used']:,}\n",
    "平均每次成功调用 Token 数: {stats['average_tokens_per_success']:.0f}\n",
    "\n",
    "总预估成本: ${stats['total_estimated_cost']:.4f}\n",
    "平均每次成功调用成本: ${stats['average_cost_per_success']:.4f}\n",
    "\n",
    "使用的模型: {', '.join(stats['models_used'])}\n",
    "\n",
    "--- 详细处理结果 ---\n",
    "\"\"\"\n",
    "        # 将处理结果转换为DataFrame以便展示\n",
    "        if self.processed_data:\n",
    "            df = pd.DataFrame(self.processed_data)\n",
    "            report += \"\\n成功响应详情:\\n\"\n",
    "            report += df.to_markdown(index=False)\n",
    "        else:\n",
    "            report += \"\\n无成功响应详情。\"\n",
    "\n",
    "        if self.errors:\n",
    "            error_df = pd.DataFrame(self.errors)\n",
    "            report += \"\\n\\n失败响应详情:\\n\"\n",
    "            report += error_df.to_markdown(index=False)\n",
    "        else:\n",
    "             report += \"\\n无失败响应详情。\"\n",
    "\n",
    "\n",
    "        return report\n",
    "\n",
    "# --- 运行示例 ---\n",
    "print(\"--- API 响应数据处理器示例 ---\")\n",
    "\n",
    "# 模拟一批API响应数据\n",
    "mock_api_responses = [\n",
    "    {\n",
    "        \"choices\": [{\"message\": {\"content\": \"AI 回复 1\"}}],\n",
    "        \"usage\": {\"total_tokens\": 100, \"prompt_tokens\": 30, \"completion_tokens\": 70},\n",
    "        \"model\": \"gpt-3.5-turbo\"\n",
    "    },\n",
    "    {\n",
    "        \"choices\": [{\"message\": {\"content\": \"AI 回复 2\"}}],\n",
    "        \"usage\": {\"total_tokens\": 250, \"prompt_tokens\": 50, \"completion_tokens\": 200},\n",
    "        \"model\": \"gpt-4\"\n",
    "    },\n",
    "    # 模拟一个格式错误的响应\n",
    "    {\"invalid_field\": \"this is wrong\"},\n",
    "    {\n",
    "        \"choices\": [{\"message\": {\"content\": \"AI 回复 3\"}}],\n",
    "        \"usage\": {\"total_tokens\": 120, \"prompt_tokens\": 40, \"completion_tokens\": 80},\n",
    "        \"model\": \"gpt-3.5-turbo\"\n",
    "    },\n",
    "     # 模拟一个缺少usage字段的响应\n",
    "    {\n",
    "        \"choices\": [{\"message\": {\"content\": \"AI 回复 4\"}}],\n",
    "        \"model\": \"claude-3\"\n",
    "    },\n",
    "]\n",
    "\n",
    "# 创建处理器实例并处理响应\n",
    "processor = APIResponseProcessor(mock_api_responses)\n",
    "processed_data, errors = processor.process_responses()\n",
    "\n",
    "# 生成并打印报告\n",
    "report = processor.generate_report()\n",
    "print(report)\n",
    "\n",
    "# 进一步分析处理后的数据\n",
    "if processed_data:\n",
    "    print(\"\\n--- 进一步分析 ---\")\n",
    "    df_results = pd.DataFrame(processed_data)\n",
    "    print(\"按模型分组的总tokens:\")\n",
    "    print(df_results.groupby('model')['total_tokens'].sum())\n",
    "\n",
    "    print(\"\\n按模型分组的总成本:\")\n",
    "    print(df_results.groupby('model')['estimated_cost'].sum().apply(lambda x: f\"${x:.4f}\"))"
   ]
  }
 ],
 "metadata": {
  "colab": {
   "include_colab_link": true,
   "provenance": []
  },
  "kernelspec": {
   "display_name": "Python (agent101)",
   "language": "python",
   "name": "agent101"
  },
  "language_info": {
   "codemirror_mode": {
    "name": "ipython",
    "version": 3
   },
   "file_extension": ".py",
   "mimetype": "text/x-python",
   "name": "python",
   "nbconvert_exporter": "python",
   "pygments_lexer": "ipython3",
   "version": "3.10.18"
  }
 },
 "nbformat": 4,
 "nbformat_minor": 4
}
